{
  "cells": [
    {
      "cell_type": "markdown",
      "id": "85c78bff",
      "metadata": {
        "id": "85c78bff"
      },
      "source": [
        "# Project Title: Prediction Product AD Campaign Performance"
      ]
    },
    {
      "cell_type": "markdown",
      "id": "331c116e",
      "metadata": {
        "id": "331c116e"
      },
      "source": [
        "#### Problem Statement :  \n",
        "Our client, a leading outdoor apparel company, seeks to predict the performance of product ad campaigns before launch to optimize their marketing efforts. This project aims to develop a predictive model that forecasts key performance indicators (KPIs) for future campaigns, providing valuable insights for strategic decision-making and resource allocation. Ultimately, this will enhance marketing effectiveness and improve the ROI by focusing on the most effective channels and strategies."
      ]
    },
    {
      "cell_type": "markdown",
      "id": "c561f78a",
      "metadata": {
        "id": "c561f78a"
      },
      "source": [
        "## About the dataset:\n",
        "\n",
        "limit_infor: limits or restrictions associated with the marketing campaign or product.\n",
        "\n",
        "campaign_type: type of marketing campaign, such as email, social media, print advertising,etc\n",
        "\n",
        "campaign_level: level or scale of the marketing campaign, for example, national, regional, or local.\n",
        "\n",
        "product_level: level or category of the product being marketed, such as high-end, mid-range, or budget.\n",
        "\n",
        "resource_amount: resources (e.g., budget, personnel, or materials) allocated for the marketing campaign.\n",
        "\n",
        "email_rate: email delivery rate or open rate.\n",
        "\n",
        "price: selling price of the product.\n",
        "\n",
        "discount_rate: discounts or promotional offers associated with the product.\n",
        "\n",
        "hour_resources: the number of labor hours or human resources dedicated to the marketing campaign or product sales efforts.\n",
        "\n",
        "campaign_fee: fees or costs associated with running the marketing campaign.\n",
        "\n",
        "orders: number of orders or sales generated for the product during the marketing campaign."
      ]
    },
    {
      "cell_type": "markdown",
      "id": "286c0edf",
      "metadata": {
        "id": "286c0edf"
      },
      "source": [
        "## Table of Content\n",
        "\n",
        "1. **[Import Libraries](#lib)**\n",
        "2. **[Data Preparation](#prep)**\n",
        "    - 2.1 - **[Read the Data](#read)**\n",
        "    - 2.2 - **[Getting basic statistics for the data](#dtype)**\n",
        "    - 2.3 - **[Check the Data Type](#info)**\n",
        "    - 2.4 - **[Check for duplicates](#dup)**\n",
        "    - 2.5 - **[Missing Value Treatment](#null)**\n",
        "    - 2.6 - **[Distribution of Variables](#dist)**\n",
        "    - 2.7 - **[Scale the Data](#scale)**\n",
        "    - 2.8 - **[Train-Test Split](#split)**\n",
        "3. **[Linear Regression](#linear)**\n",
        "4. **[Support Vector Machine (SVM)](#svm)**\n",
        "5. **[Random Forest Regression(RFR)](#rfr)**\n",
        "    - 5.1 - **[Tune the Hyperparameters using GridSearchCV](#tune)**\n",
        "    - 5.2 - **[Identify the Important Features](#features)**"
      ]
    },
    {
      "cell_type": "markdown",
      "id": "ae9296f9",
      "metadata": {
        "id": "ae9296f9"
      },
      "source": [
        "<a id=\"lib\"></a>\n",
        "# 1. Import Libraries"
      ]
    },
    {
      "cell_type": "markdown",
      "id": "a0987333",
      "metadata": {
        "id": "a0987333"
      },
      "source": [
        "**Let us import the required libraries.**"
      ]
    },
    {
      "cell_type": "code",
      "execution_count": null,
      "id": "29c15bb3",
      "metadata": {
        "id": "29c15bb3"
      },
      "outputs": [],
      "source": [
        "# import 'Pandas'\n",
        "import pandas as pd\n",
        "\n",
        "# import 'Numpy'\n",
        "import numpy as np\n",
        "\n",
        "# import subpackage of Matplotlib\n",
        "%matplotlib inline\n",
        "import matplotlib.pyplot as plt\n",
        "\n",
        "# import 'Seaborn'\n",
        "import seaborn as sns\n",
        "\n",
        "# import various functions from statsmodels\n",
        "import statsmodels\n",
        "import statsmodels.api as sm\n",
        "\n",
        "# import MinMaxScaler to perform scaling\n",
        "from sklearn.preprocessing import MinMaxScaler\n",
        "\n",
        "\n",
        "# import train-test split\n",
        "from sklearn.model_selection import train_test_split\n",
        "\n",
        "# import various functions from sklearn\n",
        "from sklearn.linear_model import LinearRegression\n",
        "from sklearn.metrics import mean_squared_error\n",
        "from sklearn.ensemble import RandomForestRegressor\n",
        "from sklearn import tree\n",
        "from sklearn.model_selection import GridSearchCV"
      ]
    },
    {
      "cell_type": "markdown",
      "id": "1b09782c",
      "metadata": {
        "id": "1b09782c"
      },
      "source": [
        "<a id=\"prep\"></a>\n",
        "# 2. Data Preparation"
      ]
    },
    {
      "cell_type": "markdown",
      "id": "f5017d78",
      "metadata": {
        "id": "f5017d78"
      },
      "source": [
        "<a id=\"read\"></a>\n",
        "## 2.1 Read the Data"
      ]
    },
    {
      "cell_type": "code",
      "execution_count": null,
      "id": "cb57fb43",
      "metadata": {
        "id": "cb57fb43"
      },
      "outputs": [],
      "source": [
        "# load the csv file\n",
        "# store the data in 'df'\n",
        "df = pd.read_csv(\"products_campaign_sales.csv\")"
      ]
    },
    {
      "cell_type": "markdown",
      "id": "41b20cbd",
      "metadata": {
        "id": "41b20cbd"
      },
      "source": [
        "#### Read the dataset and print the first five observations."
      ]
    },
    {
      "cell_type": "code",
      "execution_count": null,
      "id": "e31929ec",
      "metadata": {
        "id": "e31929ec",
        "outputId": "9985e165-b2ea-4eba-ad1f-b9604e1ad8ee"
      },
      "outputs": [
        {
          "data": {
            "text/html": [
              "<div>\n",
              "<style scoped>\n",
              "    .dataframe tbody tr th:only-of-type {\n",
              "        vertical-align: middle;\n",
              "    }\n",
              "\n",
              "    .dataframe tbody tr th {\n",
              "        vertical-align: top;\n",
              "    }\n",
              "\n",
              "    .dataframe thead th {\n",
              "        text-align: right;\n",
              "    }\n",
              "</style>\n",
              "<table border=\"1\" class=\"dataframe\">\n",
              "  <thead>\n",
              "    <tr style=\"text-align: right;\">\n",
              "      <th></th>\n",
              "      <th>limit_infor</th>\n",
              "      <th>campaign_type</th>\n",
              "      <th>campaign_level</th>\n",
              "      <th>product_level</th>\n",
              "      <th>resource_amount</th>\n",
              "      <th>email_rate</th>\n",
              "      <th>price</th>\n",
              "      <th>discount_rate</th>\n",
              "      <th>hour_resouces</th>\n",
              "      <th>campaign_fee</th>\n",
              "      <th>orders</th>\n",
              "    </tr>\n",
              "  </thead>\n",
              "  <tbody>\n",
              "    <tr>\n",
              "      <th>0</th>\n",
              "      <td>0</td>\n",
              "      <td>6</td>\n",
              "      <td>0</td>\n",
              "      <td>1</td>\n",
              "      <td>1</td>\n",
              "      <td>0.08</td>\n",
              "      <td>140.0</td>\n",
              "      <td>0.83</td>\n",
              "      <td>93</td>\n",
              "      <td>888</td>\n",
              "      <td>1981</td>\n",
              "    </tr>\n",
              "    <tr>\n",
              "      <th>1</th>\n",
              "      <td>0</td>\n",
              "      <td>0</td>\n",
              "      <td>0</td>\n",
              "      <td>1</td>\n",
              "      <td>1</td>\n",
              "      <td>0.10</td>\n",
              "      <td>144.0</td>\n",
              "      <td>0.75</td>\n",
              "      <td>150</td>\n",
              "      <td>836</td>\n",
              "      <td>986</td>\n",
              "    </tr>\n",
              "    <tr>\n",
              "      <th>2</th>\n",
              "      <td>0</td>\n",
              "      <td>1</td>\n",
              "      <td>1</td>\n",
              "      <td>1</td>\n",
              "      <td>1</td>\n",
              "      <td>0.12</td>\n",
              "      <td>149.0</td>\n",
              "      <td>0.84</td>\n",
              "      <td>86</td>\n",
              "      <td>1330</td>\n",
              "      <td>1416</td>\n",
              "    </tr>\n",
              "    <tr>\n",
              "      <th>3</th>\n",
              "      <td>0</td>\n",
              "      <td>3</td>\n",
              "      <td>1</td>\n",
              "      <td>2</td>\n",
              "      <td>1</td>\n",
              "      <td>0.12</td>\n",
              "      <td>141.0</td>\n",
              "      <td>0.82</td>\n",
              "      <td>95</td>\n",
              "      <td>2273</td>\n",
              "      <td>2368</td>\n",
              "    </tr>\n",
              "    <tr>\n",
              "      <th>4</th>\n",
              "      <td>0</td>\n",
              "      <td>0</td>\n",
              "      <td>0</td>\n",
              "      <td>1</td>\n",
              "      <td>1</td>\n",
              "      <td>0.10</td>\n",
              "      <td>146.0</td>\n",
              "      <td>0.59</td>\n",
              "      <td>73</td>\n",
              "      <td>1456</td>\n",
              "      <td>1529</td>\n",
              "    </tr>\n",
              "  </tbody>\n",
              "</table>\n",
              "</div>"
            ],
            "text/plain": [
              "   limit_infor  campaign_type  campaign_level  product_level  resource_amount  \\\n",
              "0            0              6               0              1                1   \n",
              "1            0              0               0              1                1   \n",
              "2            0              1               1              1                1   \n",
              "3            0              3               1              2                1   \n",
              "4            0              0               0              1                1   \n",
              "\n",
              "   email_rate  price  discount_rate  hour_resouces  campaign_fee  orders  \n",
              "0        0.08  140.0           0.83             93           888    1981  \n",
              "1        0.10  144.0           0.75            150           836     986  \n",
              "2        0.12  149.0           0.84             86          1330    1416  \n",
              "3        0.12  141.0           0.82             95          2273    2368  \n",
              "4        0.10  146.0           0.59             73          1456    1529  "
            ]
          },
          "execution_count": 3,
          "metadata": {},
          "output_type": "execute_result"
        }
      ],
      "source": [
        "# display first 5 columns\n",
        "df.head()"
      ]
    },
    {
      "cell_type": "code",
      "execution_count": null,
      "id": "235a8bd3",
      "metadata": {
        "id": "235a8bd3",
        "outputId": "7e29317f-170c-4b84-bcca-78de928c1fa4"
      },
      "outputs": [
        {
          "data": {
            "text/plain": [
              "(731, 11)"
            ]
          },
          "execution_count": 4,
          "metadata": {},
          "output_type": "execute_result"
        }
      ],
      "source": [
        "# use 'shape' to check the dimension of data\n",
        "df.shape"
      ]
    },
    {
      "cell_type": "markdown",
      "id": "9afc7a0d",
      "metadata": {
        "id": "9afc7a0d"
      },
      "source": [
        "**Interpretation:** The dataset has 731 rows and 11 columns."
      ]
    },
    {
      "cell_type": "markdown",
      "id": "668f0e50",
      "metadata": {
        "id": "668f0e50"
      },
      "source": [
        "<a id=\"dtype\"></a>\n",
        "## 2.2 Getting Basic Statistics for the Data"
      ]
    },
    {
      "cell_type": "code",
      "execution_count": null,
      "id": "e3e896d4",
      "metadata": {
        "id": "e3e896d4",
        "outputId": "4a6335b0-4697-4c31-d30a-c1e7c8ecdcae"
      },
      "outputs": [
        {
          "data": {
            "text/html": [
              "<div>\n",
              "<style scoped>\n",
              "    .dataframe tbody tr th:only-of-type {\n",
              "        vertical-align: middle;\n",
              "    }\n",
              "\n",
              "    .dataframe tbody tr th {\n",
              "        vertical-align: top;\n",
              "    }\n",
              "\n",
              "    .dataframe thead th {\n",
              "        text-align: right;\n",
              "    }\n",
              "</style>\n",
              "<table border=\"1\" class=\"dataframe\">\n",
              "  <thead>\n",
              "    <tr style=\"text-align: right;\">\n",
              "      <th></th>\n",
              "      <th>limit_infor</th>\n",
              "      <th>campaign_type</th>\n",
              "      <th>campaign_level</th>\n",
              "      <th>product_level</th>\n",
              "      <th>resource_amount</th>\n",
              "      <th>email_rate</th>\n",
              "      <th>price</th>\n",
              "      <th>discount_rate</th>\n",
              "      <th>hour_resouces</th>\n",
              "      <th>campaign_fee</th>\n",
              "      <th>orders</th>\n",
              "    </tr>\n",
              "  </thead>\n",
              "  <tbody>\n",
              "    <tr>\n",
              "      <th>count</th>\n",
              "      <td>731.000000</td>\n",
              "      <td>731.000000</td>\n",
              "      <td>731.000000</td>\n",
              "      <td>731.000000</td>\n",
              "      <td>731.000000</td>\n",
              "      <td>731.000000</td>\n",
              "      <td>729.000000</td>\n",
              "      <td>731.000000</td>\n",
              "      <td>731.000000</td>\n",
              "      <td>731.000000</td>\n",
              "      <td>731.000000</td>\n",
              "    </tr>\n",
              "    <tr>\n",
              "      <th>mean</th>\n",
              "      <td>0.042408</td>\n",
              "      <td>2.997264</td>\n",
              "      <td>0.683995</td>\n",
              "      <td>1.395349</td>\n",
              "      <td>4.952120</td>\n",
              "      <td>0.474337</td>\n",
              "      <td>162.812071</td>\n",
              "      <td>0.809617</td>\n",
              "      <td>848.176471</td>\n",
              "      <td>3696.391245</td>\n",
              "      <td>4531.079343</td>\n",
              "    </tr>\n",
              "    <tr>\n",
              "      <th>std</th>\n",
              "      <td>0.404911</td>\n",
              "      <td>2.004787</td>\n",
              "      <td>0.465233</td>\n",
              "      <td>0.544894</td>\n",
              "      <td>1.838449</td>\n",
              "      <td>0.162913</td>\n",
              "      <td>14.267136</td>\n",
              "      <td>0.077679</td>\n",
              "      <td>686.622488</td>\n",
              "      <td>1908.643139</td>\n",
              "      <td>1932.532346</td>\n",
              "    </tr>\n",
              "    <tr>\n",
              "      <th>min</th>\n",
              "      <td>0.000000</td>\n",
              "      <td>0.000000</td>\n",
              "      <td>0.000000</td>\n",
              "      <td>1.000000</td>\n",
              "      <td>1.000000</td>\n",
              "      <td>0.080000</td>\n",
              "      <td>100.000000</td>\n",
              "      <td>0.490000</td>\n",
              "      <td>2.000000</td>\n",
              "      <td>20.000000</td>\n",
              "      <td>22.000000</td>\n",
              "    </tr>\n",
              "    <tr>\n",
              "      <th>25%</th>\n",
              "      <td>0.000000</td>\n",
              "      <td>1.000000</td>\n",
              "      <td>0.000000</td>\n",
              "      <td>1.000000</td>\n",
              "      <td>3.000000</td>\n",
              "      <td>0.340000</td>\n",
              "      <td>152.000000</td>\n",
              "      <td>0.770000</td>\n",
              "      <td>315.500000</td>\n",
              "      <td>2497.000000</td>\n",
              "      <td>3199.000000</td>\n",
              "    </tr>\n",
              "    <tr>\n",
              "      <th>50%</th>\n",
              "      <td>0.000000</td>\n",
              "      <td>3.000000</td>\n",
              "      <td>1.000000</td>\n",
              "      <td>1.000000</td>\n",
              "      <td>5.000000</td>\n",
              "      <td>0.490000</td>\n",
              "      <td>163.000000</td>\n",
              "      <td>0.820000</td>\n",
              "      <td>713.000000</td>\n",
              "      <td>3662.000000</td>\n",
              "      <td>4563.000000</td>\n",
              "    </tr>\n",
              "    <tr>\n",
              "      <th>75%</th>\n",
              "      <td>0.000000</td>\n",
              "      <td>5.000000</td>\n",
              "      <td>1.000000</td>\n",
              "      <td>2.000000</td>\n",
              "      <td>7.000000</td>\n",
              "      <td>0.610000</td>\n",
              "      <td>173.000000</td>\n",
              "      <td>0.870000</td>\n",
              "      <td>1096.000000</td>\n",
              "      <td>4795.500000</td>\n",
              "      <td>6011.500000</td>\n",
              "    </tr>\n",
              "    <tr>\n",
              "      <th>max</th>\n",
              "      <td>10.000000</td>\n",
              "      <td>6.000000</td>\n",
              "      <td>1.000000</td>\n",
              "      <td>3.000000</td>\n",
              "      <td>9.000000</td>\n",
              "      <td>0.840000</td>\n",
              "      <td>197.000000</td>\n",
              "      <td>0.980000</td>\n",
              "      <td>3410.000000</td>\n",
              "      <td>33380.000000</td>\n",
              "      <td>8714.000000</td>\n",
              "    </tr>\n",
              "  </tbody>\n",
              "</table>\n",
              "</div>"
            ],
            "text/plain": [
              "       limit_infor  campaign_type  campaign_level  product_level  \\\n",
              "count   731.000000     731.000000      731.000000     731.000000   \n",
              "mean      0.042408       2.997264        0.683995       1.395349   \n",
              "std       0.404911       2.004787        0.465233       0.544894   \n",
              "min       0.000000       0.000000        0.000000       1.000000   \n",
              "25%       0.000000       1.000000        0.000000       1.000000   \n",
              "50%       0.000000       3.000000        1.000000       1.000000   \n",
              "75%       0.000000       5.000000        1.000000       2.000000   \n",
              "max      10.000000       6.000000        1.000000       3.000000   \n",
              "\n",
              "       resource_amount  email_rate       price  discount_rate  hour_resouces  \\\n",
              "count       731.000000  731.000000  729.000000     731.000000     731.000000   \n",
              "mean          4.952120    0.474337  162.812071       0.809617     848.176471   \n",
              "std           1.838449    0.162913   14.267136       0.077679     686.622488   \n",
              "min           1.000000    0.080000  100.000000       0.490000       2.000000   \n",
              "25%           3.000000    0.340000  152.000000       0.770000     315.500000   \n",
              "50%           5.000000    0.490000  163.000000       0.820000     713.000000   \n",
              "75%           7.000000    0.610000  173.000000       0.870000    1096.000000   \n",
              "max           9.000000    0.840000  197.000000       0.980000    3410.000000   \n",
              "\n",
              "       campaign_fee       orders  \n",
              "count    731.000000   731.000000  \n",
              "mean    3696.391245  4531.079343  \n",
              "std     1908.643139  1932.532346  \n",
              "min       20.000000    22.000000  \n",
              "25%     2497.000000  3199.000000  \n",
              "50%     3662.000000  4563.000000  \n",
              "75%     4795.500000  6011.500000  \n",
              "max    33380.000000  8714.000000  "
            ]
          },
          "execution_count": 5,
          "metadata": {},
          "output_type": "execute_result"
        }
      ],
      "source": [
        "df.describe()"
      ]
    },
    {
      "cell_type": "markdown",
      "id": "b4801f26",
      "metadata": {
        "id": "b4801f26"
      },
      "source": [
        "<a id=\"info\"></a>\n",
        "## 2.3 Check the Data Type"
      ]
    },
    {
      "cell_type": "code",
      "execution_count": null,
      "id": "84a26ceb",
      "metadata": {
        "id": "84a26ceb",
        "outputId": "bd60a5f0-dfb8-4ace-a36e-2e0538c090ef"
      },
      "outputs": [
        {
          "name": "stdout",
          "output_type": "stream",
          "text": [
            "<class 'pandas.core.frame.DataFrame'>\n",
            "RangeIndex: 731 entries, 0 to 730\n",
            "Data columns (total 11 columns):\n",
            " #   Column           Non-Null Count  Dtype  \n",
            "---  ------           --------------  -----  \n",
            " 0   limit_infor      731 non-null    int64  \n",
            " 1   campaign_type    731 non-null    int64  \n",
            " 2   campaign_level   731 non-null    int64  \n",
            " 3   product_level    731 non-null    int64  \n",
            " 4   resource_amount  731 non-null    int64  \n",
            " 5   email_rate       731 non-null    float64\n",
            " 6   price            729 non-null    float64\n",
            " 7   discount_rate    731 non-null    float64\n",
            " 8   hour_resouces    731 non-null    int64  \n",
            " 9   campaign_fee     731 non-null    int64  \n",
            " 10  orders           731 non-null    int64  \n",
            "dtypes: float64(3), int64(8)\n",
            "memory usage: 62.9 KB\n"
          ]
        }
      ],
      "source": [
        "df.info()"
      ]
    },
    {
      "cell_type": "markdown",
      "id": "d5cd3113",
      "metadata": {
        "id": "d5cd3113"
      },
      "source": [
        "**Interpretation:**\n",
        "The dataframe has 731 entries and 11 columns. The columns include limit_infor, campaign_type, campaign_level, product_level, resource_amount, email_rate, price, discount_rate, hour_resouces, campaign_fee, and orders. There are three columns with float data types and eight with integer data types, with the price column having two missing values. The dataframe's memory usage is 62.9 KB."
      ]
    },
    {
      "cell_type": "markdown",
      "id": "3d172041",
      "metadata": {
        "id": "3d172041"
      },
      "source": [
        "<a id=\"dup\"></a>\n",
        "## 2.4 Check for dupicates"
      ]
    },
    {
      "cell_type": "code",
      "execution_count": null,
      "id": "30ba51f9",
      "metadata": {
        "id": "30ba51f9",
        "outputId": "3f5fe1ea-3baa-4943-efe7-eb0f0f080b1d"
      },
      "outputs": [
        {
          "data": {
            "text/html": [
              "<div>\n",
              "<style scoped>\n",
              "    .dataframe tbody tr th:only-of-type {\n",
              "        vertical-align: middle;\n",
              "    }\n",
              "\n",
              "    .dataframe tbody tr th {\n",
              "        vertical-align: top;\n",
              "    }\n",
              "\n",
              "    .dataframe thead th {\n",
              "        text-align: right;\n",
              "    }\n",
              "</style>\n",
              "<table border=\"1\" class=\"dataframe\">\n",
              "  <thead>\n",
              "    <tr style=\"text-align: right;\">\n",
              "      <th></th>\n",
              "      <th>limit_infor</th>\n",
              "      <th>campaign_type</th>\n",
              "      <th>campaign_level</th>\n",
              "      <th>product_level</th>\n",
              "      <th>resource_amount</th>\n",
              "      <th>email_rate</th>\n",
              "      <th>price</th>\n",
              "      <th>discount_rate</th>\n",
              "      <th>hour_resouces</th>\n",
              "      <th>campaign_fee</th>\n",
              "      <th>orders</th>\n",
              "    </tr>\n",
              "  </thead>\n",
              "  <tbody>\n",
              "  </tbody>\n",
              "</table>\n",
              "</div>"
            ],
            "text/plain": [
              "Empty DataFrame\n",
              "Columns: [limit_infor, campaign_type, campaign_level, product_level, resource_amount, email_rate, price, discount_rate, hour_resouces, campaign_fee, orders]\n",
              "Index: []"
            ]
          },
          "execution_count": 7,
          "metadata": {},
          "output_type": "execute_result"
        }
      ],
      "source": [
        "# checking for duplicates in the dataset\n",
        "df_dup = df[df.duplicated()]\n",
        "df_dup"
      ]
    },
    {
      "cell_type": "markdown",
      "id": "244f85ff",
      "metadata": {
        "id": "244f85ff"
      },
      "source": [
        "### Intepretation\n",
        "- There are no duplicate values present in the dataset"
      ]
    },
    {
      "cell_type": "markdown",
      "id": "21147821",
      "metadata": {
        "id": "21147821"
      },
      "source": [
        "<a id=\"null\"></a>\n",
        "## 2.5 Missing Value Treatment"
      ]
    },
    {
      "cell_type": "markdown",
      "id": "bcaf3dab",
      "metadata": {
        "id": "bcaf3dab"
      },
      "source": [
        "#### First run a check for the presence of missing values and their percentage for each column. Then choose the right approach to treat them."
      ]
    },
    {
      "cell_type": "code",
      "execution_count": null,
      "id": "3a6b62e7",
      "metadata": {
        "id": "3a6b62e7",
        "outputId": "01ff6259-0904-4d0e-dc94-8f108b2e9a08"
      },
      "outputs": [
        {
          "data": {
            "text/plain": [
              "limit_infor        0\n",
              "campaign_type      0\n",
              "campaign_level     0\n",
              "product_level      0\n",
              "resource_amount    0\n",
              "email_rate         0\n",
              "price              2\n",
              "discount_rate      0\n",
              "hour_resouces      0\n",
              "campaign_fee       0\n",
              "orders             0\n",
              "dtype: int64"
            ]
          },
          "execution_count": 8,
          "metadata": {},
          "output_type": "execute_result"
        }
      ],
      "source": [
        "df.isnull().sum()"
      ]
    },
    {
      "cell_type": "code",
      "execution_count": null,
      "id": "c07750d5",
      "metadata": {
        "id": "c07750d5",
        "outputId": "a4da857a-424d-4351-e239-f8154fd364fc"
      },
      "outputs": [
        {
          "data": {
            "text/plain": [
              "['price']"
            ]
          },
          "execution_count": 9,
          "metadata": {},
          "output_type": "execute_result"
        }
      ],
      "source": [
        "[features for features in df.columns if df[features].isnull().sum()>0]"
      ]
    },
    {
      "cell_type": "markdown",
      "id": "6e432323",
      "metadata": {
        "id": "6e432323"
      },
      "source": [
        "**Interpretation:** 'price' columns have 2 missing values"
      ]
    },
    {
      "cell_type": "code",
      "execution_count": null,
      "id": "75ace0b0",
      "metadata": {
        "id": "75ace0b0",
        "outputId": "967215ae-e21d-4d51-d588-4712cac28b51"
      },
      "outputs": [
        {
          "data": {
            "text/html": [
              "<div>\n",
              "<style scoped>\n",
              "    .dataframe tbody tr th:only-of-type {\n",
              "        vertical-align: middle;\n",
              "    }\n",
              "\n",
              "    .dataframe tbody tr th {\n",
              "        vertical-align: top;\n",
              "    }\n",
              "\n",
              "    .dataframe thead th {\n",
              "        text-align: right;\n",
              "    }\n",
              "</style>\n",
              "<table border=\"1\" class=\"dataframe\">\n",
              "  <thead>\n",
              "    <tr style=\"text-align: right;\">\n",
              "      <th></th>\n",
              "      <th>limit_infor</th>\n",
              "      <th>campaign_type</th>\n",
              "      <th>campaign_level</th>\n",
              "      <th>product_level</th>\n",
              "      <th>resource_amount</th>\n",
              "      <th>email_rate</th>\n",
              "      <th>price</th>\n",
              "      <th>discount_rate</th>\n",
              "      <th>hour_resouces</th>\n",
              "      <th>campaign_fee</th>\n",
              "      <th>orders</th>\n",
              "    </tr>\n",
              "  </thead>\n",
              "  <tbody>\n",
              "    <tr>\n",
              "      <th>55</th>\n",
              "      <td>0</td>\n",
              "      <td>6</td>\n",
              "      <td>0</td>\n",
              "      <td>2</td>\n",
              "      <td>2</td>\n",
              "      <td>0.25</td>\n",
              "      <td>NaN</td>\n",
              "      <td>0.84</td>\n",
              "      <td>222</td>\n",
              "      <td>1026</td>\n",
              "      <td>1248</td>\n",
              "    </tr>\n",
              "    <tr>\n",
              "      <th>120</th>\n",
              "      <td>0</td>\n",
              "      <td>3</td>\n",
              "      <td>1</td>\n",
              "      <td>2</td>\n",
              "      <td>3</td>\n",
              "      <td>0.30</td>\n",
              "      <td>NaN</td>\n",
              "      <td>0.79</td>\n",
              "      <td>78</td>\n",
              "      <td>1572</td>\n",
              "      <td>1650</td>\n",
              "    </tr>\n",
              "  </tbody>\n",
              "</table>\n",
              "</div>"
            ],
            "text/plain": [
              "     limit_infor  campaign_type  campaign_level  product_level  \\\n",
              "55             0              6               0              2   \n",
              "120            0              3               1              2   \n",
              "\n",
              "     resource_amount  email_rate  price  discount_rate  hour_resouces  \\\n",
              "55                 2        0.25    NaN           0.84            222   \n",
              "120                3        0.30    NaN           0.79             78   \n",
              "\n",
              "     campaign_fee  orders  \n",
              "55           1026    1248  \n",
              "120          1572    1650  "
            ]
          },
          "execution_count": 10,
          "metadata": {},
          "output_type": "execute_result"
        }
      ],
      "source": [
        "### display the rows having null values\n",
        "df[df.isnull().any(axis=1)]"
      ]
    },
    {
      "cell_type": "code",
      "execution_count": null,
      "id": "31a4d943",
      "metadata": {
        "id": "31a4d943",
        "outputId": "2717b041-8605-4ff2-ae43-59729cd84718"
      },
      "outputs": [
        {
          "data": {
            "text/html": [
              "<div>\n",
              "<style scoped>\n",
              "    .dataframe tbody tr th:only-of-type {\n",
              "        vertical-align: middle;\n",
              "    }\n",
              "\n",
              "    .dataframe tbody tr th {\n",
              "        vertical-align: top;\n",
              "    }\n",
              "\n",
              "    .dataframe thead th {\n",
              "        text-align: right;\n",
              "    }\n",
              "</style>\n",
              "<table border=\"1\" class=\"dataframe\">\n",
              "  <thead>\n",
              "    <tr style=\"text-align: right;\">\n",
              "      <th></th>\n",
              "      <th>Total</th>\n",
              "      <th>Percentage of Missing Values</th>\n",
              "    </tr>\n",
              "  </thead>\n",
              "  <tbody>\n",
              "    <tr>\n",
              "      <th>price</th>\n",
              "      <td>2</td>\n",
              "      <td>0.273598</td>\n",
              "    </tr>\n",
              "    <tr>\n",
              "      <th>limit_infor</th>\n",
              "      <td>0</td>\n",
              "      <td>0.000000</td>\n",
              "    </tr>\n",
              "    <tr>\n",
              "      <th>campaign_type</th>\n",
              "      <td>0</td>\n",
              "      <td>0.000000</td>\n",
              "    </tr>\n",
              "    <tr>\n",
              "      <th>campaign_level</th>\n",
              "      <td>0</td>\n",
              "      <td>0.000000</td>\n",
              "    </tr>\n",
              "    <tr>\n",
              "      <th>product_level</th>\n",
              "      <td>0</td>\n",
              "      <td>0.000000</td>\n",
              "    </tr>\n",
              "    <tr>\n",
              "      <th>resource_amount</th>\n",
              "      <td>0</td>\n",
              "      <td>0.000000</td>\n",
              "    </tr>\n",
              "    <tr>\n",
              "      <th>email_rate</th>\n",
              "      <td>0</td>\n",
              "      <td>0.000000</td>\n",
              "    </tr>\n",
              "    <tr>\n",
              "      <th>discount_rate</th>\n",
              "      <td>0</td>\n",
              "      <td>0.000000</td>\n",
              "    </tr>\n",
              "    <tr>\n",
              "      <th>hour_resouces</th>\n",
              "      <td>0</td>\n",
              "      <td>0.000000</td>\n",
              "    </tr>\n",
              "    <tr>\n",
              "      <th>campaign_fee</th>\n",
              "      <td>0</td>\n",
              "      <td>0.000000</td>\n",
              "    </tr>\n",
              "    <tr>\n",
              "      <th>orders</th>\n",
              "      <td>0</td>\n",
              "      <td>0.000000</td>\n",
              "    </tr>\n",
              "  </tbody>\n",
              "</table>\n",
              "</div>"
            ],
            "text/plain": [
              "                 Total  Percentage of Missing Values\n",
              "price                2                      0.273598\n",
              "limit_infor          0                      0.000000\n",
              "campaign_type        0                      0.000000\n",
              "campaign_level       0                      0.000000\n",
              "product_level        0                      0.000000\n",
              "resource_amount      0                      0.000000\n",
              "email_rate           0                      0.000000\n",
              "discount_rate        0                      0.000000\n",
              "hour_resouces        0                      0.000000\n",
              "campaign_fee         0                      0.000000\n",
              "orders               0                      0.000000"
            ]
          },
          "execution_count": 11,
          "metadata": {},
          "output_type": "execute_result"
        }
      ],
      "source": [
        "## find out total percentage of missing values in 'price'\n",
        "Total = df.isnull().sum().sort_values(ascending=False)\n",
        "\n",
        "Percent = (df.isnull().sum()*100/df.isnull().count()).sort_values(ascending=False)\n",
        "\n",
        "missing_data = pd.concat([Total, Percent], axis = 1, keys = ['Total', 'Percentage of Missing Values'])\n",
        "missing_data"
      ]
    },
    {
      "cell_type": "markdown",
      "id": "520f24e1",
      "metadata": {
        "id": "520f24e1"
      },
      "source": [
        "**Interpretation:** The 'price' column had 2 missing values, which accounted for approximately 0.27% of the total rows. Hence, the rows with missing values will be removed."
      ]
    },
    {
      "cell_type": "code",
      "execution_count": null,
      "id": "52795503",
      "metadata": {
        "id": "52795503",
        "outputId": "206e2ecb-0de2-41b6-cb28-1f245955e5bf"
      },
      "outputs": [
        {
          "name": "stdout",
          "output_type": "stream",
          "text": [
            "<class 'pandas.core.frame.DataFrame'>\n",
            "Index: 729 entries, 0 to 730\n",
            "Data columns (total 11 columns):\n",
            " #   Column           Non-Null Count  Dtype  \n",
            "---  ------           --------------  -----  \n",
            " 0   limit_infor      729 non-null    int64  \n",
            " 1   campaign_type    729 non-null    int64  \n",
            " 2   campaign_level   729 non-null    int64  \n",
            " 3   product_level    729 non-null    int64  \n",
            " 4   resource_amount  729 non-null    int64  \n",
            " 5   email_rate       729 non-null    float64\n",
            " 6   price            729 non-null    float64\n",
            " 7   discount_rate    729 non-null    float64\n",
            " 8   hour_resouces    729 non-null    int64  \n",
            " 9   campaign_fee     729 non-null    int64  \n",
            " 10  orders           729 non-null    int64  \n",
            "dtypes: float64(3), int64(8)\n",
            "memory usage: 68.3 KB\n"
          ]
        }
      ],
      "source": [
        "#remove rows with missing values\n",
        "df_cleaned = df.dropna()\n",
        "df_cleaned.info()"
      ]
    },
    {
      "cell_type": "markdown",
      "id": "d2f80253",
      "metadata": {
        "id": "d2f80253"
      },
      "source": [
        "#### Lets compare the dataframe before and after removal of rows with missing values"
      ]
    },
    {
      "cell_type": "code",
      "execution_count": null,
      "id": "7c3037fb",
      "metadata": {
        "id": "7c3037fb",
        "outputId": "a1d410e7-7781-46f5-e4f4-7926e380e0e4"
      },
      "outputs": [
        {
          "data": {
            "text/html": [
              "<div>\n",
              "<style scoped>\n",
              "    .dataframe tbody tr th:only-of-type {\n",
              "        vertical-align: middle;\n",
              "    }\n",
              "\n",
              "    .dataframe tbody tr th {\n",
              "        vertical-align: top;\n",
              "    }\n",
              "\n",
              "    .dataframe thead th {\n",
              "        text-align: right;\n",
              "    }\n",
              "</style>\n",
              "<table border=\"1\" class=\"dataframe\">\n",
              "  <thead>\n",
              "    <tr style=\"text-align: right;\">\n",
              "      <th></th>\n",
              "      <th>limit_infor</th>\n",
              "      <th>campaign_type</th>\n",
              "      <th>campaign_level</th>\n",
              "      <th>product_level</th>\n",
              "      <th>resource_amount</th>\n",
              "      <th>email_rate</th>\n",
              "      <th>price</th>\n",
              "      <th>discount_rate</th>\n",
              "      <th>hour_resouces</th>\n",
              "      <th>campaign_fee</th>\n",
              "      <th>orders</th>\n",
              "    </tr>\n",
              "  </thead>\n",
              "  <tbody>\n",
              "    <tr>\n",
              "      <th>count</th>\n",
              "      <td>731.000000</td>\n",
              "      <td>731.000000</td>\n",
              "      <td>731.000000</td>\n",
              "      <td>731.000000</td>\n",
              "      <td>731.000000</td>\n",
              "      <td>731.000000</td>\n",
              "      <td>729.000000</td>\n",
              "      <td>731.000000</td>\n",
              "      <td>731.000000</td>\n",
              "      <td>731.000000</td>\n",
              "      <td>731.000000</td>\n",
              "    </tr>\n",
              "    <tr>\n",
              "      <th>mean</th>\n",
              "      <td>0.042408</td>\n",
              "      <td>2.997264</td>\n",
              "      <td>0.683995</td>\n",
              "      <td>1.395349</td>\n",
              "      <td>4.952120</td>\n",
              "      <td>0.474337</td>\n",
              "      <td>162.812071</td>\n",
              "      <td>0.809617</td>\n",
              "      <td>848.176471</td>\n",
              "      <td>3696.391245</td>\n",
              "      <td>4531.079343</td>\n",
              "    </tr>\n",
              "    <tr>\n",
              "      <th>std</th>\n",
              "      <td>0.404911</td>\n",
              "      <td>2.004787</td>\n",
              "      <td>0.465233</td>\n",
              "      <td>0.544894</td>\n",
              "      <td>1.838449</td>\n",
              "      <td>0.162913</td>\n",
              "      <td>14.267136</td>\n",
              "      <td>0.077679</td>\n",
              "      <td>686.622488</td>\n",
              "      <td>1908.643139</td>\n",
              "      <td>1932.532346</td>\n",
              "    </tr>\n",
              "    <tr>\n",
              "      <th>min</th>\n",
              "      <td>0.000000</td>\n",
              "      <td>0.000000</td>\n",
              "      <td>0.000000</td>\n",
              "      <td>1.000000</td>\n",
              "      <td>1.000000</td>\n",
              "      <td>0.080000</td>\n",
              "      <td>100.000000</td>\n",
              "      <td>0.490000</td>\n",
              "      <td>2.000000</td>\n",
              "      <td>20.000000</td>\n",
              "      <td>22.000000</td>\n",
              "    </tr>\n",
              "    <tr>\n",
              "      <th>25%</th>\n",
              "      <td>0.000000</td>\n",
              "      <td>1.000000</td>\n",
              "      <td>0.000000</td>\n",
              "      <td>1.000000</td>\n",
              "      <td>3.000000</td>\n",
              "      <td>0.340000</td>\n",
              "      <td>152.000000</td>\n",
              "      <td>0.770000</td>\n",
              "      <td>315.500000</td>\n",
              "      <td>2497.000000</td>\n",
              "      <td>3199.000000</td>\n",
              "    </tr>\n",
              "    <tr>\n",
              "      <th>50%</th>\n",
              "      <td>0.000000</td>\n",
              "      <td>3.000000</td>\n",
              "      <td>1.000000</td>\n",
              "      <td>1.000000</td>\n",
              "      <td>5.000000</td>\n",
              "      <td>0.490000</td>\n",
              "      <td>163.000000</td>\n",
              "      <td>0.820000</td>\n",
              "      <td>713.000000</td>\n",
              "      <td>3662.000000</td>\n",
              "      <td>4563.000000</td>\n",
              "    </tr>\n",
              "    <tr>\n",
              "      <th>75%</th>\n",
              "      <td>0.000000</td>\n",
              "      <td>5.000000</td>\n",
              "      <td>1.000000</td>\n",
              "      <td>2.000000</td>\n",
              "      <td>7.000000</td>\n",
              "      <td>0.610000</td>\n",
              "      <td>173.000000</td>\n",
              "      <td>0.870000</td>\n",
              "      <td>1096.000000</td>\n",
              "      <td>4795.500000</td>\n",
              "      <td>6011.500000</td>\n",
              "    </tr>\n",
              "    <tr>\n",
              "      <th>max</th>\n",
              "      <td>10.000000</td>\n",
              "      <td>6.000000</td>\n",
              "      <td>1.000000</td>\n",
              "      <td>3.000000</td>\n",
              "      <td>9.000000</td>\n",
              "      <td>0.840000</td>\n",
              "      <td>197.000000</td>\n",
              "      <td>0.980000</td>\n",
              "      <td>3410.000000</td>\n",
              "      <td>33380.000000</td>\n",
              "      <td>8714.000000</td>\n",
              "    </tr>\n",
              "  </tbody>\n",
              "</table>\n",
              "</div>"
            ],
            "text/plain": [
              "       limit_infor  campaign_type  campaign_level  product_level  \\\n",
              "count   731.000000     731.000000      731.000000     731.000000   \n",
              "mean      0.042408       2.997264        0.683995       1.395349   \n",
              "std       0.404911       2.004787        0.465233       0.544894   \n",
              "min       0.000000       0.000000        0.000000       1.000000   \n",
              "25%       0.000000       1.000000        0.000000       1.000000   \n",
              "50%       0.000000       3.000000        1.000000       1.000000   \n",
              "75%       0.000000       5.000000        1.000000       2.000000   \n",
              "max      10.000000       6.000000        1.000000       3.000000   \n",
              "\n",
              "       resource_amount  email_rate       price  discount_rate  hour_resouces  \\\n",
              "count       731.000000  731.000000  729.000000     731.000000     731.000000   \n",
              "mean          4.952120    0.474337  162.812071       0.809617     848.176471   \n",
              "std           1.838449    0.162913   14.267136       0.077679     686.622488   \n",
              "min           1.000000    0.080000  100.000000       0.490000       2.000000   \n",
              "25%           3.000000    0.340000  152.000000       0.770000     315.500000   \n",
              "50%           5.000000    0.490000  163.000000       0.820000     713.000000   \n",
              "75%           7.000000    0.610000  173.000000       0.870000    1096.000000   \n",
              "max           9.000000    0.840000  197.000000       0.980000    3410.000000   \n",
              "\n",
              "       campaign_fee       orders  \n",
              "count    731.000000   731.000000  \n",
              "mean    3696.391245  4531.079343  \n",
              "std     1908.643139  1932.532346  \n",
              "min       20.000000    22.000000  \n",
              "25%     2497.000000  3199.000000  \n",
              "50%     3662.000000  4563.000000  \n",
              "75%     4795.500000  6011.500000  \n",
              "max    33380.000000  8714.000000  "
            ]
          },
          "execution_count": 13,
          "metadata": {},
          "output_type": "execute_result"
        }
      ],
      "source": [
        "# check statistics of the original dataframe \"df\"\n",
        "df.describe()"
      ]
    },
    {
      "cell_type": "code",
      "execution_count": null,
      "id": "22d2a08c",
      "metadata": {
        "scrolled": true,
        "id": "22d2a08c",
        "outputId": "4df86aa6-5471-4d86-9cf6-a036d5c1658a"
      },
      "outputs": [
        {
          "data": {
            "text/html": [
              "<div>\n",
              "<style scoped>\n",
              "    .dataframe tbody tr th:only-of-type {\n",
              "        vertical-align: middle;\n",
              "    }\n",
              "\n",
              "    .dataframe tbody tr th {\n",
              "        vertical-align: top;\n",
              "    }\n",
              "\n",
              "    .dataframe thead th {\n",
              "        text-align: right;\n",
              "    }\n",
              "</style>\n",
              "<table border=\"1\" class=\"dataframe\">\n",
              "  <thead>\n",
              "    <tr style=\"text-align: right;\">\n",
              "      <th></th>\n",
              "      <th>limit_infor</th>\n",
              "      <th>campaign_type</th>\n",
              "      <th>campaign_level</th>\n",
              "      <th>product_level</th>\n",
              "      <th>resource_amount</th>\n",
              "      <th>email_rate</th>\n",
              "      <th>price</th>\n",
              "      <th>discount_rate</th>\n",
              "      <th>hour_resouces</th>\n",
              "      <th>campaign_fee</th>\n",
              "      <th>orders</th>\n",
              "    </tr>\n",
              "  </thead>\n",
              "  <tbody>\n",
              "    <tr>\n",
              "      <th>count</th>\n",
              "      <td>729.000000</td>\n",
              "      <td>729.000000</td>\n",
              "      <td>729.000000</td>\n",
              "      <td>729.000000</td>\n",
              "      <td>729.000000</td>\n",
              "      <td>729.000000</td>\n",
              "      <td>729.000000</td>\n",
              "      <td>729.000000</td>\n",
              "      <td>729.000000</td>\n",
              "      <td>729.00000</td>\n",
              "      <td>729.000000</td>\n",
              "    </tr>\n",
              "    <tr>\n",
              "      <th>mean</th>\n",
              "      <td>0.042524</td>\n",
              "      <td>2.993141</td>\n",
              "      <td>0.684499</td>\n",
              "      <td>1.393690</td>\n",
              "      <td>4.958848</td>\n",
              "      <td>0.474883</td>\n",
              "      <td>162.812071</td>\n",
              "      <td>0.809602</td>\n",
              "      <td>850.091907</td>\n",
              "      <td>3702.96845</td>\n",
              "      <td>4539.534979</td>\n",
              "    </tr>\n",
              "    <tr>\n",
              "      <th>std</th>\n",
              "      <td>0.405460</td>\n",
              "      <td>2.004448</td>\n",
              "      <td>0.465034</td>\n",
              "      <td>0.544719</td>\n",
              "      <td>1.836282</td>\n",
              "      <td>0.162796</td>\n",
              "      <td>14.267136</td>\n",
              "      <td>0.077775</td>\n",
              "      <td>686.577432</td>\n",
              "      <td>1907.06287</td>\n",
              "      <td>1928.383275</td>\n",
              "    </tr>\n",
              "    <tr>\n",
              "      <th>min</th>\n",
              "      <td>0.000000</td>\n",
              "      <td>0.000000</td>\n",
              "      <td>0.000000</td>\n",
              "      <td>1.000000</td>\n",
              "      <td>1.000000</td>\n",
              "      <td>0.080000</td>\n",
              "      <td>100.000000</td>\n",
              "      <td>0.490000</td>\n",
              "      <td>2.000000</td>\n",
              "      <td>20.00000</td>\n",
              "      <td>22.000000</td>\n",
              "    </tr>\n",
              "    <tr>\n",
              "      <th>25%</th>\n",
              "      <td>0.000000</td>\n",
              "      <td>1.000000</td>\n",
              "      <td>0.000000</td>\n",
              "      <td>1.000000</td>\n",
              "      <td>3.000000</td>\n",
              "      <td>0.340000</td>\n",
              "      <td>152.000000</td>\n",
              "      <td>0.770000</td>\n",
              "      <td>317.000000</td>\n",
              "      <td>2506.00000</td>\n",
              "      <td>3214.000000</td>\n",
              "    </tr>\n",
              "    <tr>\n",
              "      <th>50%</th>\n",
              "      <td>0.000000</td>\n",
              "      <td>3.000000</td>\n",
              "      <td>1.000000</td>\n",
              "      <td>1.000000</td>\n",
              "      <td>5.000000</td>\n",
              "      <td>0.490000</td>\n",
              "      <td>163.000000</td>\n",
              "      <td>0.820000</td>\n",
              "      <td>721.000000</td>\n",
              "      <td>3667.00000</td>\n",
              "      <td>4569.000000</td>\n",
              "    </tr>\n",
              "    <tr>\n",
              "      <th>75%</th>\n",
              "      <td>0.000000</td>\n",
              "      <td>5.000000</td>\n",
              "      <td>1.000000</td>\n",
              "      <td>2.000000</td>\n",
              "      <td>7.000000</td>\n",
              "      <td>0.610000</td>\n",
              "      <td>173.000000</td>\n",
              "      <td>0.870000</td>\n",
              "      <td>1097.000000</td>\n",
              "      <td>4801.00000</td>\n",
              "      <td>6031.000000</td>\n",
              "    </tr>\n",
              "    <tr>\n",
              "      <th>max</th>\n",
              "      <td>10.000000</td>\n",
              "      <td>6.000000</td>\n",
              "      <td>1.000000</td>\n",
              "      <td>3.000000</td>\n",
              "      <td>9.000000</td>\n",
              "      <td>0.840000</td>\n",
              "      <td>197.000000</td>\n",
              "      <td>0.980000</td>\n",
              "      <td>3410.000000</td>\n",
              "      <td>33380.00000</td>\n",
              "      <td>8714.000000</td>\n",
              "    </tr>\n",
              "  </tbody>\n",
              "</table>\n",
              "</div>"
            ],
            "text/plain": [
              "       limit_infor  campaign_type  campaign_level  product_level  \\\n",
              "count   729.000000     729.000000      729.000000     729.000000   \n",
              "mean      0.042524       2.993141        0.684499       1.393690   \n",
              "std       0.405460       2.004448        0.465034       0.544719   \n",
              "min       0.000000       0.000000        0.000000       1.000000   \n",
              "25%       0.000000       1.000000        0.000000       1.000000   \n",
              "50%       0.000000       3.000000        1.000000       1.000000   \n",
              "75%       0.000000       5.000000        1.000000       2.000000   \n",
              "max      10.000000       6.000000        1.000000       3.000000   \n",
              "\n",
              "       resource_amount  email_rate       price  discount_rate  hour_resouces  \\\n",
              "count       729.000000  729.000000  729.000000     729.000000     729.000000   \n",
              "mean          4.958848    0.474883  162.812071       0.809602     850.091907   \n",
              "std           1.836282    0.162796   14.267136       0.077775     686.577432   \n",
              "min           1.000000    0.080000  100.000000       0.490000       2.000000   \n",
              "25%           3.000000    0.340000  152.000000       0.770000     317.000000   \n",
              "50%           5.000000    0.490000  163.000000       0.820000     721.000000   \n",
              "75%           7.000000    0.610000  173.000000       0.870000    1097.000000   \n",
              "max           9.000000    0.840000  197.000000       0.980000    3410.000000   \n",
              "\n",
              "       campaign_fee       orders  \n",
              "count     729.00000   729.000000  \n",
              "mean     3702.96845  4539.534979  \n",
              "std      1907.06287  1928.383275  \n",
              "min        20.00000    22.000000  \n",
              "25%      2506.00000  3214.000000  \n",
              "50%      3667.00000  4569.000000  \n",
              "75%      4801.00000  6031.000000  \n",
              "max     33380.00000  8714.000000  "
            ]
          },
          "execution_count": 14,
          "metadata": {},
          "output_type": "execute_result"
        }
      ],
      "source": [
        "# check statistics of the dataframe without the missing values  \"df_cleaned\"\n",
        "df_cleaned.describe()"
      ]
    },
    {
      "cell_type": "markdown",
      "id": "93cdd7d2",
      "metadata": {
        "id": "93cdd7d2"
      },
      "source": [
        "**Interpretation:**  The difference between basic statistics of \"df\" and \"df_cleaned\" is not significant. Hence, for further analysis df_cleaned will be used."
      ]
    },
    {
      "cell_type": "markdown",
      "id": "74b76071",
      "metadata": {
        "id": "74b76071"
      },
      "source": [
        "<a id=\"dist\"></a>\n",
        "## 2.6 Distribution of Variables"
      ]
    },
    {
      "cell_type": "markdown",
      "id": "484d22b1",
      "metadata": {
        "id": "484d22b1"
      },
      "source": [
        "**Distribution of numeric independent variables.**"
      ]
    },
    {
      "cell_type": "code",
      "execution_count": null,
      "id": "ddddf95d",
      "metadata": {
        "id": "ddddf95d",
        "outputId": "0b4e9d78-f9f3-42c4-a83d-c06cd61b83e5"
      },
      "outputs": [
        {
          "data": {
            "image/png": "[encoded data removed]",
            "text/plain": [
              "<Figure size 640x480 with 1 Axes>"
            ]
          },
          "metadata": {},
          "output_type": "display_data"
        }
      ],
      "source": [
        "# plotting a scatter plot to compare 'price' and 'orders'\n",
        "plt.scatter(df_cleaned['email_rate'], df_cleaned['orders'])\n",
        "plt.xlabel('email_rate')\n",
        "plt.ylabel('Orders')\n",
        "plt.title('Scatter Plot of email_rate vs Orders')\n",
        "plt.show()"
      ]
    },
    {
      "cell_type": "markdown",
      "id": "8bfbede4",
      "metadata": {
        "id": "8bfbede4"
      },
      "source": [
        "### Interpretation\n",
        "- 'email_rate is directly related to 'orders'"
      ]
    },
    {
      "cell_type": "code",
      "execution_count": null,
      "id": "d227c906",
      "metadata": {
        "id": "d227c906",
        "outputId": "2e007b39-b88e-4104-cf2e-5c2917e5e1c9"
      },
      "outputs": [
        {
          "data": {
            "image/png": "[encoded data removed]",
            "text/plain": [
              "<Figure size 640x480 with 1 Axes>"
            ]
          },
          "metadata": {},
          "output_type": "display_data"
        }
      ],
      "source": [
        "# plotting a scatter plot to compare 'price' and 'orders'\n",
        "plt.scatter(df_cleaned['price'], df_cleaned['orders'])\n",
        "plt.xlabel('Price')\n",
        "plt.ylabel('Orders')\n",
        "plt.title('Scatter Plot of Price vs Orders')\n",
        "plt.show()"
      ]
    },
    {
      "cell_type": "markdown",
      "id": "e4a9d9b5",
      "metadata": {
        "id": "e4a9d9b5"
      },
      "source": [
        "**Interpretation:** The scatter plot indicates a non-linear relationship between price and the number of orders"
      ]
    },
    {
      "cell_type": "code",
      "execution_count": null,
      "id": "c5a81246",
      "metadata": {
        "id": "c5a81246",
        "outputId": "c3d4deac-7485-4577-9381-a78b1ac2bbb5"
      },
      "outputs": [
        {
          "data": {
            "image/png": "[encoded data removed]",
            "text/plain": [
              "<Figure size 640x480 with 1 Axes>"
            ]
          },
          "metadata": {},
          "output_type": "display_data"
        }
      ],
      "source": [
        "# plotting a scatter plot to compare 'price' and 'orders'\n",
        "plt.scatter(df_cleaned['discount_rate'], df_cleaned['orders'])\n",
        "plt.xlabel('Discount rate')\n",
        "plt.ylabel('Orders')\n",
        "plt.title('Scatter Plot of Discount Rate vs Orders')\n",
        "plt.show()"
      ]
    },
    {
      "cell_type": "markdown",
      "id": "6a26ff8f",
      "metadata": {
        "id": "6a26ff8f"
      },
      "source": [
        "**Interpretation:** 'discount_rate' forms a linear relationship with 'orders' although it is not very significant"
      ]
    },
    {
      "cell_type": "code",
      "execution_count": null,
      "id": "d01954c6",
      "metadata": {
        "id": "d01954c6",
        "outputId": "6384d9b2-ca06-46e6-8220-7e2b05bd4e2d"
      },
      "outputs": [
        {
          "data": {
            "image/png": "[encoded data removed]",
            "text/plain": [
              "<Figure size 640x480 with 1 Axes>"
            ]
          },
          "metadata": {},
          "output_type": "display_data"
        }
      ],
      "source": [
        "# plotting a scatter plot to compare 'price' and 'orders'\n",
        "plt.scatter(df_cleaned['hour_resouces'], df_cleaned['orders'])\n",
        "plt.xlabel('Hour Resources')\n",
        "plt.ylabel('Orders')\n",
        "plt.title('Scatter Plot of Hour Resources vs Orders')\n",
        "plt.show()"
      ]
    },
    {
      "cell_type": "markdown",
      "id": "dd513c19",
      "metadata": {
        "id": "dd513c19"
      },
      "source": [
        "**Interpretation:** 'hour_resources' forms a linear relationship with 'orders'"
      ]
    },
    {
      "cell_type": "code",
      "execution_count": null,
      "id": "aada0a04",
      "metadata": {
        "id": "aada0a04",
        "outputId": "6017189d-45c9-43f2-969b-3a661db9cc80"
      },
      "outputs": [
        {
          "data": {
            "image/png": "[encoded data removed]",
            "text/plain": [
              "<Figure size 640x480 with 1 Axes>"
            ]
          },
          "metadata": {},
          "output_type": "display_data"
        }
      ],
      "source": [
        "# plotting a scatter plot to compare 'price' and 'orders'\n",
        "plt.scatter(df_cleaned['campaign_fee'], df_cleaned['orders'])\n",
        "plt.xlabel('Campaign Fee')\n",
        "plt.ylabel('Orders')\n",
        "plt.title('Scatter Plot of Campaign Fee vs Orders')\n",
        "plt.show()"
      ]
    },
    {
      "cell_type": "markdown",
      "id": "5199c1a1",
      "metadata": {
        "id": "5199c1a1"
      },
      "source": [
        "**Interpretation:** It is evident from the above graph that there is and outlier in the \"campaign_fee\""
      ]
    },
    {
      "cell_type": "code",
      "execution_count": null,
      "id": "0c714d3a",
      "metadata": {
        "id": "0c714d3a",
        "outputId": "55f4afbe-c109-4141-c46a-932c8d74964c"
      },
      "outputs": [
        {
          "data": {
            "text/html": [
              "<div>\n",
              "<style scoped>\n",
              "    .dataframe tbody tr th:only-of-type {\n",
              "        vertical-align: middle;\n",
              "    }\n",
              "\n",
              "    .dataframe tbody tr th {\n",
              "        vertical-align: top;\n",
              "    }\n",
              "\n",
              "    .dataframe thead th {\n",
              "        text-align: right;\n",
              "    }\n",
              "</style>\n",
              "<table border=\"1\" class=\"dataframe\">\n",
              "  <thead>\n",
              "    <tr style=\"text-align: right;\">\n",
              "      <th></th>\n",
              "      <th>limit_infor</th>\n",
              "      <th>campaign_type</th>\n",
              "      <th>campaign_level</th>\n",
              "      <th>product_level</th>\n",
              "      <th>resource_amount</th>\n",
              "      <th>email_rate</th>\n",
              "      <th>price</th>\n",
              "      <th>discount_rate</th>\n",
              "      <th>hour_resouces</th>\n",
              "      <th>campaign_fee</th>\n",
              "      <th>orders</th>\n",
              "    </tr>\n",
              "  </thead>\n",
              "  <tbody>\n",
              "    <tr>\n",
              "      <th>633</th>\n",
              "      <td>0</td>\n",
              "      <td>4</td>\n",
              "      <td>1</td>\n",
              "      <td>1</td>\n",
              "      <td>7</td>\n",
              "      <td>0.65</td>\n",
              "      <td>142.0</td>\n",
              "      <td>0.84</td>\n",
              "      <td>812</td>\n",
              "      <td>33380</td>\n",
              "      <td>4792</td>\n",
              "    </tr>\n",
              "  </tbody>\n",
              "</table>\n",
              "</div>"
            ],
            "text/plain": [
              "     limit_infor  campaign_type  campaign_level  product_level  \\\n",
              "633            0              4               1              1   \n",
              "\n",
              "     resource_amount  email_rate  price  discount_rate  hour_resouces  \\\n",
              "633                7        0.65  142.0           0.84            812   \n",
              "\n",
              "     campaign_fee  orders  \n",
              "633         33380    4792  "
            ]
          },
          "execution_count": 20,
          "metadata": {},
          "output_type": "execute_result"
        }
      ],
      "source": [
        "#identify the outlier in campaign_fee and group them in new dataframe 'df2'\n",
        "df2 = df_cleaned[df_cleaned['campaign_fee'] > 30000]\n",
        "df2"
      ]
    },
    {
      "cell_type": "code",
      "execution_count": null,
      "id": "f645c79b",
      "metadata": {
        "id": "f645c79b",
        "outputId": "eb25a1b8-5cfb-4975-fec1-330db76aa22c"
      },
      "outputs": [
        {
          "name": "stdout",
          "output_type": "stream",
          "text": [
            "<class 'pandas.core.frame.DataFrame'>\n",
            "Index: 728 entries, 0 to 730\n",
            "Data columns (total 11 columns):\n",
            " #   Column           Non-Null Count  Dtype  \n",
            "---  ------           --------------  -----  \n",
            " 0   limit_infor      728 non-null    int64  \n",
            " 1   campaign_type    728 non-null    int64  \n",
            " 2   campaign_level   728 non-null    int64  \n",
            " 3   product_level    728 non-null    int64  \n",
            " 4   resource_amount  728 non-null    int64  \n",
            " 5   email_rate       728 non-null    float64\n",
            " 6   price            728 non-null    float64\n",
            " 7   discount_rate    728 non-null    float64\n",
            " 8   hour_resouces    728 non-null    int64  \n",
            " 9   campaign_fee     728 non-null    int64  \n",
            " 10  orders           728 non-null    int64  \n",
            "dtypes: float64(3), int64(8)\n",
            "memory usage: 68.2 KB\n"
          ]
        }
      ],
      "source": [
        "# to make the plot 'campaign_fee' vs 'orders' more linear, the outlier needs to identified.\n",
        "# remove the outlier and save thr new dataframe in 'df_new'\n",
        "df_new = df_cleaned.drop(df_cleaned[df_cleaned['campaign_fee'] > 30000].index)\n",
        "df_new.info()"
      ]
    },
    {
      "cell_type": "code",
      "execution_count": null,
      "id": "4eb529a5",
      "metadata": {
        "id": "4eb529a5",
        "outputId": "c413d91a-c0fa-464f-89fb-49d922a50f90"
      },
      "outputs": [
        {
          "data": {
            "image/png": "[encoded data removed]",
            "text/plain": [
              "<Figure size 640x480 with 1 Axes>"
            ]
          },
          "metadata": {},
          "output_type": "display_data"
        }
      ],
      "source": [
        "# plot a scatter plot to compare 'price' and 'orders' after removing the outlier\n",
        "plt.scatter(df_new['campaign_fee'], df_new['orders'])\n",
        "plt.xlabel('Campaign Fee')\n",
        "plt.ylabel('Orders')\n",
        "plt.title('Scatter Plot of Campaign Fee vs Orders')\n",
        "plt.show()\n",
        "plt.show()"
      ]
    },
    {
      "cell_type": "markdown",
      "id": "3a4eb420",
      "metadata": {
        "id": "3a4eb420"
      },
      "source": [
        "**Interpretation:** The 'campaign_fee' shows linear relationship with 'orders'"
      ]
    },
    {
      "cell_type": "markdown",
      "id": "3040bdf1",
      "metadata": {
        "id": "3040bdf1"
      },
      "source": [
        "#### Identify the relationship of independent numerical variables with target variable \"orders\""
      ]
    },
    {
      "cell_type": "code",
      "execution_count": null,
      "id": "c78aded6",
      "metadata": {
        "id": "c78aded6",
        "outputId": "5d813fc7-63ae-4ad9-9a7f-bc629d1e8868"
      },
      "outputs": [
        {
          "data": {
            "text/html": [
              "<div>\n",
              "<style scoped>\n",
              "    .dataframe tbody tr th:only-of-type {\n",
              "        vertical-align: middle;\n",
              "    }\n",
              "\n",
              "    .dataframe tbody tr th {\n",
              "        vertical-align: top;\n",
              "    }\n",
              "\n",
              "    .dataframe thead th {\n",
              "        text-align: right;\n",
              "    }\n",
              "</style>\n",
              "<table border=\"1\" class=\"dataframe\">\n",
              "  <thead>\n",
              "    <tr style=\"text-align: right;\">\n",
              "      <th></th>\n",
              "      <th>email_rate</th>\n",
              "      <th>price</th>\n",
              "      <th>discount_rate</th>\n",
              "      <th>hour_resouces</th>\n",
              "      <th>campaign_fee</th>\n",
              "      <th>orders</th>\n",
              "    </tr>\n",
              "  </thead>\n",
              "  <tbody>\n",
              "    <tr>\n",
              "      <th>email_rate</th>\n",
              "      <td>1.000000</td>\n",
              "      <td>0.142366</td>\n",
              "      <td>0.181861</td>\n",
              "      <td>0.542832</td>\n",
              "      <td>0.541290</td>\n",
              "      <td>0.626260</td>\n",
              "    </tr>\n",
              "    <tr>\n",
              "      <th>price</th>\n",
              "      <td>0.142366</td>\n",
              "      <td>1.000000</td>\n",
              "      <td>0.251978</td>\n",
              "      <td>-0.078478</td>\n",
              "      <td>-0.092382</td>\n",
              "      <td>-0.103068</td>\n",
              "    </tr>\n",
              "    <tr>\n",
              "      <th>discount_rate</th>\n",
              "      <td>0.181861</td>\n",
              "      <td>0.251978</td>\n",
              "      <td>1.000000</td>\n",
              "      <td>0.168008</td>\n",
              "      <td>0.218127</td>\n",
              "      <td>0.233741</td>\n",
              "    </tr>\n",
              "    <tr>\n",
              "      <th>hour_resouces</th>\n",
              "      <td>0.542832</td>\n",
              "      <td>-0.078478</td>\n",
              "      <td>0.168008</td>\n",
              "      <td>1.000000</td>\n",
              "      <td>0.392953</td>\n",
              "      <td>0.662783</td>\n",
              "    </tr>\n",
              "    <tr>\n",
              "      <th>campaign_fee</th>\n",
              "      <td>0.541290</td>\n",
              "      <td>-0.092382</td>\n",
              "      <td>0.218127</td>\n",
              "      <td>0.392953</td>\n",
              "      <td>1.000000</td>\n",
              "      <td>0.928218</td>\n",
              "    </tr>\n",
              "    <tr>\n",
              "      <th>orders</th>\n",
              "      <td>0.626260</td>\n",
              "      <td>-0.103068</td>\n",
              "      <td>0.233741</td>\n",
              "      <td>0.662783</td>\n",
              "      <td>0.928218</td>\n",
              "      <td>1.000000</td>\n",
              "    </tr>\n",
              "  </tbody>\n",
              "</table>\n",
              "</div>"
            ],
            "text/plain": [
              "               email_rate     price  discount_rate  hour_resouces  \\\n",
              "email_rate       1.000000  0.142366       0.181861       0.542832   \n",
              "price            0.142366  1.000000       0.251978      -0.078478   \n",
              "discount_rate    0.181861  0.251978       1.000000       0.168008   \n",
              "hour_resouces    0.542832 -0.078478       0.168008       1.000000   \n",
              "campaign_fee     0.541290 -0.092382       0.218127       0.392953   \n",
              "orders           0.626260 -0.103068       0.233741       0.662783   \n",
              "\n",
              "               campaign_fee    orders  \n",
              "email_rate         0.541290  0.626260  \n",
              "price             -0.092382 -0.103068  \n",
              "discount_rate      0.218127  0.233741  \n",
              "hour_resouces      0.392953  0.662783  \n",
              "campaign_fee       1.000000  0.928218  \n",
              "orders             0.928218  1.000000  "
            ]
          },
          "execution_count": 23,
          "metadata": {},
          "output_type": "execute_result"
        }
      ],
      "source": [
        "### group all numerical features in 'df_num'\n",
        "df_num = df_new[['email_rate', 'price', 'discount_rate','hour_resouces', 'campaign_fee', 'orders']]\n",
        "\n",
        "# display numerical features\n",
        "df_num\n",
        "\n",
        "### identify correlation between different numerical features with target varible 'orders'\n",
        "correlation_num = df_num.corr()\n",
        "correlation_num"
      ]
    },
    {
      "cell_type": "markdown",
      "id": "a14c3e3b",
      "metadata": {
        "id": "a14c3e3b"
      },
      "source": [
        "### Interpretation:\n",
        "\n",
        "- 'email_rate' (0.628), 'hour_resouces' (0.664), and 'campaign_fee' (0.929) have positive correlations with 'orders',\n",
        "indicating that as the values of these variables increase, the value of 'orders' tends to increase as well.\n",
        "Among them, 'campaign_fee' has the highest correlation with 'orders'.\n",
        "\n",
        "- 'price' (-0.103) has a weak negative correlation with 'orders', indicating that as the price increases,\n",
        "the number of orders tends to slightly decrease.\n",
        "\n",
        "- 'discount_rate' (0.232) has a positive correlation with 'orders', suggesting that higher discount rates are associated with higher numbers of orders, but the correlation is not as strong as 'campaign_fee', 'hour_resouces', or 'email_rate'."
      ]
    },
    {
      "cell_type": "markdown",
      "id": "2a263a92",
      "metadata": {
        "id": "2a263a92"
      },
      "source": [
        "#### Identify the relationship of independent categorical variables with target variable \"orders\""
      ]
    },
    {
      "cell_type": "code",
      "execution_count": null,
      "id": "3f1f8bd5",
      "metadata": {
        "id": "3f1f8bd5",
        "outputId": "fd0b5c43-5902-4804-b98d-d6926a2bc382"
      },
      "outputs": [
        {
          "name": "stdout",
          "output_type": "stream",
          "text": [
            "ANOVA results for limit_infor:\n",
            "                   sum_sq     df         F    PR(>F)\n",
            "limit_infor  1.727772e+06    1.0  0.463652  0.496139\n",
            "Residual     2.705394e+09  726.0       NaN       NaN\n",
            "\n",
            "ANOVA results for campaign_type:\n",
            "                     sum_sq     df         F    PR(>F)\n",
            "campaign_type  9.684796e+06    1.0  2.606608  0.106854\n",
            "Residual       2.697437e+09  726.0       NaN       NaN\n",
            "\n",
            "ANOVA results for campaign_level:\n",
            "                      sum_sq     df         F    PR(>F)\n",
            "campaign_level  6.918293e+06    1.0  1.860112  0.173035\n",
            "Residual        2.700204e+09  726.0       NaN       NaN\n",
            "\n",
            "ANOVA results for product_level:\n",
            "                     sum_sq     df          F        PR(>F)\n",
            "product_level  2.387385e+08    1.0  70.217683  2.742171e-16\n",
            "Residual       2.468384e+09  726.0        NaN           NaN\n",
            "\n",
            "ANOVA results for resource_amount:\n",
            "                       sum_sq     df           F        PR(>F)\n",
            "resource_amount  1.040262e+09    1.0  453.085575  1.686918e-78\n",
            "Residual         1.666860e+09  726.0         NaN           NaN\n",
            "\n"
          ]
        }
      ],
      "source": [
        "# to identify the relationship between different categorical variables, ANOVA will be used\n",
        "# group all the categorical variables in df_cat\n",
        "df_cat = df_new[['limit_infor', 'campaign_type', 'campaign_level', 'product_level','resource_amount']]\n",
        "# Iterate through each categorical column in df_new\n",
        "for col in df_cat.columns:\n",
        "    # Skip if the column is 'orders' (numerical)\n",
        "    if col == 'orders':\n",
        "        continue\n",
        "\n",
        "    # Perform ANOVA\n",
        "    anova_results = sm.stats.anova_lm(sm.OLS.from_formula('orders ~ ' + col, data=df_new).fit(), typ=2)\n",
        "\n",
        "    # Print the ANOVA results\n",
        "    print(f\"ANOVA results for {col}:\\n{anova_results}\\n\")"
      ]
    },
    {
      "cell_type": "markdown",
      "id": "af0d1dd4",
      "metadata": {
        "id": "af0d1dd4"
      },
      "source": [
        "### Observations\n",
        "\n",
        "The ANOVA results provide insights into the relationship between each categorical variable and the numerical variable 'orders'.\n",
        "\n",
        "- limit_infor: The p-value (PR(>F)) associated with limit_infor is 0.505, which is greater than the typical significance level of 0.05. This suggests that there is no significant relationship between the 'limit_infor' categorical variable and 'orders'.\n",
        "\n",
        "- campaign_type: The p-value associated with campaign_type is 0.131, which is greater than 0.05. This indicates that there is no significant relationship between the 'campaign_type' categorical variable and 'orders'.\n",
        "\n",
        "- campaign_level: The p-value associated with campaign_level is 0.158, which is greater than 0.05. This suggests that there is no significant relationship between the 'campaign_level' categorical variable and 'orders'.\n",
        "\n",
        "- product_level: The p-value associated with product_level is very small (approximately 0). This indicates that there is a significant relationship between the 'product_level' categorical variable and 'orders'. The high F-statistic value (72.148) further supports this conclusion.\n",
        "\n",
        "- resource_amount: The p-value associated with resource_amount is very small (approximately 0). This suggests that there is a significant relationship between the 'resource_amount' categorical variable and 'orders'. The high F-statistic value (459.525) further supports this conclusion.\n",
        "\n",
        "**In summary, 'product_level' and 'resource_amount' appear to have a significant relationship with 'orders', while the other categorical variables do not. These results can help prioritize which variables to consider in further analysis or modeling efforts.**\n"
      ]
    },
    {
      "cell_type": "markdown",
      "id": "8f01067e",
      "metadata": {
        "id": "8f01067e"
      },
      "source": [
        "<a id=\"scale\"></a>\n",
        "## 2.7 Scale the Data"
      ]
    },
    {
      "cell_type": "markdown",
      "id": "91ef053a",
      "metadata": {
        "id": "91ef053a"
      },
      "source": [
        "We scale the variables to get all the variables in the same range. With this, we can avoid a problem in which some features come to dominate solely because they tend to have larger values than others."
      ]
    },
    {
      "cell_type": "code",
      "execution_count": null,
      "id": "800be72f",
      "metadata": {
        "id": "800be72f",
        "outputId": "9e933518-0052-4d17-b0fe-854bf05ca7e5"
      },
      "outputs": [
        {
          "data": {
            "text/html": [
              "<div>\n",
              "<style scoped>\n",
              "    .dataframe tbody tr th:only-of-type {\n",
              "        vertical-align: middle;\n",
              "    }\n",
              "\n",
              "    .dataframe tbody tr th {\n",
              "        vertical-align: top;\n",
              "    }\n",
              "\n",
              "    .dataframe thead th {\n",
              "        text-align: right;\n",
              "    }\n",
              "</style>\n",
              "<table border=\"1\" class=\"dataframe\">\n",
              "  <thead>\n",
              "    <tr style=\"text-align: right;\">\n",
              "      <th></th>\n",
              "      <th>email_rate</th>\n",
              "      <th>price</th>\n",
              "      <th>discount_rate</th>\n",
              "      <th>hour_resouces</th>\n",
              "      <th>campaign_fee</th>\n",
              "      <th>orders</th>\n",
              "    </tr>\n",
              "  </thead>\n",
              "  <tbody>\n",
              "    <tr>\n",
              "      <th>0</th>\n",
              "      <td>0.000000</td>\n",
              "      <td>0.412371</td>\n",
              "      <td>0.693878</td>\n",
              "      <td>0.026702</td>\n",
              "      <td>0.125325</td>\n",
              "      <td>0.225380</td>\n",
              "    </tr>\n",
              "    <tr>\n",
              "      <th>1</th>\n",
              "      <td>0.026316</td>\n",
              "      <td>0.453608</td>\n",
              "      <td>0.530612</td>\n",
              "      <td>0.043427</td>\n",
              "      <td>0.117817</td>\n",
              "      <td>0.110907</td>\n",
              "    </tr>\n",
              "    <tr>\n",
              "      <th>2</th>\n",
              "      <td>0.052632</td>\n",
              "      <td>0.505155</td>\n",
              "      <td>0.714286</td>\n",
              "      <td>0.024648</td>\n",
              "      <td>0.189142</td>\n",
              "      <td>0.160377</td>\n",
              "    </tr>\n",
              "    <tr>\n",
              "      <th>3</th>\n",
              "      <td>0.052632</td>\n",
              "      <td>0.422680</td>\n",
              "      <td>0.673469</td>\n",
              "      <td>0.027289</td>\n",
              "      <td>0.325296</td>\n",
              "      <td>0.269903</td>\n",
              "    </tr>\n",
              "    <tr>\n",
              "      <th>4</th>\n",
              "      <td>0.026316</td>\n",
              "      <td>0.474227</td>\n",
              "      <td>0.204082</td>\n",
              "      <td>0.020833</td>\n",
              "      <td>0.207335</td>\n",
              "      <td>0.173378</td>\n",
              "    </tr>\n",
              "    <tr>\n",
              "      <th>...</th>\n",
              "      <td>...</td>\n",
              "      <td>...</td>\n",
              "      <td>...</td>\n",
              "      <td>...</td>\n",
              "      <td>...</td>\n",
              "      <td>...</td>\n",
              "    </tr>\n",
              "    <tr>\n",
              "      <th>723</th>\n",
              "      <td>0.934211</td>\n",
              "      <td>0.505155</td>\n",
              "      <td>0.693878</td>\n",
              "      <td>0.242664</td>\n",
              "      <td>0.666185</td>\n",
              "      <td>0.625978</td>\n",
              "    </tr>\n",
              "    <tr>\n",
              "      <th>724</th>\n",
              "      <td>0.934211</td>\n",
              "      <td>0.556701</td>\n",
              "      <td>0.693878</td>\n",
              "      <td>0.196009</td>\n",
              "      <td>0.455674</td>\n",
              "      <td>0.439945</td>\n",
              "    </tr>\n",
              "    <tr>\n",
              "      <th>725</th>\n",
              "      <td>1.000000</td>\n",
              "      <td>0.597938</td>\n",
              "      <td>0.775510</td>\n",
              "      <td>0.164319</td>\n",
              "      <td>0.404996</td>\n",
              "      <td>0.387138</td>\n",
              "    </tr>\n",
              "    <tr>\n",
              "      <th>726</th>\n",
              "      <td>0.947368</td>\n",
              "      <td>0.515464</td>\n",
              "      <td>0.775510</td>\n",
              "      <td>0.289026</td>\n",
              "      <td>0.328906</td>\n",
              "      <td>0.375403</td>\n",
              "    </tr>\n",
              "    <tr>\n",
              "      <th>727</th>\n",
              "      <td>0.947368</td>\n",
              "      <td>0.505155</td>\n",
              "      <td>0.714286</td>\n",
              "      <td>0.424296</td>\n",
              "      <td>0.486861</td>\n",
              "      <td>0.554303</td>\n",
              "    </tr>\n",
              "  </tbody>\n",
              "</table>\n",
              "<p>728 rows × 6 columns</p>\n",
              "</div>"
            ],
            "text/plain": [
              "     email_rate     price  discount_rate  hour_resouces  campaign_fee  \\\n",
              "0      0.000000  0.412371       0.693878       0.026702      0.125325   \n",
              "1      0.026316  0.453608       0.530612       0.043427      0.117817   \n",
              "2      0.052632  0.505155       0.714286       0.024648      0.189142   \n",
              "3      0.052632  0.422680       0.673469       0.027289      0.325296   \n",
              "4      0.026316  0.474227       0.204082       0.020833      0.207335   \n",
              "..          ...       ...            ...            ...           ...   \n",
              "723    0.934211  0.505155       0.693878       0.242664      0.666185   \n",
              "724    0.934211  0.556701       0.693878       0.196009      0.455674   \n",
              "725    1.000000  0.597938       0.775510       0.164319      0.404996   \n",
              "726    0.947368  0.515464       0.775510       0.289026      0.328906   \n",
              "727    0.947368  0.505155       0.714286       0.424296      0.486861   \n",
              "\n",
              "       orders  \n",
              "0    0.225380  \n",
              "1    0.110907  \n",
              "2    0.160377  \n",
              "3    0.269903  \n",
              "4    0.173378  \n",
              "..        ...  \n",
              "723  0.625978  \n",
              "724  0.439945  \n",
              "725  0.387138  \n",
              "726  0.375403  \n",
              "727  0.554303  \n",
              "\n",
              "[728 rows x 6 columns]"
            ]
          },
          "execution_count": 25,
          "metadata": {},
          "output_type": "execute_result"
        }
      ],
      "source": [
        "# Assuming df_num contains your numerical features\n",
        "# Initialize MinMaxScaler\n",
        "scaler = MinMaxScaler()\n",
        "\n",
        "# Fit the scaler on your numerical data\n",
        "scaler.fit(df_num)\n",
        "\n",
        "# Transform the numerical data using the fitted scaler\n",
        "normalized_df = scaler.transform(df_num)\n",
        "normalized_df_num = pd.DataFrame(normalized_df, columns=df_num.columns)\n",
        "df_norm = normalized_df_num[['email_rate', 'price', 'discount_rate', 'hour_resouces', 'campaign_fee', 'orders']]\n",
        "\n",
        "df_norm"
      ]
    },
    {
      "cell_type": "code",
      "execution_count": null,
      "id": "82505ed7",
      "metadata": {
        "id": "82505ed7",
        "outputId": "60a4bb83-84d3-4457-9e1c-97a364ad6d5d"
      },
      "outputs": [
        {
          "name": "stdout",
          "output_type": "stream",
          "text": [
            "<class 'pandas.core.frame.DataFrame'>\n",
            "RangeIndex: 728 entries, 0 to 727\n",
            "Data columns (total 11 columns):\n",
            " #   Column           Non-Null Count  Dtype  \n",
            "---  ------           --------------  -----  \n",
            " 0   limit_infor      728 non-null    int64  \n",
            " 1   campaign_type    728 non-null    int64  \n",
            " 2   campaign_level   728 non-null    int64  \n",
            " 3   product_level    728 non-null    int64  \n",
            " 4   resource_amount  728 non-null    int64  \n",
            " 5   email_rate       728 non-null    float64\n",
            " 6   price            728 non-null    float64\n",
            " 7   discount_rate    728 non-null    float64\n",
            " 8   hour_resouces    728 non-null    float64\n",
            " 9   campaign_fee     728 non-null    float64\n",
            " 10  orders           728 non-null    float64\n",
            "dtypes: float64(6), int64(5)\n",
            "memory usage: 62.7 KB\n"
          ]
        }
      ],
      "source": [
        "# Reset index for df_cat and df_norm\n",
        "df_cat.reset_index(drop=True, inplace=True)\n",
        "df_norm.reset_index(drop=True, inplace=True)\n",
        "\n",
        "# Merge df_cat and df_norm on the index\n",
        "df_model_dataset = pd.concat([df_cat, df_norm], axis=1)\n",
        "\n",
        "# Check information about df_model_dataset\n",
        "df_model_dataset.info()"
      ]
    },
    {
      "cell_type": "markdown",
      "id": "74dbcfb3",
      "metadata": {
        "id": "74dbcfb3"
      },
      "source": [
        "<a id=\"split\"></a>\n",
        "## 2.8 Train-Test Split"
      ]
    },
    {
      "cell_type": "markdown",
      "id": "a9447fb0",
      "metadata": {
        "id": "a9447fb0"
      },
      "source": [
        "Before applying various classification techniques to predict the admission status of the student, let us split the dataset in train and test set."
      ]
    },
    {
      "cell_type": "code",
      "execution_count": null,
      "id": "08a09534",
      "metadata": {
        "id": "08a09534"
      },
      "outputs": [],
      "source": [
        "# store all the independent variables in a dataframe 'X'\n",
        "# drop the column 'orders' using drop()\n",
        "# 'axis = 1' drops the specified column\n",
        "X = df_model_dataset.drop('orders', axis = 1)\n",
        "\n",
        "# store the target variable 'SOLD PRICE' in a dataframe 'df_target'\n",
        "y = df_model_dataset['orders']"
      ]
    },
    {
      "cell_type": "code",
      "execution_count": null,
      "id": "6f6da9e0",
      "metadata": {
        "id": "6f6da9e0",
        "outputId": "c64d1dad-3a39-4c7a-c9e7-a629994a0055"
      },
      "outputs": [
        {
          "name": "stdout",
          "output_type": "stream",
          "text": [
            "X_train (582, 10)\n",
            "y_train (582,)\n",
            "X_test (146, 10)\n",
            "y_test (146,)\n"
          ]
        }
      ],
      "source": [
        "# Split the data into training and testing sets (80% train, 20% test)\n",
        "X_train, X_test, y_train, y_test = train_test_split(X, y, test_size=0.2, random_state=42)\n",
        "\n",
        "# check the dimensions of the train & test subset using 'shape'\n",
        "# print dimension of train set\n",
        "print('X_train', X_train.shape)\n",
        "print('y_train', y_train.shape)\n",
        "\n",
        "# print dimension of test set\n",
        "print('X_test', X_test.shape)\n",
        "print('y_test', y_test.shape)"
      ]
    },
    {
      "cell_type": "code",
      "execution_count": null,
      "id": "ade8ec42",
      "metadata": {
        "id": "ade8ec42"
      },
      "outputs": [],
      "source": [
        "# create a generalized function to calculate the RMSE values for train set\n",
        "def get_train_rmse(model):\n",
        "\n",
        "    # For training set:\n",
        "    # train_pred: prediction made by the model on the training dataset 'X_train'\n",
        "    # y_train: actual values ofthe target variable for the train dataset\n",
        "\n",
        "    # predict the output of the target variable from the train data\n",
        "    train_pred = model.predict(X_train)\n",
        "\n",
        "    # calculate the MSE using the \"mean_squared_error\" function\n",
        "\n",
        "    # MSE for the train data\n",
        "    mse_train = mean_squared_error(y_train, train_pred)\n",
        "\n",
        "    # take the square root of the MSE to calculate the RMSE\n",
        "    # round the value upto 4 digits using 'round()'\n",
        "    rmse_train = np.sqrt(mse_train)\n",
        "\n",
        "    # return the training RMSE\n",
        "    return(rmse_train)"
      ]
    },
    {
      "cell_type": "code",
      "execution_count": null,
      "id": "6ee018ac",
      "metadata": {
        "id": "6ee018ac"
      },
      "outputs": [],
      "source": [
        "# create a generalized function to calculate the RMSE values test set\n",
        "def get_test_rmse(model):\n",
        "\n",
        "    # For testing set:\n",
        "    # test_pred: prediction made by the model on the test dataset 'X_test'\n",
        "    # y_test: actual values of the target variable for the test dataset\n",
        "\n",
        "    # predict the output of the target variable from the test data\n",
        "    test_pred = model.predict(X_test)\n",
        "\n",
        "    # MSE for the test data\n",
        "    mse_test = mean_squared_error(y_test, test_pred)\n",
        "\n",
        "    # take the square root of the MSE to calculate the RMSE\n",
        "    # round the value upto 4 digits using 'round()'\n",
        "    rmse_test = np.sqrt(mse_test)\n",
        "\n",
        "    # return the test RMSE\n",
        "    return(rmse_test)"
      ]
    },
    {
      "cell_type": "code",
      "execution_count": null,
      "id": "1411e3e2",
      "metadata": {
        "id": "1411e3e2"
      },
      "outputs": [],
      "source": [
        "# define a function to get R-squared and adjusted R-squared value\n",
        "def get_score(model):\n",
        "\n",
        "    # score() returns the R-squared value\n",
        "    r_sq = model.score(X_train, y_train)\n",
        "\n",
        "    # return the R-squared and adjusted R-squared value\n",
        "    return (r_sq)"
      ]
    },
    {
      "cell_type": "markdown",
      "id": "08cba8a4",
      "metadata": {
        "id": "08cba8a4"
      },
      "source": [
        "<a id=\"linear\"></a>\n",
        "# 3. Linear Regression"
      ]
    },
    {
      "cell_type": "code",
      "execution_count": null,
      "id": "247ee5cd",
      "metadata": {
        "id": "247ee5cd",
        "outputId": "0aea69ab-dc38-4277-f390-70fa1ecbf11c"
      },
      "outputs": [
        {
          "data": {
            "text/plain": [
              "0.9673"
            ]
          },
          "execution_count": 32,
          "metadata": {},
          "output_type": "execute_result"
        }
      ],
      "source": [
        "# initiate linear regression model\n",
        "linreg = LinearRegression()\n",
        "\n",
        "# build the model using X_train and y_train\n",
        "# use fit() to fit the regression model\n",
        "LR_model = linreg.fit(X_train, y_train)\n",
        "\n",
        "# print the R-squared value for the model\n",
        "# score() returns the R-squared value\n",
        "LR_score = round(LR_model.score(X_train, y_train),4)\n",
        "LR_score"
      ]
    },
    {
      "cell_type": "code",
      "execution_count": null,
      "id": "7bf4d112",
      "metadata": {
        "id": "7bf4d112",
        "outputId": "cab6606a-026e-403c-9904-e0781bc22b52"
      },
      "outputs": [
        {
          "data": {
            "text/plain": [
              "0.9673"
            ]
          },
          "execution_count": 33,
          "metadata": {},
          "output_type": "execute_result"
        }
      ],
      "source": [
        "r_score = round(get_score(linreg),4)\n",
        "r_score"
      ]
    },
    {
      "cell_type": "code",
      "execution_count": null,
      "id": "72c0cd8e",
      "metadata": {
        "id": "72c0cd8e",
        "outputId": "6273c327-7bfa-4238-d4f2-e6a2ddd3237c"
      },
      "outputs": [
        {
          "name": "stdout",
          "output_type": "stream",
          "text": [
            "RMSE on train set:  0.0403014545867078\n",
            "RMSE on test set:  0.04055769225974933\n",
            "Difference between RMSE on train and test set:  0.00025623767304153167\n"
          ]
        }
      ],
      "source": [
        "# print training RMSE\n",
        "print('RMSE on train set: ', get_train_rmse(LR_model))\n",
        "\n",
        "# print training RMSE\n",
        "print('RMSE on test set: ', get_test_rmse(LR_model))\n",
        "\n",
        "# calculate the difference between train and test set RMSE\n",
        "difference = abs(get_test_rmse(LR_model) - get_train_rmse(LR_model))\n",
        "\n",
        "# print the difference between train and test set RMSE\n",
        "print('Difference between RMSE on train and test set: ', difference)"
      ]
    },
    {
      "cell_type": "markdown",
      "id": "d95daf84",
      "metadata": {
        "id": "d95daf84"
      },
      "source": [
        "### Intrpretation:\n",
        "- A small difference between the RMSE values on the training and test sets suggests that the LR  model generalizes well to unseen data, indicating that it is not overfitting or underfitting.\n",
        "- However, further analysis and comparison with alternative models might be necessary to determine the optimal model for the given task. Additionally, considering other evaluation metrics and examining the residuals could provide deeper insights into the model's performance."
      ]
    },
    {
      "cell_type": "markdown",
      "id": "c7870395",
      "metadata": {
        "id": "c7870395"
      },
      "source": [
        "<a id=\"svm\"></a>\n",
        "# 4. Support Vector Machine (SVM)"
      ]
    },
    {
      "cell_type": "code",
      "execution_count": null,
      "id": "d7cb2e71",
      "metadata": {
        "id": "d7cb2e71",
        "outputId": "dddb6318-77a9-4353-8a0d-4855578918f0"
      },
      "outputs": [
        {
          "name": "stdout",
          "output_type": "stream",
          "text": [
            "Mean Squared Error (MSE): 0.0016\n",
            "RMSE on train set:  0.041238877167206395\n",
            "RMSE on test set:  0.04047044465062157\n",
            "Difference between RMSE on train and test set:  0.000768432516584823\n"
          ]
        }
      ],
      "source": [
        "from sklearn.svm import SVR\n",
        "from sklearn.metrics import classification_report, accuracy_score\n",
        "svr_classifier = SVR(C=1.0, epsilon=0.000001,gamma='scale',kernel='rbf')\n",
        "\n",
        "# Train the SVM model on the training set\n",
        "svr_classifier.fit(X_train, y_train)\n",
        "\n",
        "# Predict on the testing set\n",
        "y_pred = svr_classifier.predict(X_test)\n",
        "mse = round(mean_squared_error(y_test, y_pred),4)\n",
        "print(\"Mean Squared Error (MSE):\", mse)\n",
        "# Evaluate the performance of the SVM model\n",
        "# print training RMSE\n",
        "print('RMSE on train set: ', get_train_rmse(svr_classifier))\n",
        "\n",
        "# print training RMSE\n",
        "print('RMSE on test set: ', get_test_rmse(svr_classifier))\n",
        "\n",
        "# calculate the difference between train and test set RMSE\n",
        "difference = abs(get_test_rmse(svr_classifier) - get_train_rmse(svr_classifier))\n",
        "\n",
        "# print the difference between train and test set RMSE\n",
        "print('Difference between RMSE on train and test set: ', difference)"
      ]
    },
    {
      "cell_type": "markdown",
      "id": "c8aae2c5",
      "metadata": {
        "id": "c8aae2c5"
      },
      "source": [
        "**Interpretation:** Based on the RMSE values and the margin between the train and test RMSE, the SVM model shows satisfactory performance. However, for a thorough evaluation and to determine the optimal model for the given task, additional analysis and comparison with Random Forest Regression will be performed."
      ]
    },
    {
      "cell_type": "markdown",
      "id": "6b6038d3",
      "metadata": {
        "id": "6b6038d3"
      },
      "source": [
        "<a id=\"rfr\"></a>\n",
        "# 5. Random Forest Regression (RFR)"
      ]
    },
    {
      "cell_type": "code",
      "execution_count": null,
      "id": "5840976d",
      "metadata": {
        "id": "5840976d"
      },
      "outputs": [],
      "source": [
        "# instantiate the 'RandomForestRegressor'\n",
        "# pass the required number of trees in the random forest to the parameter, 'n_estimators'\n",
        "# pass the 'random_state' to obtain the same samples for each time you run the code\n",
        "rf_regressor = RandomForestRegressor(n_estimators=10, random_state=42)\n",
        "\n",
        "# Fit the model on the training data\n",
        "rf_model = rf_regressor.fit(X_train, y_train)"
      ]
    },
    {
      "cell_type": "code",
      "execution_count": null,
      "id": "83d6718d",
      "metadata": {
        "id": "83d6718d",
        "outputId": "66c79134-51a9-424d-bad9-c8c1906e70ae"
      },
      "outputs": [
        {
          "name": "stdout",
          "output_type": "stream",
          "text": [
            "RMSE on train set:  0.021156820477821636\n",
            "RMSE on test set:  0.04450011465548552\n",
            "Difference between RMSE on train and test set:  0.0233\n"
          ]
        }
      ],
      "source": [
        "# print training RMSE\n",
        "print('RMSE on train set: ', get_train_rmse(rf_model))\n",
        "\n",
        "# print training RMSE\n",
        "print('RMSE on test set: ', get_test_rmse(rf_model))\n",
        "\n",
        "# calculate the difference between train and test set RMSE\n",
        "difference = round(abs(get_test_rmse(rf_model) - get_train_rmse(rf_model)),4)\n",
        "\n",
        "# print the difference between train and test set RMSE\n",
        "print('Difference between RMSE on train and test set: ', difference)"
      ]
    },
    {
      "cell_type": "markdown",
      "id": "a6f543c9",
      "metadata": {
        "id": "a6f543c9"
      },
      "source": [
        "<a id=\"tune\"></a>\n",
        "## 5.1 Tune the Hyperparameters using GridSearchCV"
      ]
    },
    {
      "cell_type": "code",
      "execution_count": null,
      "id": "c7243bb9",
      "metadata": {
        "id": "c7243bb9",
        "outputId": "2b6490e1-1ffc-4e0f-e809-92bfea461b6a"
      },
      "outputs": [
        {
          "name": "stdout",
          "output_type": "stream",
          "text": [
            "{'bootstrap': True, 'ccp_alpha': 0.0, 'criterion': 'squared_error', 'max_depth': None, 'max_features': 1.0, 'max_leaf_nodes': None, 'max_samples': None, 'min_impurity_decrease': 0.0, 'min_samples_leaf': 1, 'min_samples_split': 2, 'min_weight_fraction_leaf': 0.0, 'n_estimators': 100, 'n_jobs': None, 'oob_score': False, 'random_state': 42, 'verbose': 0, 'warm_start': False}\n",
            "Fitting 5 folds for each of 162 candidates, totalling 810 fits\n",
            "[CV] END max_depth=10, min_samples_leaf=1, min_samples_split=2, n_estimators=100; total time=   0.4s\n",
            "[CV] END max_depth=10, min_samples_leaf=1, min_samples_split=2, n_estimators=100; total time=   0.4s\n",
            "[CV] END max_depth=10, min_samples_leaf=1, min_samples_split=2, n_estimators=100; total time=   0.4s\n",
            "[CV] END max_depth=10, min_samples_leaf=1, min_samples_split=2, n_estimators=100; total time=   0.4s\n",
            "[CV] END max_depth=10, min_samples_leaf=1, min_samples_split=2, n_estimators=100; total time=   0.4s\n",
            "[CV] END max_depth=10, min_samples_leaf=1, min_samples_split=2, n_estimators=200; total time=   0.9s\n",
            "[CV] END max_depth=10, min_samples_leaf=1, min_samples_split=2, n_estimators=200; total time=   0.8s\n",
            "[CV] END max_depth=10, min_samples_leaf=1, min_samples_split=2, n_estimators=200; total time=   0.8s\n",
            "[CV] END max_depth=10, min_samples_leaf=1, min_samples_split=2, n_estimators=200; total time=   0.8s\n",
            "[CV] END max_depth=10, min_samples_leaf=1, min_samples_split=2, n_estimators=200; total time=   0.8s\n",
            "[CV] END max_depth=10, min_samples_leaf=1, min_samples_split=2, n_estimators=300; total time=   1.3s\n",
            "[CV] END max_depth=10, min_samples_leaf=1, min_samples_split=2, n_estimators=300; total time=   1.3s\n",
            "[CV] END max_depth=10, min_samples_leaf=1, min_samples_split=2, n_estimators=300; total time=   1.3s\n",
            "[CV] END max_depth=10, min_samples_leaf=1, min_samples_split=2, n_estimators=300; total time=   1.3s\n",
            "[CV] END max_depth=10, min_samples_leaf=1, min_samples_split=2, n_estimators=300; total time=   1.3s\n",
            "[CV] END max_depth=10, min_samples_leaf=1, min_samples_split=5, n_estimators=100; total time=   0.3s\n",
            "[CV] END max_depth=10, min_samples_leaf=1, min_samples_split=5, n_estimators=100; total time=   0.3s\n",
            "[CV] END max_depth=10, min_samples_leaf=1, min_samples_split=5, n_estimators=100; total time=   0.3s\n",
            "[CV] END max_depth=10, min_samples_leaf=1, min_samples_split=5, n_estimators=100; total time=   0.3s\n",
            "[CV] END max_depth=10, min_samples_leaf=1, min_samples_split=5, n_estimators=100; total time=   0.3s\n",
            "[CV] END max_depth=10, min_samples_leaf=1, min_samples_split=5, n_estimators=200; total time=   0.7s\n",
            "[CV] END max_depth=10, min_samples_leaf=1, min_samples_split=5, n_estimators=200; total time=   0.7s\n",
            "[CV] END max_depth=10, min_samples_leaf=1, min_samples_split=5, n_estimators=200; total time=   0.7s\n",
            "[CV] END max_depth=10, min_samples_leaf=1, min_samples_split=5, n_estimators=200; total time=   0.7s\n",
            "[CV] END max_depth=10, min_samples_leaf=1, min_samples_split=5, n_estimators=200; total time=   0.7s\n",
            "[CV] END max_depth=10, min_samples_leaf=1, min_samples_split=5, n_estimators=300; total time=   1.0s\n",
            "[CV] END max_depth=10, min_samples_leaf=1, min_samples_split=5, n_estimators=300; total time=   1.0s\n",
            "[CV] END max_depth=10, min_samples_leaf=1, min_samples_split=5, n_estimators=300; total time=   1.0s\n",
            "[CV] END max_depth=10, min_samples_leaf=1, min_samples_split=5, n_estimators=300; total time=   1.0s\n",
            "[CV] END max_depth=10, min_samples_leaf=1, min_samples_split=5, n_estimators=300; total time=   1.0s\n",
            "[CV] END max_depth=10, min_samples_leaf=1, min_samples_split=10, n_estimators=100; total time=   0.2s\n",
            "[CV] END max_depth=10, min_samples_leaf=1, min_samples_split=10, n_estimators=100; total time=   0.2s\n",
            "[CV] END max_depth=10, min_samples_leaf=1, min_samples_split=10, n_estimators=100; total time=   0.2s\n",
            "[CV] END max_depth=10, min_samples_leaf=1, min_samples_split=10, n_estimators=100; total time=   0.2s\n",
            "[CV] END max_depth=10, min_samples_leaf=1, min_samples_split=10, n_estimators=100; total time=   0.2s\n",
            "[CV] END max_depth=10, min_samples_leaf=1, min_samples_split=10, n_estimators=200; total time=   0.5s\n",
            "[CV] END max_depth=10, min_samples_leaf=1, min_samples_split=10, n_estimators=200; total time=   0.5s\n",
            "[CV] END max_depth=10, min_samples_leaf=1, min_samples_split=10, n_estimators=200; total time=   0.5s\n",
            "[CV] END max_depth=10, min_samples_leaf=1, min_samples_split=10, n_estimators=200; total time=   0.5s\n",
            "[CV] END max_depth=10, min_samples_leaf=1, min_samples_split=10, n_estimators=200; total time=   0.5s\n",
            "[CV] END max_depth=10, min_samples_leaf=1, min_samples_split=10, n_estimators=300; total time=   0.8s\n",
            "[CV] END max_depth=10, min_samples_leaf=1, min_samples_split=10, n_estimators=300; total time=   0.8s\n",
            "[CV] END max_depth=10, min_samples_leaf=1, min_samples_split=10, n_estimators=300; total time=   0.9s\n",
            "[CV] END max_depth=10, min_samples_leaf=1, min_samples_split=10, n_estimators=300; total time=   0.9s\n",
            "[CV] END max_depth=10, min_samples_leaf=1, min_samples_split=10, n_estimators=300; total time=   0.9s\n",
            "[CV] END max_depth=10, min_samples_leaf=2, min_samples_split=2, n_estimators=100; total time=   0.3s\n",
            "[CV] END max_depth=10, min_samples_leaf=2, min_samples_split=2, n_estimators=100; total time=   0.3s\n",
            "[CV] END max_depth=10, min_samples_leaf=2, min_samples_split=2, n_estimators=100; total time=   0.3s\n",
            "[CV] END max_depth=10, min_samples_leaf=2, min_samples_split=2, n_estimators=100; total time=   0.3s\n",
            "[CV] END max_depth=10, min_samples_leaf=2, min_samples_split=2, n_estimators=100; total time=   0.3s\n",
            "[CV] END max_depth=10, min_samples_leaf=2, min_samples_split=2, n_estimators=200; total time=   0.6s\n",
            "[CV] END max_depth=10, min_samples_leaf=2, min_samples_split=2, n_estimators=200; total time=   0.7s\n",
            "[CV] END max_depth=10, min_samples_leaf=2, min_samples_split=2, n_estimators=200; total time=   0.6s\n",
            "[CV] END max_depth=10, min_samples_leaf=2, min_samples_split=2, n_estimators=200; total time=   0.7s\n",
            "[CV] END max_depth=10, min_samples_leaf=2, min_samples_split=2, n_estimators=200; total time=   0.6s\n",
            "[CV] END max_depth=10, min_samples_leaf=2, min_samples_split=2, n_estimators=300; total time=   1.0s\n",
            "[CV] END max_depth=10, min_samples_leaf=2, min_samples_split=2, n_estimators=300; total time=   1.0s\n",
            "[CV] END max_depth=10, min_samples_leaf=2, min_samples_split=2, n_estimators=300; total time=   1.0s\n",
            "[CV] END max_depth=10, min_samples_leaf=2, min_samples_split=2, n_estimators=300; total time=   1.0s\n",
            "[CV] END max_depth=10, min_samples_leaf=2, min_samples_split=2, n_estimators=300; total time=   1.0s\n",
            "[CV] END max_depth=10, min_samples_leaf=2, min_samples_split=5, n_estimators=100; total time=   0.3s\n",
            "[CV] END max_depth=10, min_samples_leaf=2, min_samples_split=5, n_estimators=100; total time=   0.3s\n",
            "[CV] END max_depth=10, min_samples_leaf=2, min_samples_split=5, n_estimators=100; total time=   0.3s\n",
            "[CV] END max_depth=10, min_samples_leaf=2, min_samples_split=5, n_estimators=100; total time=   0.3s\n",
            "[CV] END max_depth=10, min_samples_leaf=2, min_samples_split=5, n_estimators=100; total time=   0.3s\n",
            "[CV] END max_depth=10, min_samples_leaf=2, min_samples_split=5, n_estimators=200; total time=   0.6s\n",
            "[CV] END max_depth=10, min_samples_leaf=2, min_samples_split=5, n_estimators=200; total time=   0.6s\n",
            "[CV] END max_depth=10, min_samples_leaf=2, min_samples_split=5, n_estimators=200; total time=   0.6s\n",
            "[CV] END max_depth=10, min_samples_leaf=2, min_samples_split=5, n_estimators=200; total time=   0.7s\n",
            "[CV] END max_depth=10, min_samples_leaf=2, min_samples_split=5, n_estimators=200; total time=   0.6s\n",
            "[CV] END max_depth=10, min_samples_leaf=2, min_samples_split=5, n_estimators=300; total time=   1.0s\n",
            "[CV] END max_depth=10, min_samples_leaf=2, min_samples_split=5, n_estimators=300; total time=   1.0s\n",
            "[CV] END max_depth=10, min_samples_leaf=2, min_samples_split=5, n_estimators=300; total time=   1.0s\n",
            "[CV] END max_depth=10, min_samples_leaf=2, min_samples_split=5, n_estimators=300; total time=   1.0s\n",
            "[CV] END max_depth=10, min_samples_leaf=2, min_samples_split=5, n_estimators=300; total time=   1.0s\n",
            "[CV] END max_depth=10, min_samples_leaf=2, min_samples_split=10, n_estimators=100; total time=   0.2s\n",
            "[CV] END max_depth=10, min_samples_leaf=2, min_samples_split=10, n_estimators=100; total time=   0.2s\n"
          ]
        },
        {
          "name": "stdout",
          "output_type": "stream",
          "text": [
            "[CV] END max_depth=10, min_samples_leaf=2, min_samples_split=10, n_estimators=100; total time=   0.2s\n",
            "[CV] END max_depth=10, min_samples_leaf=2, min_samples_split=10, n_estimators=100; total time=   0.2s\n",
            "[CV] END max_depth=10, min_samples_leaf=2, min_samples_split=10, n_estimators=100; total time=   0.2s\n",
            "[CV] END max_depth=10, min_samples_leaf=2, min_samples_split=10, n_estimators=200; total time=   0.5s\n",
            "[CV] END max_depth=10, min_samples_leaf=2, min_samples_split=10, n_estimators=200; total time=   0.5s\n",
            "[CV] END max_depth=10, min_samples_leaf=2, min_samples_split=10, n_estimators=200; total time=   0.5s\n",
            "[CV] END max_depth=10, min_samples_leaf=2, min_samples_split=10, n_estimators=200; total time=   0.5s\n",
            "[CV] END max_depth=10, min_samples_leaf=2, min_samples_split=10, n_estimators=200; total time=   0.5s\n",
            "[CV] END max_depth=10, min_samples_leaf=2, min_samples_split=10, n_estimators=300; total time=   0.8s\n",
            "[CV] END max_depth=10, min_samples_leaf=2, min_samples_split=10, n_estimators=300; total time=   0.8s\n",
            "[CV] END max_depth=10, min_samples_leaf=2, min_samples_split=10, n_estimators=300; total time=   0.8s\n",
            "[CV] END max_depth=10, min_samples_leaf=2, min_samples_split=10, n_estimators=300; total time=   0.9s\n",
            "[CV] END max_depth=10, min_samples_leaf=2, min_samples_split=10, n_estimators=300; total time=   0.8s\n",
            "[CV] END max_depth=10, min_samples_leaf=4, min_samples_split=2, n_estimators=100; total time=   0.2s\n",
            "[CV] END max_depth=10, min_samples_leaf=4, min_samples_split=2, n_estimators=100; total time=   0.2s\n",
            "[CV] END max_depth=10, min_samples_leaf=4, min_samples_split=2, n_estimators=100; total time=   0.2s\n",
            "[CV] END max_depth=10, min_samples_leaf=4, min_samples_split=2, n_estimators=100; total time=   0.2s\n",
            "[CV] END max_depth=10, min_samples_leaf=4, min_samples_split=2, n_estimators=100; total time=   0.2s\n",
            "[CV] END max_depth=10, min_samples_leaf=4, min_samples_split=2, n_estimators=200; total time=   0.5s\n",
            "[CV] END max_depth=10, min_samples_leaf=4, min_samples_split=2, n_estimators=200; total time=   0.5s\n",
            "[CV] END max_depth=10, min_samples_leaf=4, min_samples_split=2, n_estimators=200; total time=   0.5s\n",
            "[CV] END max_depth=10, min_samples_leaf=4, min_samples_split=2, n_estimators=200; total time=   0.5s\n",
            "[CV] END max_depth=10, min_samples_leaf=4, min_samples_split=2, n_estimators=200; total time=   0.5s\n",
            "[CV] END max_depth=10, min_samples_leaf=4, min_samples_split=2, n_estimators=300; total time=   0.8s\n",
            "[CV] END max_depth=10, min_samples_leaf=4, min_samples_split=2, n_estimators=300; total time=   0.8s\n",
            "[CV] END max_depth=10, min_samples_leaf=4, min_samples_split=2, n_estimators=300; total time=   0.8s\n",
            "[CV] END max_depth=10, min_samples_leaf=4, min_samples_split=2, n_estimators=300; total time=   0.8s\n",
            "[CV] END max_depth=10, min_samples_leaf=4, min_samples_split=2, n_estimators=300; total time=   0.8s\n",
            "[CV] END max_depth=10, min_samples_leaf=4, min_samples_split=5, n_estimators=100; total time=   0.2s\n",
            "[CV] END max_depth=10, min_samples_leaf=4, min_samples_split=5, n_estimators=100; total time=   0.2s\n",
            "[CV] END max_depth=10, min_samples_leaf=4, min_samples_split=5, n_estimators=100; total time=   0.2s\n",
            "[CV] END max_depth=10, min_samples_leaf=4, min_samples_split=5, n_estimators=100; total time=   0.2s\n",
            "[CV] END max_depth=10, min_samples_leaf=4, min_samples_split=5, n_estimators=100; total time=   0.2s\n",
            "[CV] END max_depth=10, min_samples_leaf=4, min_samples_split=5, n_estimators=200; total time=   0.5s\n",
            "[CV] END max_depth=10, min_samples_leaf=4, min_samples_split=5, n_estimators=200; total time=   0.5s\n",
            "[CV] END max_depth=10, min_samples_leaf=4, min_samples_split=5, n_estimators=200; total time=   0.5s\n",
            "[CV] END max_depth=10, min_samples_leaf=4, min_samples_split=5, n_estimators=200; total time=   0.5s\n",
            "[CV] END max_depth=10, min_samples_leaf=4, min_samples_split=5, n_estimators=200; total time=   0.5s\n",
            "[CV] END max_depth=10, min_samples_leaf=4, min_samples_split=5, n_estimators=300; total time=   0.8s\n",
            "[CV] END max_depth=10, min_samples_leaf=4, min_samples_split=5, n_estimators=300; total time=   0.8s\n",
            "[CV] END max_depth=10, min_samples_leaf=4, min_samples_split=5, n_estimators=300; total time=   0.8s\n",
            "[CV] END max_depth=10, min_samples_leaf=4, min_samples_split=5, n_estimators=300; total time=   0.8s\n",
            "[CV] END max_depth=10, min_samples_leaf=4, min_samples_split=5, n_estimators=300; total time=   0.8s\n",
            "[CV] END max_depth=10, min_samples_leaf=4, min_samples_split=10, n_estimators=100; total time=   0.2s\n",
            "[CV] END max_depth=10, min_samples_leaf=4, min_samples_split=10, n_estimators=100; total time=   0.2s\n",
            "[CV] END max_depth=10, min_samples_leaf=4, min_samples_split=10, n_estimators=100; total time=   0.2s\n",
            "[CV] END max_depth=10, min_samples_leaf=4, min_samples_split=10, n_estimators=100; total time=   0.2s\n",
            "[CV] END max_depth=10, min_samples_leaf=4, min_samples_split=10, n_estimators=100; total time=   0.2s\n",
            "[CV] END max_depth=10, min_samples_leaf=4, min_samples_split=10, n_estimators=200; total time=   0.5s\n",
            "[CV] END max_depth=10, min_samples_leaf=4, min_samples_split=10, n_estimators=200; total time=   0.4s\n",
            "[CV] END max_depth=10, min_samples_leaf=4, min_samples_split=10, n_estimators=200; total time=   0.5s\n",
            "[CV] END max_depth=10, min_samples_leaf=4, min_samples_split=10, n_estimators=200; total time=   0.4s\n",
            "[CV] END max_depth=10, min_samples_leaf=4, min_samples_split=10, n_estimators=200; total time=   0.4s\n",
            "[CV] END max_depth=10, min_samples_leaf=4, min_samples_split=10, n_estimators=300; total time=   0.7s\n",
            "[CV] END max_depth=10, min_samples_leaf=4, min_samples_split=10, n_estimators=300; total time=   0.7s\n",
            "[CV] END max_depth=10, min_samples_leaf=4, min_samples_split=10, n_estimators=300; total time=   0.7s\n",
            "[CV] END max_depth=10, min_samples_leaf=4, min_samples_split=10, n_estimators=300; total time=   0.7s\n",
            "[CV] END max_depth=10, min_samples_leaf=4, min_samples_split=10, n_estimators=300; total time=   0.7s\n",
            "[CV] END max_depth=10, min_samples_leaf=8, min_samples_split=2, n_estimators=100; total time=   0.1s\n",
            "[CV] END max_depth=10, min_samples_leaf=8, min_samples_split=2, n_estimators=100; total time=   0.1s\n",
            "[CV] END max_depth=10, min_samples_leaf=8, min_samples_split=2, n_estimators=100; total time=   0.1s\n",
            "[CV] END max_depth=10, min_samples_leaf=8, min_samples_split=2, n_estimators=100; total time=   0.1s\n",
            "[CV] END max_depth=10, min_samples_leaf=8, min_samples_split=2, n_estimators=100; total time=   0.2s\n",
            "[CV] END max_depth=10, min_samples_leaf=8, min_samples_split=2, n_estimators=200; total time=   0.4s\n",
            "[CV] END max_depth=10, min_samples_leaf=8, min_samples_split=2, n_estimators=200; total time=   0.4s\n",
            "[CV] END max_depth=10, min_samples_leaf=8, min_samples_split=2, n_estimators=200; total time=   0.4s\n",
            "[CV] END max_depth=10, min_samples_leaf=8, min_samples_split=2, n_estimators=200; total time=   0.4s\n",
            "[CV] END max_depth=10, min_samples_leaf=8, min_samples_split=2, n_estimators=200; total time=   0.4s\n",
            "[CV] END max_depth=10, min_samples_leaf=8, min_samples_split=2, n_estimators=300; total time=   0.6s\n",
            "[CV] END max_depth=10, min_samples_leaf=8, min_samples_split=2, n_estimators=300; total time=   0.7s\n",
            "[CV] END max_depth=10, min_samples_leaf=8, min_samples_split=2, n_estimators=300; total time=   0.6s\n",
            "[CV] END max_depth=10, min_samples_leaf=8, min_samples_split=2, n_estimators=300; total time=   0.6s\n",
            "[CV] END max_depth=10, min_samples_leaf=8, min_samples_split=2, n_estimators=300; total time=   0.6s\n",
            "[CV] END max_depth=10, min_samples_leaf=8, min_samples_split=5, n_estimators=100; total time=   0.1s\n",
            "[CV] END max_depth=10, min_samples_leaf=8, min_samples_split=5, n_estimators=100; total time=   0.1s\n",
            "[CV] END max_depth=10, min_samples_leaf=8, min_samples_split=5, n_estimators=100; total time=   0.1s\n",
            "[CV] END max_depth=10, min_samples_leaf=8, min_samples_split=5, n_estimators=100; total time=   0.1s\n",
            "[CV] END max_depth=10, min_samples_leaf=8, min_samples_split=5, n_estimators=100; total time=   0.1s\n",
            "[CV] END max_depth=10, min_samples_leaf=8, min_samples_split=5, n_estimators=200; total time=   0.4s\n",
            "[CV] END max_depth=10, min_samples_leaf=8, min_samples_split=5, n_estimators=200; total time=   0.4s\n",
            "[CV] END max_depth=10, min_samples_leaf=8, min_samples_split=5, n_estimators=200; total time=   0.4s\n"
          ]
        },
        {
          "name": "stdout",
          "output_type": "stream",
          "text": [
            "[CV] END max_depth=10, min_samples_leaf=8, min_samples_split=5, n_estimators=200; total time=   0.4s\n",
            "[CV] END max_depth=10, min_samples_leaf=8, min_samples_split=5, n_estimators=200; total time=   0.4s\n",
            "[CV] END max_depth=10, min_samples_leaf=8, min_samples_split=5, n_estimators=300; total time=   0.6s\n",
            "[CV] END max_depth=10, min_samples_leaf=8, min_samples_split=5, n_estimators=300; total time=   0.6s\n",
            "[CV] END max_depth=10, min_samples_leaf=8, min_samples_split=5, n_estimators=300; total time=   0.6s\n",
            "[CV] END max_depth=10, min_samples_leaf=8, min_samples_split=5, n_estimators=300; total time=   0.6s\n",
            "[CV] END max_depth=10, min_samples_leaf=8, min_samples_split=5, n_estimators=300; total time=   0.6s\n",
            "[CV] END max_depth=10, min_samples_leaf=8, min_samples_split=10, n_estimators=100; total time=   0.1s\n",
            "[CV] END max_depth=10, min_samples_leaf=8, min_samples_split=10, n_estimators=100; total time=   0.1s\n",
            "[CV] END max_depth=10, min_samples_leaf=8, min_samples_split=10, n_estimators=100; total time=   0.1s\n",
            "[CV] END max_depth=10, min_samples_leaf=8, min_samples_split=10, n_estimators=100; total time=   0.1s\n",
            "[CV] END max_depth=10, min_samples_leaf=8, min_samples_split=10, n_estimators=100; total time=   0.1s\n",
            "[CV] END max_depth=10, min_samples_leaf=8, min_samples_split=10, n_estimators=200; total time=   0.4s\n",
            "[CV] END max_depth=10, min_samples_leaf=8, min_samples_split=10, n_estimators=200; total time=   0.4s\n",
            "[CV] END max_depth=10, min_samples_leaf=8, min_samples_split=10, n_estimators=200; total time=   0.4s\n",
            "[CV] END max_depth=10, min_samples_leaf=8, min_samples_split=10, n_estimators=200; total time=   0.4s\n",
            "[CV] END max_depth=10, min_samples_leaf=8, min_samples_split=10, n_estimators=200; total time=   0.4s\n",
            "[CV] END max_depth=10, min_samples_leaf=8, min_samples_split=10, n_estimators=300; total time=   0.6s\n",
            "[CV] END max_depth=10, min_samples_leaf=8, min_samples_split=10, n_estimators=300; total time=   0.6s\n",
            "[CV] END max_depth=10, min_samples_leaf=8, min_samples_split=10, n_estimators=300; total time=   0.6s\n",
            "[CV] END max_depth=10, min_samples_leaf=8, min_samples_split=10, n_estimators=300; total time=   0.6s\n",
            "[CV] END max_depth=10, min_samples_leaf=8, min_samples_split=10, n_estimators=300; total time=   0.6s\n",
            "[CV] END max_depth=10, min_samples_leaf=10, min_samples_split=2, n_estimators=100; total time=   0.1s\n",
            "[CV] END max_depth=10, min_samples_leaf=10, min_samples_split=2, n_estimators=100; total time=   0.1s\n",
            "[CV] END max_depth=10, min_samples_leaf=10, min_samples_split=2, n_estimators=100; total time=   0.1s\n",
            "[CV] END max_depth=10, min_samples_leaf=10, min_samples_split=2, n_estimators=100; total time=   0.1s\n",
            "[CV] END max_depth=10, min_samples_leaf=10, min_samples_split=2, n_estimators=100; total time=   0.1s\n",
            "[CV] END max_depth=10, min_samples_leaf=10, min_samples_split=2, n_estimators=200; total time=   0.3s\n",
            "[CV] END max_depth=10, min_samples_leaf=10, min_samples_split=2, n_estimators=200; total time=   0.3s\n",
            "[CV] END max_depth=10, min_samples_leaf=10, min_samples_split=2, n_estimators=200; total time=   0.3s\n",
            "[CV] END max_depth=10, min_samples_leaf=10, min_samples_split=2, n_estimators=200; total time=   0.3s\n",
            "[CV] END max_depth=10, min_samples_leaf=10, min_samples_split=2, n_estimators=200; total time=   0.3s\n",
            "[CV] END max_depth=10, min_samples_leaf=10, min_samples_split=2, n_estimators=300; total time=   0.5s\n",
            "[CV] END max_depth=10, min_samples_leaf=10, min_samples_split=2, n_estimators=300; total time=   0.5s\n",
            "[CV] END max_depth=10, min_samples_leaf=10, min_samples_split=2, n_estimators=300; total time=   0.5s\n",
            "[CV] END max_depth=10, min_samples_leaf=10, min_samples_split=2, n_estimators=300; total time=   0.6s\n",
            "[CV] END max_depth=10, min_samples_leaf=10, min_samples_split=2, n_estimators=300; total time=   0.5s\n",
            "[CV] END max_depth=10, min_samples_leaf=10, min_samples_split=5, n_estimators=100; total time=   0.1s\n",
            "[CV] END max_depth=10, min_samples_leaf=10, min_samples_split=5, n_estimators=100; total time=   0.1s\n",
            "[CV] END max_depth=10, min_samples_leaf=10, min_samples_split=5, n_estimators=100; total time=   0.1s\n",
            "[CV] END max_depth=10, min_samples_leaf=10, min_samples_split=5, n_estimators=100; total time=   0.1s\n",
            "[CV] END max_depth=10, min_samples_leaf=10, min_samples_split=5, n_estimators=100; total time=   0.1s\n",
            "[CV] END max_depth=10, min_samples_leaf=10, min_samples_split=5, n_estimators=200; total time=   0.3s\n",
            "[CV] END max_depth=10, min_samples_leaf=10, min_samples_split=5, n_estimators=200; total time=   0.3s\n",
            "[CV] END max_depth=10, min_samples_leaf=10, min_samples_split=5, n_estimators=200; total time=   0.3s\n",
            "[CV] END max_depth=10, min_samples_leaf=10, min_samples_split=5, n_estimators=200; total time=   0.3s\n",
            "[CV] END max_depth=10, min_samples_leaf=10, min_samples_split=5, n_estimators=200; total time=   0.3s\n",
            "[CV] END max_depth=10, min_samples_leaf=10, min_samples_split=5, n_estimators=300; total time=   0.5s\n",
            "[CV] END max_depth=10, min_samples_leaf=10, min_samples_split=5, n_estimators=300; total time=   0.6s\n",
            "[CV] END max_depth=10, min_samples_leaf=10, min_samples_split=5, n_estimators=300; total time=   0.5s\n",
            "[CV] END max_depth=10, min_samples_leaf=10, min_samples_split=5, n_estimators=300; total time=   0.5s\n",
            "[CV] END max_depth=10, min_samples_leaf=10, min_samples_split=5, n_estimators=300; total time=   0.5s\n",
            "[CV] END max_depth=10, min_samples_leaf=10, min_samples_split=10, n_estimators=100; total time=   0.1s\n",
            "[CV] END max_depth=10, min_samples_leaf=10, min_samples_split=10, n_estimators=100; total time=   0.1s\n",
            "[CV] END max_depth=10, min_samples_leaf=10, min_samples_split=10, n_estimators=100; total time=   0.1s\n",
            "[CV] END max_depth=10, min_samples_leaf=10, min_samples_split=10, n_estimators=100; total time=   0.1s\n",
            "[CV] END max_depth=10, min_samples_leaf=10, min_samples_split=10, n_estimators=100; total time=   0.1s\n",
            "[CV] END max_depth=10, min_samples_leaf=10, min_samples_split=10, n_estimators=200; total time=   0.3s\n",
            "[CV] END max_depth=10, min_samples_leaf=10, min_samples_split=10, n_estimators=200; total time=   0.3s\n",
            "[CV] END max_depth=10, min_samples_leaf=10, min_samples_split=10, n_estimators=200; total time=   0.3s\n",
            "[CV] END max_depth=10, min_samples_leaf=10, min_samples_split=10, n_estimators=200; total time=   0.3s\n",
            "[CV] END max_depth=10, min_samples_leaf=10, min_samples_split=10, n_estimators=200; total time=   0.4s\n",
            "[CV] END max_depth=10, min_samples_leaf=10, min_samples_split=10, n_estimators=300; total time=   0.6s\n",
            "[CV] END max_depth=10, min_samples_leaf=10, min_samples_split=10, n_estimators=300; total time=   0.6s\n",
            "[CV] END max_depth=10, min_samples_leaf=10, min_samples_split=10, n_estimators=300; total time=   0.6s\n",
            "[CV] END max_depth=10, min_samples_leaf=10, min_samples_split=10, n_estimators=300; total time=   0.5s\n",
            "[CV] END max_depth=10, min_samples_leaf=10, min_samples_split=10, n_estimators=300; total time=   0.6s\n",
            "[CV] END max_depth=10, min_samples_leaf=12, min_samples_split=2, n_estimators=100; total time=   0.1s\n",
            "[CV] END max_depth=10, min_samples_leaf=12, min_samples_split=2, n_estimators=100; total time=   0.1s\n",
            "[CV] END max_depth=10, min_samples_leaf=12, min_samples_split=2, n_estimators=100; total time=   0.1s\n",
            "[CV] END max_depth=10, min_samples_leaf=12, min_samples_split=2, n_estimators=100; total time=   0.1s\n",
            "[CV] END max_depth=10, min_samples_leaf=12, min_samples_split=2, n_estimators=100; total time=   0.1s\n",
            "[CV] END max_depth=10, min_samples_leaf=12, min_samples_split=2, n_estimators=200; total time=   0.3s\n",
            "[CV] END max_depth=10, min_samples_leaf=12, min_samples_split=2, n_estimators=200; total time=   0.3s\n",
            "[CV] END max_depth=10, min_samples_leaf=12, min_samples_split=2, n_estimators=200; total time=   0.3s\n",
            "[CV] END max_depth=10, min_samples_leaf=12, min_samples_split=2, n_estimators=200; total time=   0.3s\n",
            "[CV] END max_depth=10, min_samples_leaf=12, min_samples_split=2, n_estimators=200; total time=   0.3s\n",
            "[CV] END max_depth=10, min_samples_leaf=12, min_samples_split=2, n_estimators=300; total time=   0.5s\n",
            "[CV] END max_depth=10, min_samples_leaf=12, min_samples_split=2, n_estimators=300; total time=   0.5s\n",
            "[CV] END max_depth=10, min_samples_leaf=12, min_samples_split=2, n_estimators=300; total time=   0.5s\n",
            "[CV] END max_depth=10, min_samples_leaf=12, min_samples_split=2, n_estimators=300; total time=   0.5s\n"
          ]
        },
        {
          "name": "stdout",
          "output_type": "stream",
          "text": [
            "[CV] END max_depth=10, min_samples_leaf=12, min_samples_split=2, n_estimators=300; total time=   0.5s\n",
            "[CV] END max_depth=10, min_samples_leaf=12, min_samples_split=5, n_estimators=100; total time=   0.1s\n",
            "[CV] END max_depth=10, min_samples_leaf=12, min_samples_split=5, n_estimators=100; total time=   0.1s\n",
            "[CV] END max_depth=10, min_samples_leaf=12, min_samples_split=5, n_estimators=100; total time=   0.1s\n",
            "[CV] END max_depth=10, min_samples_leaf=12, min_samples_split=5, n_estimators=100; total time=   0.1s\n",
            "[CV] END max_depth=10, min_samples_leaf=12, min_samples_split=5, n_estimators=100; total time=   0.1s\n",
            "[CV] END max_depth=10, min_samples_leaf=12, min_samples_split=5, n_estimators=200; total time=   0.3s\n",
            "[CV] END max_depth=10, min_samples_leaf=12, min_samples_split=5, n_estimators=200; total time=   0.3s\n",
            "[CV] END max_depth=10, min_samples_leaf=12, min_samples_split=5, n_estimators=200; total time=   0.3s\n",
            "[CV] END max_depth=10, min_samples_leaf=12, min_samples_split=5, n_estimators=200; total time=   0.3s\n",
            "[CV] END max_depth=10, min_samples_leaf=12, min_samples_split=5, n_estimators=200; total time=   0.3s\n",
            "[CV] END max_depth=10, min_samples_leaf=12, min_samples_split=5, n_estimators=300; total time=   0.5s\n",
            "[CV] END max_depth=10, min_samples_leaf=12, min_samples_split=5, n_estimators=300; total time=   0.5s\n",
            "[CV] END max_depth=10, min_samples_leaf=12, min_samples_split=5, n_estimators=300; total time=   0.5s\n",
            "[CV] END max_depth=10, min_samples_leaf=12, min_samples_split=5, n_estimators=300; total time=   0.5s\n",
            "[CV] END max_depth=10, min_samples_leaf=12, min_samples_split=5, n_estimators=300; total time=   0.5s\n",
            "[CV] END max_depth=10, min_samples_leaf=12, min_samples_split=10, n_estimators=100; total time=   0.1s\n",
            "[CV] END max_depth=10, min_samples_leaf=12, min_samples_split=10, n_estimators=100; total time=   0.1s\n",
            "[CV] END max_depth=10, min_samples_leaf=12, min_samples_split=10, n_estimators=100; total time=   0.1s\n",
            "[CV] END max_depth=10, min_samples_leaf=12, min_samples_split=10, n_estimators=100; total time=   0.1s\n",
            "[CV] END max_depth=10, min_samples_leaf=12, min_samples_split=10, n_estimators=100; total time=   0.1s\n",
            "[CV] END max_depth=10, min_samples_leaf=12, min_samples_split=10, n_estimators=200; total time=   0.3s\n",
            "[CV] END max_depth=10, min_samples_leaf=12, min_samples_split=10, n_estimators=200; total time=   0.3s\n",
            "[CV] END max_depth=10, min_samples_leaf=12, min_samples_split=10, n_estimators=200; total time=   0.3s\n",
            "[CV] END max_depth=10, min_samples_leaf=12, min_samples_split=10, n_estimators=200; total time=   0.3s\n",
            "[CV] END max_depth=10, min_samples_leaf=12, min_samples_split=10, n_estimators=200; total time=   0.3s\n",
            "[CV] END max_depth=10, min_samples_leaf=12, min_samples_split=10, n_estimators=300; total time=   0.5s\n",
            "[CV] END max_depth=10, min_samples_leaf=12, min_samples_split=10, n_estimators=300; total time=   0.5s\n",
            "[CV] END max_depth=10, min_samples_leaf=12, min_samples_split=10, n_estimators=300; total time=   0.5s\n",
            "[CV] END max_depth=10, min_samples_leaf=12, min_samples_split=10, n_estimators=300; total time=   0.5s\n",
            "[CV] END max_depth=10, min_samples_leaf=12, min_samples_split=10, n_estimators=300; total time=   0.5s\n",
            "[CV] END max_depth=20, min_samples_leaf=1, min_samples_split=2, n_estimators=100; total time=   0.4s\n",
            "[CV] END max_depth=20, min_samples_leaf=1, min_samples_split=2, n_estimators=100; total time=   0.4s\n",
            "[CV] END max_depth=20, min_samples_leaf=1, min_samples_split=2, n_estimators=100; total time=   0.4s\n",
            "[CV] END max_depth=20, min_samples_leaf=1, min_samples_split=2, n_estimators=100; total time=   0.4s\n",
            "[CV] END max_depth=20, min_samples_leaf=1, min_samples_split=2, n_estimators=100; total time=   0.4s\n",
            "[CV] END max_depth=20, min_samples_leaf=1, min_samples_split=2, n_estimators=200; total time=   0.9s\n",
            "[CV] END max_depth=20, min_samples_leaf=1, min_samples_split=2, n_estimators=200; total time=   0.9s\n",
            "[CV] END max_depth=20, min_samples_leaf=1, min_samples_split=2, n_estimators=200; total time=   0.9s\n",
            "[CV] END max_depth=20, min_samples_leaf=1, min_samples_split=2, n_estimators=200; total time=   0.9s\n",
            "[CV] END max_depth=20, min_samples_leaf=1, min_samples_split=2, n_estimators=200; total time=   0.9s\n",
            "[CV] END max_depth=20, min_samples_leaf=1, min_samples_split=2, n_estimators=300; total time=   1.4s\n",
            "[CV] END max_depth=20, min_samples_leaf=1, min_samples_split=2, n_estimators=300; total time=   1.5s\n",
            "[CV] END max_depth=20, min_samples_leaf=1, min_samples_split=2, n_estimators=300; total time=   1.4s\n",
            "[CV] END max_depth=20, min_samples_leaf=1, min_samples_split=2, n_estimators=300; total time=   1.5s\n",
            "[CV] END max_depth=20, min_samples_leaf=1, min_samples_split=2, n_estimators=300; total time=   1.4s\n",
            "[CV] END max_depth=20, min_samples_leaf=1, min_samples_split=5, n_estimators=100; total time=   0.3s\n",
            "[CV] END max_depth=20, min_samples_leaf=1, min_samples_split=5, n_estimators=100; total time=   0.3s\n",
            "[CV] END max_depth=20, min_samples_leaf=1, min_samples_split=5, n_estimators=100; total time=   0.3s\n",
            "[CV] END max_depth=20, min_samples_leaf=1, min_samples_split=5, n_estimators=100; total time=   0.3s\n",
            "[CV] END max_depth=20, min_samples_leaf=1, min_samples_split=5, n_estimators=100; total time=   0.3s\n",
            "[CV] END max_depth=20, min_samples_leaf=1, min_samples_split=5, n_estimators=200; total time=   0.7s\n",
            "[CV] END max_depth=20, min_samples_leaf=1, min_samples_split=5, n_estimators=200; total time=   0.7s\n",
            "[CV] END max_depth=20, min_samples_leaf=1, min_samples_split=5, n_estimators=200; total time=   0.7s\n",
            "[CV] END max_depth=20, min_samples_leaf=1, min_samples_split=5, n_estimators=200; total time=   0.7s\n",
            "[CV] END max_depth=20, min_samples_leaf=1, min_samples_split=5, n_estimators=200; total time=   0.7s\n",
            "[CV] END max_depth=20, min_samples_leaf=1, min_samples_split=5, n_estimators=300; total time=   1.1s\n",
            "[CV] END max_depth=20, min_samples_leaf=1, min_samples_split=5, n_estimators=300; total time=   1.1s\n",
            "[CV] END max_depth=20, min_samples_leaf=1, min_samples_split=5, n_estimators=300; total time=   1.1s\n",
            "[CV] END max_depth=20, min_samples_leaf=1, min_samples_split=5, n_estimators=300; total time=   1.1s\n",
            "[CV] END max_depth=20, min_samples_leaf=1, min_samples_split=5, n_estimators=300; total time=   1.1s\n",
            "[CV] END max_depth=20, min_samples_leaf=1, min_samples_split=10, n_estimators=100; total time=   0.2s\n",
            "[CV] END max_depth=20, min_samples_leaf=1, min_samples_split=10, n_estimators=100; total time=   0.2s\n",
            "[CV] END max_depth=20, min_samples_leaf=1, min_samples_split=10, n_estimators=100; total time=   0.2s\n",
            "[CV] END max_depth=20, min_samples_leaf=1, min_samples_split=10, n_estimators=100; total time=   0.2s\n",
            "[CV] END max_depth=20, min_samples_leaf=1, min_samples_split=10, n_estimators=100; total time=   0.2s\n",
            "[CV] END max_depth=20, min_samples_leaf=1, min_samples_split=10, n_estimators=200; total time=   0.5s\n",
            "[CV] END max_depth=20, min_samples_leaf=1, min_samples_split=10, n_estimators=200; total time=   0.5s\n",
            "[CV] END max_depth=20, min_samples_leaf=1, min_samples_split=10, n_estimators=200; total time=   0.5s\n",
            "[CV] END max_depth=20, min_samples_leaf=1, min_samples_split=10, n_estimators=200; total time=   0.5s\n",
            "[CV] END max_depth=20, min_samples_leaf=1, min_samples_split=10, n_estimators=200; total time=   0.5s\n",
            "[CV] END max_depth=20, min_samples_leaf=1, min_samples_split=10, n_estimators=300; total time=   0.8s\n",
            "[CV] END max_depth=20, min_samples_leaf=1, min_samples_split=10, n_estimators=300; total time=   0.9s\n",
            "[CV] END max_depth=20, min_samples_leaf=1, min_samples_split=10, n_estimators=300; total time=   0.9s\n",
            "[CV] END max_depth=20, min_samples_leaf=1, min_samples_split=10, n_estimators=300; total time=   0.8s\n",
            "[CV] END max_depth=20, min_samples_leaf=1, min_samples_split=10, n_estimators=300; total time=   0.9s\n",
            "[CV] END max_depth=20, min_samples_leaf=2, min_samples_split=2, n_estimators=100; total time=   0.3s\n",
            "[CV] END max_depth=20, min_samples_leaf=2, min_samples_split=2, n_estimators=100; total time=   0.3s\n",
            "[CV] END max_depth=20, min_samples_leaf=2, min_samples_split=2, n_estimators=100; total time=   0.3s\n",
            "[CV] END max_depth=20, min_samples_leaf=2, min_samples_split=2, n_estimators=100; total time=   0.3s\n",
            "[CV] END max_depth=20, min_samples_leaf=2, min_samples_split=2, n_estimators=100; total time=   0.3s\n"
          ]
        },
        {
          "name": "stdout",
          "output_type": "stream",
          "text": [
            "[CV] END max_depth=20, min_samples_leaf=2, min_samples_split=2, n_estimators=200; total time=   0.7s\n",
            "[CV] END max_depth=20, min_samples_leaf=2, min_samples_split=2, n_estimators=200; total time=   0.7s\n",
            "[CV] END max_depth=20, min_samples_leaf=2, min_samples_split=2, n_estimators=200; total time=   0.7s\n",
            "[CV] END max_depth=20, min_samples_leaf=2, min_samples_split=2, n_estimators=200; total time=   0.7s\n",
            "[CV] END max_depth=20, min_samples_leaf=2, min_samples_split=2, n_estimators=200; total time=   0.7s\n",
            "[CV] END max_depth=20, min_samples_leaf=2, min_samples_split=2, n_estimators=300; total time=   1.0s\n",
            "[CV] END max_depth=20, min_samples_leaf=2, min_samples_split=2, n_estimators=300; total time=   1.0s\n",
            "[CV] END max_depth=20, min_samples_leaf=2, min_samples_split=2, n_estimators=300; total time=   1.0s\n",
            "[CV] END max_depth=20, min_samples_leaf=2, min_samples_split=2, n_estimators=300; total time=   1.1s\n",
            "[CV] END max_depth=20, min_samples_leaf=2, min_samples_split=2, n_estimators=300; total time=   1.1s\n",
            "[CV] END max_depth=20, min_samples_leaf=2, min_samples_split=5, n_estimators=100; total time=   0.3s\n",
            "[CV] END max_depth=20, min_samples_leaf=2, min_samples_split=5, n_estimators=100; total time=   0.3s\n",
            "[CV] END max_depth=20, min_samples_leaf=2, min_samples_split=5, n_estimators=100; total time=   0.3s\n",
            "[CV] END max_depth=20, min_samples_leaf=2, min_samples_split=5, n_estimators=100; total time=   0.3s\n",
            "[CV] END max_depth=20, min_samples_leaf=2, min_samples_split=5, n_estimators=100; total time=   0.3s\n",
            "[CV] END max_depth=20, min_samples_leaf=2, min_samples_split=5, n_estimators=200; total time=   0.6s\n",
            "[CV] END max_depth=20, min_samples_leaf=2, min_samples_split=5, n_estimators=200; total time=   0.6s\n",
            "[CV] END max_depth=20, min_samples_leaf=2, min_samples_split=5, n_estimators=200; total time=   0.6s\n",
            "[CV] END max_depth=20, min_samples_leaf=2, min_samples_split=5, n_estimators=200; total time=   0.6s\n",
            "[CV] END max_depth=20, min_samples_leaf=2, min_samples_split=5, n_estimators=200; total time=   0.6s\n",
            "[CV] END max_depth=20, min_samples_leaf=2, min_samples_split=5, n_estimators=300; total time=   1.0s\n",
            "[CV] END max_depth=20, min_samples_leaf=2, min_samples_split=5, n_estimators=300; total time=   1.0s\n",
            "[CV] END max_depth=20, min_samples_leaf=2, min_samples_split=5, n_estimators=300; total time=   1.0s\n",
            "[CV] END max_depth=20, min_samples_leaf=2, min_samples_split=5, n_estimators=300; total time=   1.0s\n",
            "[CV] END max_depth=20, min_samples_leaf=2, min_samples_split=5, n_estimators=300; total time=   1.0s\n",
            "[CV] END max_depth=20, min_samples_leaf=2, min_samples_split=10, n_estimators=100; total time=   0.2s\n",
            "[CV] END max_depth=20, min_samples_leaf=2, min_samples_split=10, n_estimators=100; total time=   0.2s\n",
            "[CV] END max_depth=20, min_samples_leaf=2, min_samples_split=10, n_estimators=100; total time=   0.2s\n",
            "[CV] END max_depth=20, min_samples_leaf=2, min_samples_split=10, n_estimators=100; total time=   0.2s\n",
            "[CV] END max_depth=20, min_samples_leaf=2, min_samples_split=10, n_estimators=100; total time=   0.2s\n",
            "[CV] END max_depth=20, min_samples_leaf=2, min_samples_split=10, n_estimators=200; total time=   0.5s\n",
            "[CV] END max_depth=20, min_samples_leaf=2, min_samples_split=10, n_estimators=200; total time=   0.5s\n",
            "[CV] END max_depth=20, min_samples_leaf=2, min_samples_split=10, n_estimators=200; total time=   0.5s\n",
            "[CV] END max_depth=20, min_samples_leaf=2, min_samples_split=10, n_estimators=200; total time=   0.5s\n",
            "[CV] END max_depth=20, min_samples_leaf=2, min_samples_split=10, n_estimators=200; total time=   0.5s\n",
            "[CV] END max_depth=20, min_samples_leaf=2, min_samples_split=10, n_estimators=300; total time=   0.8s\n",
            "[CV] END max_depth=20, min_samples_leaf=2, min_samples_split=10, n_estimators=300; total time=   0.8s\n",
            "[CV] END max_depth=20, min_samples_leaf=2, min_samples_split=10, n_estimators=300; total time=   0.8s\n",
            "[CV] END max_depth=20, min_samples_leaf=2, min_samples_split=10, n_estimators=300; total time=   0.8s\n",
            "[CV] END max_depth=20, min_samples_leaf=2, min_samples_split=10, n_estimators=300; total time=   0.8s\n",
            "[CV] END max_depth=20, min_samples_leaf=4, min_samples_split=2, n_estimators=100; total time=   0.2s\n",
            "[CV] END max_depth=20, min_samples_leaf=4, min_samples_split=2, n_estimators=100; total time=   0.2s\n",
            "[CV] END max_depth=20, min_samples_leaf=4, min_samples_split=2, n_estimators=100; total time=   0.2s\n",
            "[CV] END max_depth=20, min_samples_leaf=4, min_samples_split=2, n_estimators=100; total time=   0.2s\n",
            "[CV] END max_depth=20, min_samples_leaf=4, min_samples_split=2, n_estimators=100; total time=   0.2s\n",
            "[CV] END max_depth=20, min_samples_leaf=4, min_samples_split=2, n_estimators=200; total time=   0.5s\n",
            "[CV] END max_depth=20, min_samples_leaf=4, min_samples_split=2, n_estimators=200; total time=   0.5s\n",
            "[CV] END max_depth=20, min_samples_leaf=4, min_samples_split=2, n_estimators=200; total time=   0.5s\n",
            "[CV] END max_depth=20, min_samples_leaf=4, min_samples_split=2, n_estimators=200; total time=   0.5s\n",
            "[CV] END max_depth=20, min_samples_leaf=4, min_samples_split=2, n_estimators=200; total time=   0.5s\n",
            "[CV] END max_depth=20, min_samples_leaf=4, min_samples_split=2, n_estimators=300; total time=   0.8s\n",
            "[CV] END max_depth=20, min_samples_leaf=4, min_samples_split=2, n_estimators=300; total time=   0.8s\n",
            "[CV] END max_depth=20, min_samples_leaf=4, min_samples_split=2, n_estimators=300; total time=   0.8s\n",
            "[CV] END max_depth=20, min_samples_leaf=4, min_samples_split=2, n_estimators=300; total time=   0.8s\n",
            "[CV] END max_depth=20, min_samples_leaf=4, min_samples_split=2, n_estimators=300; total time=   0.8s\n",
            "[CV] END max_depth=20, min_samples_leaf=4, min_samples_split=5, n_estimators=100; total time=   0.2s\n",
            "[CV] END max_depth=20, min_samples_leaf=4, min_samples_split=5, n_estimators=100; total time=   0.2s\n",
            "[CV] END max_depth=20, min_samples_leaf=4, min_samples_split=5, n_estimators=100; total time=   0.2s\n",
            "[CV] END max_depth=20, min_samples_leaf=4, min_samples_split=5, n_estimators=100; total time=   0.2s\n",
            "[CV] END max_depth=20, min_samples_leaf=4, min_samples_split=5, n_estimators=100; total time=   0.2s\n",
            "[CV] END max_depth=20, min_samples_leaf=4, min_samples_split=5, n_estimators=200; total time=   0.5s\n",
            "[CV] END max_depth=20, min_samples_leaf=4, min_samples_split=5, n_estimators=200; total time=   0.5s\n",
            "[CV] END max_depth=20, min_samples_leaf=4, min_samples_split=5, n_estimators=200; total time=   0.5s\n",
            "[CV] END max_depth=20, min_samples_leaf=4, min_samples_split=5, n_estimators=200; total time=   0.5s\n",
            "[CV] END max_depth=20, min_samples_leaf=4, min_samples_split=5, n_estimators=200; total time=   0.5s\n",
            "[CV] END max_depth=20, min_samples_leaf=4, min_samples_split=5, n_estimators=300; total time=   0.8s\n",
            "[CV] END max_depth=20, min_samples_leaf=4, min_samples_split=5, n_estimators=300; total time=   0.8s\n",
            "[CV] END max_depth=20, min_samples_leaf=4, min_samples_split=5, n_estimators=300; total time=   0.8s\n",
            "[CV] END max_depth=20, min_samples_leaf=4, min_samples_split=5, n_estimators=300; total time=   0.8s\n",
            "[CV] END max_depth=20, min_samples_leaf=4, min_samples_split=5, n_estimators=300; total time=   0.8s\n",
            "[CV] END max_depth=20, min_samples_leaf=4, min_samples_split=10, n_estimators=100; total time=   0.2s\n",
            "[CV] END max_depth=20, min_samples_leaf=4, min_samples_split=10, n_estimators=100; total time=   0.2s\n",
            "[CV] END max_depth=20, min_samples_leaf=4, min_samples_split=10, n_estimators=100; total time=   0.2s\n",
            "[CV] END max_depth=20, min_samples_leaf=4, min_samples_split=10, n_estimators=100; total time=   0.2s\n",
            "[CV] END max_depth=20, min_samples_leaf=4, min_samples_split=10, n_estimators=100; total time=   0.2s\n",
            "[CV] END max_depth=20, min_samples_leaf=4, min_samples_split=10, n_estimators=200; total time=   0.4s\n",
            "[CV] END max_depth=20, min_samples_leaf=4, min_samples_split=10, n_estimators=200; total time=   0.5s\n",
            "[CV] END max_depth=20, min_samples_leaf=4, min_samples_split=10, n_estimators=200; total time=   0.5s\n",
            "[CV] END max_depth=20, min_samples_leaf=4, min_samples_split=10, n_estimators=200; total time=   0.5s\n",
            "[CV] END max_depth=20, min_samples_leaf=4, min_samples_split=10, n_estimators=200; total time=   0.5s\n",
            "[CV] END max_depth=20, min_samples_leaf=4, min_samples_split=10, n_estimators=300; total time=   0.7s\n"
          ]
        },
        {
          "name": "stdout",
          "output_type": "stream",
          "text": [
            "[CV] END max_depth=20, min_samples_leaf=4, min_samples_split=10, n_estimators=300; total time=   0.7s\n",
            "[CV] END max_depth=20, min_samples_leaf=4, min_samples_split=10, n_estimators=300; total time=   0.7s\n",
            "[CV] END max_depth=20, min_samples_leaf=4, min_samples_split=10, n_estimators=300; total time=   0.7s\n",
            "[CV] END max_depth=20, min_samples_leaf=4, min_samples_split=10, n_estimators=300; total time=   0.7s\n",
            "[CV] END max_depth=20, min_samples_leaf=8, min_samples_split=2, n_estimators=100; total time=   0.1s\n",
            "[CV] END max_depth=20, min_samples_leaf=8, min_samples_split=2, n_estimators=100; total time=   0.1s\n",
            "[CV] END max_depth=20, min_samples_leaf=8, min_samples_split=2, n_estimators=100; total time=   0.1s\n",
            "[CV] END max_depth=20, min_samples_leaf=8, min_samples_split=2, n_estimators=100; total time=   0.1s\n",
            "[CV] END max_depth=20, min_samples_leaf=8, min_samples_split=2, n_estimators=100; total time=   0.1s\n",
            "[CV] END max_depth=20, min_samples_leaf=8, min_samples_split=2, n_estimators=200; total time=   0.4s\n",
            "[CV] END max_depth=20, min_samples_leaf=8, min_samples_split=2, n_estimators=200; total time=   0.4s\n",
            "[CV] END max_depth=20, min_samples_leaf=8, min_samples_split=2, n_estimators=200; total time=   0.4s\n",
            "[CV] END max_depth=20, min_samples_leaf=8, min_samples_split=2, n_estimators=200; total time=   0.4s\n",
            "[CV] END max_depth=20, min_samples_leaf=8, min_samples_split=2, n_estimators=200; total time=   0.4s\n",
            "[CV] END max_depth=20, min_samples_leaf=8, min_samples_split=2, n_estimators=300; total time=   0.6s\n",
            "[CV] END max_depth=20, min_samples_leaf=8, min_samples_split=2, n_estimators=300; total time=   0.6s\n",
            "[CV] END max_depth=20, min_samples_leaf=8, min_samples_split=2, n_estimators=300; total time=   0.6s\n",
            "[CV] END max_depth=20, min_samples_leaf=8, min_samples_split=2, n_estimators=300; total time=   0.6s\n",
            "[CV] END max_depth=20, min_samples_leaf=8, min_samples_split=2, n_estimators=300; total time=   0.6s\n",
            "[CV] END max_depth=20, min_samples_leaf=8, min_samples_split=5, n_estimators=100; total time=   0.1s\n",
            "[CV] END max_depth=20, min_samples_leaf=8, min_samples_split=5, n_estimators=100; total time=   0.1s\n",
            "[CV] END max_depth=20, min_samples_leaf=8, min_samples_split=5, n_estimators=100; total time=   0.1s\n",
            "[CV] END max_depth=20, min_samples_leaf=8, min_samples_split=5, n_estimators=100; total time=   0.1s\n",
            "[CV] END max_depth=20, min_samples_leaf=8, min_samples_split=5, n_estimators=100; total time=   0.1s\n",
            "[CV] END max_depth=20, min_samples_leaf=8, min_samples_split=5, n_estimators=200; total time=   0.4s\n",
            "[CV] END max_depth=20, min_samples_leaf=8, min_samples_split=5, n_estimators=200; total time=   0.4s\n",
            "[CV] END max_depth=20, min_samples_leaf=8, min_samples_split=5, n_estimators=200; total time=   0.4s\n",
            "[CV] END max_depth=20, min_samples_leaf=8, min_samples_split=5, n_estimators=200; total time=   0.4s\n",
            "[CV] END max_depth=20, min_samples_leaf=8, min_samples_split=5, n_estimators=200; total time=   0.4s\n",
            "[CV] END max_depth=20, min_samples_leaf=8, min_samples_split=5, n_estimators=300; total time=   0.7s\n",
            "[CV] END max_depth=20, min_samples_leaf=8, min_samples_split=5, n_estimators=300; total time=   0.6s\n",
            "[CV] END max_depth=20, min_samples_leaf=8, min_samples_split=5, n_estimators=300; total time=   0.7s\n",
            "[CV] END max_depth=20, min_samples_leaf=8, min_samples_split=5, n_estimators=300; total time=   0.6s\n",
            "[CV] END max_depth=20, min_samples_leaf=8, min_samples_split=5, n_estimators=300; total time=   0.6s\n",
            "[CV] END max_depth=20, min_samples_leaf=8, min_samples_split=10, n_estimators=100; total time=   0.1s\n",
            "[CV] END max_depth=20, min_samples_leaf=8, min_samples_split=10, n_estimators=100; total time=   0.1s\n",
            "[CV] END max_depth=20, min_samples_leaf=8, min_samples_split=10, n_estimators=100; total time=   0.1s\n",
            "[CV] END max_depth=20, min_samples_leaf=8, min_samples_split=10, n_estimators=100; total time=   0.1s\n",
            "[CV] END max_depth=20, min_samples_leaf=8, min_samples_split=10, n_estimators=100; total time=   0.1s\n",
            "[CV] END max_depth=20, min_samples_leaf=8, min_samples_split=10, n_estimators=200; total time=   0.4s\n",
            "[CV] END max_depth=20, min_samples_leaf=8, min_samples_split=10, n_estimators=200; total time=   0.4s\n",
            "[CV] END max_depth=20, min_samples_leaf=8, min_samples_split=10, n_estimators=200; total time=   0.4s\n",
            "[CV] END max_depth=20, min_samples_leaf=8, min_samples_split=10, n_estimators=200; total time=   0.4s\n",
            "[CV] END max_depth=20, min_samples_leaf=8, min_samples_split=10, n_estimators=200; total time=   0.4s\n",
            "[CV] END max_depth=20, min_samples_leaf=8, min_samples_split=10, n_estimators=300; total time=   0.6s\n",
            "[CV] END max_depth=20, min_samples_leaf=8, min_samples_split=10, n_estimators=300; total time=   0.6s\n",
            "[CV] END max_depth=20, min_samples_leaf=8, min_samples_split=10, n_estimators=300; total time=   0.6s\n",
            "[CV] END max_depth=20, min_samples_leaf=8, min_samples_split=10, n_estimators=300; total time=   0.6s\n",
            "[CV] END max_depth=20, min_samples_leaf=8, min_samples_split=10, n_estimators=300; total time=   0.6s\n",
            "[CV] END max_depth=20, min_samples_leaf=10, min_samples_split=2, n_estimators=100; total time=   0.1s\n",
            "[CV] END max_depth=20, min_samples_leaf=10, min_samples_split=2, n_estimators=100; total time=   0.1s\n",
            "[CV] END max_depth=20, min_samples_leaf=10, min_samples_split=2, n_estimators=100; total time=   0.1s\n",
            "[CV] END max_depth=20, min_samples_leaf=10, min_samples_split=2, n_estimators=100; total time=   0.1s\n",
            "[CV] END max_depth=20, min_samples_leaf=10, min_samples_split=2, n_estimators=100; total time=   0.1s\n",
            "[CV] END max_depth=20, min_samples_leaf=10, min_samples_split=2, n_estimators=200; total time=   0.3s\n",
            "[CV] END max_depth=20, min_samples_leaf=10, min_samples_split=2, n_estimators=200; total time=   0.4s\n",
            "[CV] END max_depth=20, min_samples_leaf=10, min_samples_split=2, n_estimators=200; total time=   0.3s\n",
            "[CV] END max_depth=20, min_samples_leaf=10, min_samples_split=2, n_estimators=200; total time=   0.3s\n",
            "[CV] END max_depth=20, min_samples_leaf=10, min_samples_split=2, n_estimators=200; total time=   0.3s\n",
            "[CV] END max_depth=20, min_samples_leaf=10, min_samples_split=2, n_estimators=300; total time=   0.5s\n",
            "[CV] END max_depth=20, min_samples_leaf=10, min_samples_split=2, n_estimators=300; total time=   0.5s\n",
            "[CV] END max_depth=20, min_samples_leaf=10, min_samples_split=2, n_estimators=300; total time=   0.6s\n",
            "[CV] END max_depth=20, min_samples_leaf=10, min_samples_split=2, n_estimators=300; total time=   0.6s\n",
            "[CV] END max_depth=20, min_samples_leaf=10, min_samples_split=2, n_estimators=300; total time=   0.6s\n",
            "[CV] END max_depth=20, min_samples_leaf=10, min_samples_split=5, n_estimators=100; total time=   0.1s\n",
            "[CV] END max_depth=20, min_samples_leaf=10, min_samples_split=5, n_estimators=100; total time=   0.1s\n",
            "[CV] END max_depth=20, min_samples_leaf=10, min_samples_split=5, n_estimators=100; total time=   0.1s\n",
            "[CV] END max_depth=20, min_samples_leaf=10, min_samples_split=5, n_estimators=100; total time=   0.1s\n",
            "[CV] END max_depth=20, min_samples_leaf=10, min_samples_split=5, n_estimators=100; total time=   0.1s\n",
            "[CV] END max_depth=20, min_samples_leaf=10, min_samples_split=5, n_estimators=200; total time=   0.3s\n",
            "[CV] END max_depth=20, min_samples_leaf=10, min_samples_split=5, n_estimators=200; total time=   0.3s\n",
            "[CV] END max_depth=20, min_samples_leaf=10, min_samples_split=5, n_estimators=200; total time=   0.4s\n",
            "[CV] END max_depth=20, min_samples_leaf=10, min_samples_split=5, n_estimators=200; total time=   0.3s\n",
            "[CV] END max_depth=20, min_samples_leaf=10, min_samples_split=5, n_estimators=200; total time=   0.3s\n",
            "[CV] END max_depth=20, min_samples_leaf=10, min_samples_split=5, n_estimators=300; total time=   0.5s\n",
            "[CV] END max_depth=20, min_samples_leaf=10, min_samples_split=5, n_estimators=300; total time=   0.5s\n",
            "[CV] END max_depth=20, min_samples_leaf=10, min_samples_split=5, n_estimators=300; total time=   0.6s\n",
            "[CV] END max_depth=20, min_samples_leaf=10, min_samples_split=5, n_estimators=300; total time=   0.6s\n",
            "[CV] END max_depth=20, min_samples_leaf=10, min_samples_split=5, n_estimators=300; total time=   0.5s\n",
            "[CV] END max_depth=20, min_samples_leaf=10, min_samples_split=10, n_estimators=100; total time=   0.1s\n",
            "[CV] END max_depth=20, min_samples_leaf=10, min_samples_split=10, n_estimators=100; total time=   0.1s\n"
          ]
        },
        {
          "name": "stdout",
          "output_type": "stream",
          "text": [
            "[CV] END max_depth=20, min_samples_leaf=10, min_samples_split=10, n_estimators=100; total time=   0.1s\n",
            "[CV] END max_depth=20, min_samples_leaf=10, min_samples_split=10, n_estimators=100; total time=   0.1s\n",
            "[CV] END max_depth=20, min_samples_leaf=10, min_samples_split=10, n_estimators=100; total time=   0.1s\n",
            "[CV] END max_depth=20, min_samples_leaf=10, min_samples_split=10, n_estimators=200; total time=   0.3s\n",
            "[CV] END max_depth=20, min_samples_leaf=10, min_samples_split=10, n_estimators=200; total time=   0.3s\n",
            "[CV] END max_depth=20, min_samples_leaf=10, min_samples_split=10, n_estimators=200; total time=   0.3s\n",
            "[CV] END max_depth=20, min_samples_leaf=10, min_samples_split=10, n_estimators=200; total time=   0.3s\n",
            "[CV] END max_depth=20, min_samples_leaf=10, min_samples_split=10, n_estimators=200; total time=   0.3s\n",
            "[CV] END max_depth=20, min_samples_leaf=10, min_samples_split=10, n_estimators=300; total time=   0.6s\n",
            "[CV] END max_depth=20, min_samples_leaf=10, min_samples_split=10, n_estimators=300; total time=   0.5s\n",
            "[CV] END max_depth=20, min_samples_leaf=10, min_samples_split=10, n_estimators=300; total time=   0.6s\n",
            "[CV] END max_depth=20, min_samples_leaf=10, min_samples_split=10, n_estimators=300; total time=   0.6s\n",
            "[CV] END max_depth=20, min_samples_leaf=10, min_samples_split=10, n_estimators=300; total time=   0.5s\n",
            "[CV] END max_depth=20, min_samples_leaf=12, min_samples_split=2, n_estimators=100; total time=   0.1s\n",
            "[CV] END max_depth=20, min_samples_leaf=12, min_samples_split=2, n_estimators=100; total time=   0.1s\n",
            "[CV] END max_depth=20, min_samples_leaf=12, min_samples_split=2, n_estimators=100; total time=   0.1s\n",
            "[CV] END max_depth=20, min_samples_leaf=12, min_samples_split=2, n_estimators=100; total time=   0.1s\n",
            "[CV] END max_depth=20, min_samples_leaf=12, min_samples_split=2, n_estimators=100; total time=   0.1s\n",
            "[CV] END max_depth=20, min_samples_leaf=12, min_samples_split=2, n_estimators=200; total time=   0.3s\n",
            "[CV] END max_depth=20, min_samples_leaf=12, min_samples_split=2, n_estimators=200; total time=   0.3s\n",
            "[CV] END max_depth=20, min_samples_leaf=12, min_samples_split=2, n_estimators=200; total time=   0.3s\n",
            "[CV] END max_depth=20, min_samples_leaf=12, min_samples_split=2, n_estimators=200; total time=   0.3s\n",
            "[CV] END max_depth=20, min_samples_leaf=12, min_samples_split=2, n_estimators=200; total time=   0.3s\n",
            "[CV] END max_depth=20, min_samples_leaf=12, min_samples_split=2, n_estimators=300; total time=   0.5s\n",
            "[CV] END max_depth=20, min_samples_leaf=12, min_samples_split=2, n_estimators=300; total time=   0.5s\n",
            "[CV] END max_depth=20, min_samples_leaf=12, min_samples_split=2, n_estimators=300; total time=   0.5s\n",
            "[CV] END max_depth=20, min_samples_leaf=12, min_samples_split=2, n_estimators=300; total time=   0.5s\n",
            "[CV] END max_depth=20, min_samples_leaf=12, min_samples_split=2, n_estimators=300; total time=   0.5s\n",
            "[CV] END max_depth=20, min_samples_leaf=12, min_samples_split=5, n_estimators=100; total time=   0.1s\n",
            "[CV] END max_depth=20, min_samples_leaf=12, min_samples_split=5, n_estimators=100; total time=   0.1s\n",
            "[CV] END max_depth=20, min_samples_leaf=12, min_samples_split=5, n_estimators=100; total time=   0.1s\n",
            "[CV] END max_depth=20, min_samples_leaf=12, min_samples_split=5, n_estimators=100; total time=   0.1s\n",
            "[CV] END max_depth=20, min_samples_leaf=12, min_samples_split=5, n_estimators=100; total time=   0.1s\n",
            "[CV] END max_depth=20, min_samples_leaf=12, min_samples_split=5, n_estimators=200; total time=   0.3s\n",
            "[CV] END max_depth=20, min_samples_leaf=12, min_samples_split=5, n_estimators=200; total time=   0.3s\n",
            "[CV] END max_depth=20, min_samples_leaf=12, min_samples_split=5, n_estimators=200; total time=   0.3s\n",
            "[CV] END max_depth=20, min_samples_leaf=12, min_samples_split=5, n_estimators=200; total time=   0.3s\n",
            "[CV] END max_depth=20, min_samples_leaf=12, min_samples_split=5, n_estimators=200; total time=   0.3s\n",
            "[CV] END max_depth=20, min_samples_leaf=12, min_samples_split=5, n_estimators=300; total time=   0.5s\n",
            "[CV] END max_depth=20, min_samples_leaf=12, min_samples_split=5, n_estimators=300; total time=   0.5s\n",
            "[CV] END max_depth=20, min_samples_leaf=12, min_samples_split=5, n_estimators=300; total time=   0.5s\n",
            "[CV] END max_depth=20, min_samples_leaf=12, min_samples_split=5, n_estimators=300; total time=   0.5s\n",
            "[CV] END max_depth=20, min_samples_leaf=12, min_samples_split=5, n_estimators=300; total time=   0.5s\n",
            "[CV] END max_depth=20, min_samples_leaf=12, min_samples_split=10, n_estimators=100; total time=   0.1s\n",
            "[CV] END max_depth=20, min_samples_leaf=12, min_samples_split=10, n_estimators=100; total time=   0.1s\n",
            "[CV] END max_depth=20, min_samples_leaf=12, min_samples_split=10, n_estimators=100; total time=   0.1s\n",
            "[CV] END max_depth=20, min_samples_leaf=12, min_samples_split=10, n_estimators=100; total time=   0.1s\n",
            "[CV] END max_depth=20, min_samples_leaf=12, min_samples_split=10, n_estimators=100; total time=   0.1s\n",
            "[CV] END max_depth=20, min_samples_leaf=12, min_samples_split=10, n_estimators=200; total time=   0.3s\n",
            "[CV] END max_depth=20, min_samples_leaf=12, min_samples_split=10, n_estimators=200; total time=   0.3s\n",
            "[CV] END max_depth=20, min_samples_leaf=12, min_samples_split=10, n_estimators=200; total time=   0.3s\n",
            "[CV] END max_depth=20, min_samples_leaf=12, min_samples_split=10, n_estimators=200; total time=   0.3s\n",
            "[CV] END max_depth=20, min_samples_leaf=12, min_samples_split=10, n_estimators=200; total time=   0.3s\n",
            "[CV] END max_depth=20, min_samples_leaf=12, min_samples_split=10, n_estimators=300; total time=   0.5s\n",
            "[CV] END max_depth=20, min_samples_leaf=12, min_samples_split=10, n_estimators=300; total time=   0.5s\n",
            "[CV] END max_depth=20, min_samples_leaf=12, min_samples_split=10, n_estimators=300; total time=   0.5s\n",
            "[CV] END max_depth=20, min_samples_leaf=12, min_samples_split=10, n_estimators=300; total time=   0.6s\n",
            "[CV] END max_depth=20, min_samples_leaf=12, min_samples_split=10, n_estimators=300; total time=   0.6s\n",
            "[CV] END max_depth=30, min_samples_leaf=1, min_samples_split=2, n_estimators=100; total time=   0.4s\n",
            "[CV] END max_depth=30, min_samples_leaf=1, min_samples_split=2, n_estimators=100; total time=   0.4s\n",
            "[CV] END max_depth=30, min_samples_leaf=1, min_samples_split=2, n_estimators=100; total time=   0.4s\n",
            "[CV] END max_depth=30, min_samples_leaf=1, min_samples_split=2, n_estimators=100; total time=   0.4s\n",
            "[CV] END max_depth=30, min_samples_leaf=1, min_samples_split=2, n_estimators=100; total time=   0.4s\n",
            "[CV] END max_depth=30, min_samples_leaf=1, min_samples_split=2, n_estimators=200; total time=   0.9s\n",
            "[CV] END max_depth=30, min_samples_leaf=1, min_samples_split=2, n_estimators=200; total time=   0.9s\n",
            "[CV] END max_depth=30, min_samples_leaf=1, min_samples_split=2, n_estimators=200; total time=   1.0s\n",
            "[CV] END max_depth=30, min_samples_leaf=1, min_samples_split=2, n_estimators=200; total time=   0.9s\n",
            "[CV] END max_depth=30, min_samples_leaf=1, min_samples_split=2, n_estimators=200; total time=   0.9s\n",
            "[CV] END max_depth=30, min_samples_leaf=1, min_samples_split=2, n_estimators=300; total time=   1.5s\n",
            "[CV] END max_depth=30, min_samples_leaf=1, min_samples_split=2, n_estimators=300; total time=   1.5s\n",
            "[CV] END max_depth=30, min_samples_leaf=1, min_samples_split=2, n_estimators=300; total time=   1.5s\n",
            "[CV] END max_depth=30, min_samples_leaf=1, min_samples_split=2, n_estimators=300; total time=   1.5s\n",
            "[CV] END max_depth=30, min_samples_leaf=1, min_samples_split=2, n_estimators=300; total time=   1.5s\n",
            "[CV] END max_depth=30, min_samples_leaf=1, min_samples_split=5, n_estimators=100; total time=   0.3s\n",
            "[CV] END max_depth=30, min_samples_leaf=1, min_samples_split=5, n_estimators=100; total time=   0.3s\n",
            "[CV] END max_depth=30, min_samples_leaf=1, min_samples_split=5, n_estimators=100; total time=   0.3s\n",
            "[CV] END max_depth=30, min_samples_leaf=1, min_samples_split=5, n_estimators=100; total time=   0.3s\n",
            "[CV] END max_depth=30, min_samples_leaf=1, min_samples_split=5, n_estimators=100; total time=   0.3s\n",
            "[CV] END max_depth=30, min_samples_leaf=1, min_samples_split=5, n_estimators=200; total time=   0.7s\n",
            "[CV] END max_depth=30, min_samples_leaf=1, min_samples_split=5, n_estimators=200; total time=   0.7s\n",
            "[CV] END max_depth=30, min_samples_leaf=1, min_samples_split=5, n_estimators=200; total time=   0.7s\n"
          ]
        },
        {
          "name": "stdout",
          "output_type": "stream",
          "text": [
            "[CV] END max_depth=30, min_samples_leaf=1, min_samples_split=5, n_estimators=200; total time=   0.7s\n",
            "[CV] END max_depth=30, min_samples_leaf=1, min_samples_split=5, n_estimators=200; total time=   0.7s\n",
            "[CV] END max_depth=30, min_samples_leaf=1, min_samples_split=5, n_estimators=300; total time=   1.1s\n",
            "[CV] END max_depth=30, min_samples_leaf=1, min_samples_split=5, n_estimators=300; total time=   1.1s\n",
            "[CV] END max_depth=30, min_samples_leaf=1, min_samples_split=5, n_estimators=300; total time=   1.1s\n",
            "[CV] END max_depth=30, min_samples_leaf=1, min_samples_split=5, n_estimators=300; total time=   1.1s\n",
            "[CV] END max_depth=30, min_samples_leaf=1, min_samples_split=5, n_estimators=300; total time=   1.1s\n",
            "[CV] END max_depth=30, min_samples_leaf=1, min_samples_split=10, n_estimators=100; total time=   0.2s\n",
            "[CV] END max_depth=30, min_samples_leaf=1, min_samples_split=10, n_estimators=100; total time=   0.2s\n",
            "[CV] END max_depth=30, min_samples_leaf=1, min_samples_split=10, n_estimators=100; total time=   0.2s\n",
            "[CV] END max_depth=30, min_samples_leaf=1, min_samples_split=10, n_estimators=100; total time=   0.2s\n",
            "[CV] END max_depth=30, min_samples_leaf=1, min_samples_split=10, n_estimators=100; total time=   0.2s\n",
            "[CV] END max_depth=30, min_samples_leaf=1, min_samples_split=10, n_estimators=200; total time=   0.6s\n",
            "[CV] END max_depth=30, min_samples_leaf=1, min_samples_split=10, n_estimators=200; total time=   0.5s\n",
            "[CV] END max_depth=30, min_samples_leaf=1, min_samples_split=10, n_estimators=200; total time=   0.6s\n",
            "[CV] END max_depth=30, min_samples_leaf=1, min_samples_split=10, n_estimators=200; total time=   0.6s\n",
            "[CV] END max_depth=30, min_samples_leaf=1, min_samples_split=10, n_estimators=200; total time=   0.6s\n",
            "[CV] END max_depth=30, min_samples_leaf=1, min_samples_split=10, n_estimators=300; total time=   0.9s\n",
            "[CV] END max_depth=30, min_samples_leaf=1, min_samples_split=10, n_estimators=300; total time=   0.9s\n",
            "[CV] END max_depth=30, min_samples_leaf=1, min_samples_split=10, n_estimators=300; total time=   0.8s\n",
            "[CV] END max_depth=30, min_samples_leaf=1, min_samples_split=10, n_estimators=300; total time=   0.9s\n",
            "[CV] END max_depth=30, min_samples_leaf=1, min_samples_split=10, n_estimators=300; total time=   0.9s\n",
            "[CV] END max_depth=30, min_samples_leaf=2, min_samples_split=2, n_estimators=100; total time=   0.3s\n",
            "[CV] END max_depth=30, min_samples_leaf=2, min_samples_split=2, n_estimators=100; total time=   0.3s\n",
            "[CV] END max_depth=30, min_samples_leaf=2, min_samples_split=2, n_estimators=100; total time=   0.3s\n",
            "[CV] END max_depth=30, min_samples_leaf=2, min_samples_split=2, n_estimators=100; total time=   0.3s\n",
            "[CV] END max_depth=30, min_samples_leaf=2, min_samples_split=2, n_estimators=100; total time=   0.3s\n",
            "[CV] END max_depth=30, min_samples_leaf=2, min_samples_split=2, n_estimators=200; total time=   0.7s\n",
            "[CV] END max_depth=30, min_samples_leaf=2, min_samples_split=2, n_estimators=200; total time=   0.7s\n",
            "[CV] END max_depth=30, min_samples_leaf=2, min_samples_split=2, n_estimators=200; total time=   0.7s\n",
            "[CV] END max_depth=30, min_samples_leaf=2, min_samples_split=2, n_estimators=200; total time=   0.7s\n",
            "[CV] END max_depth=30, min_samples_leaf=2, min_samples_split=2, n_estimators=200; total time=   0.7s\n",
            "[CV] END max_depth=30, min_samples_leaf=2, min_samples_split=2, n_estimators=300; total time=   1.1s\n",
            "[CV] END max_depth=30, min_samples_leaf=2, min_samples_split=2, n_estimators=300; total time=   1.0s\n",
            "[CV] END max_depth=30, min_samples_leaf=2, min_samples_split=2, n_estimators=300; total time=   1.0s\n",
            "[CV] END max_depth=30, min_samples_leaf=2, min_samples_split=2, n_estimators=300; total time=   1.1s\n",
            "[CV] END max_depth=30, min_samples_leaf=2, min_samples_split=2, n_estimators=300; total time=   1.1s\n",
            "[CV] END max_depth=30, min_samples_leaf=2, min_samples_split=5, n_estimators=100; total time=   0.3s\n",
            "[CV] END max_depth=30, min_samples_leaf=2, min_samples_split=5, n_estimators=100; total time=   0.3s\n",
            "[CV] END max_depth=30, min_samples_leaf=2, min_samples_split=5, n_estimators=100; total time=   0.3s\n",
            "[CV] END max_depth=30, min_samples_leaf=2, min_samples_split=5, n_estimators=100; total time=   0.3s\n",
            "[CV] END max_depth=30, min_samples_leaf=2, min_samples_split=5, n_estimators=100; total time=   0.3s\n",
            "[CV] END max_depth=30, min_samples_leaf=2, min_samples_split=5, n_estimators=200; total time=   0.6s\n",
            "[CV] END max_depth=30, min_samples_leaf=2, min_samples_split=5, n_estimators=200; total time=   0.6s\n",
            "[CV] END max_depth=30, min_samples_leaf=2, min_samples_split=5, n_estimators=200; total time=   0.7s\n",
            "[CV] END max_depth=30, min_samples_leaf=2, min_samples_split=5, n_estimators=200; total time=   0.6s\n",
            "[CV] END max_depth=30, min_samples_leaf=2, min_samples_split=5, n_estimators=200; total time=   0.7s\n",
            "[CV] END max_depth=30, min_samples_leaf=2, min_samples_split=5, n_estimators=300; total time=   1.0s\n",
            "[CV] END max_depth=30, min_samples_leaf=2, min_samples_split=5, n_estimators=300; total time=   1.0s\n",
            "[CV] END max_depth=30, min_samples_leaf=2, min_samples_split=5, n_estimators=300; total time=   1.0s\n",
            "[CV] END max_depth=30, min_samples_leaf=2, min_samples_split=5, n_estimators=300; total time=   1.0s\n",
            "[CV] END max_depth=30, min_samples_leaf=2, min_samples_split=5, n_estimators=300; total time=   1.0s\n",
            "[CV] END max_depth=30, min_samples_leaf=2, min_samples_split=10, n_estimators=100; total time=   0.2s\n",
            "[CV] END max_depth=30, min_samples_leaf=2, min_samples_split=10, n_estimators=100; total time=   0.2s\n",
            "[CV] END max_depth=30, min_samples_leaf=2, min_samples_split=10, n_estimators=100; total time=   0.2s\n",
            "[CV] END max_depth=30, min_samples_leaf=2, min_samples_split=10, n_estimators=100; total time=   0.2s\n",
            "[CV] END max_depth=30, min_samples_leaf=2, min_samples_split=10, n_estimators=100; total time=   0.2s\n",
            "[CV] END max_depth=30, min_samples_leaf=2, min_samples_split=10, n_estimators=200; total time=   0.5s\n",
            "[CV] END max_depth=30, min_samples_leaf=2, min_samples_split=10, n_estimators=200; total time=   0.5s\n",
            "[CV] END max_depth=30, min_samples_leaf=2, min_samples_split=10, n_estimators=200; total time=   0.5s\n",
            "[CV] END max_depth=30, min_samples_leaf=2, min_samples_split=10, n_estimators=200; total time=   0.6s\n",
            "[CV] END max_depth=30, min_samples_leaf=2, min_samples_split=10, n_estimators=200; total time=   0.6s\n",
            "[CV] END max_depth=30, min_samples_leaf=2, min_samples_split=10, n_estimators=300; total time=   0.9s\n",
            "[CV] END max_depth=30, min_samples_leaf=2, min_samples_split=10, n_estimators=300; total time=   0.8s\n",
            "[CV] END max_depth=30, min_samples_leaf=2, min_samples_split=10, n_estimators=300; total time=   0.8s\n",
            "[CV] END max_depth=30, min_samples_leaf=2, min_samples_split=10, n_estimators=300; total time=   0.8s\n",
            "[CV] END max_depth=30, min_samples_leaf=2, min_samples_split=10, n_estimators=300; total time=   0.8s\n",
            "[CV] END max_depth=30, min_samples_leaf=4, min_samples_split=2, n_estimators=100; total time=   0.2s\n",
            "[CV] END max_depth=30, min_samples_leaf=4, min_samples_split=2, n_estimators=100; total time=   0.2s\n",
            "[CV] END max_depth=30, min_samples_leaf=4, min_samples_split=2, n_estimators=100; total time=   0.2s\n",
            "[CV] END max_depth=30, min_samples_leaf=4, min_samples_split=2, n_estimators=100; total time=   0.2s\n",
            "[CV] END max_depth=30, min_samples_leaf=4, min_samples_split=2, n_estimators=100; total time=   0.2s\n",
            "[CV] END max_depth=30, min_samples_leaf=4, min_samples_split=2, n_estimators=200; total time=   0.5s\n",
            "[CV] END max_depth=30, min_samples_leaf=4, min_samples_split=2, n_estimators=200; total time=   0.5s\n",
            "[CV] END max_depth=30, min_samples_leaf=4, min_samples_split=2, n_estimators=200; total time=   0.5s\n",
            "[CV] END max_depth=30, min_samples_leaf=4, min_samples_split=2, n_estimators=200; total time=   0.5s\n",
            "[CV] END max_depth=30, min_samples_leaf=4, min_samples_split=2, n_estimators=200; total time=   0.5s\n",
            "[CV] END max_depth=30, min_samples_leaf=4, min_samples_split=2, n_estimators=300; total time=   0.8s\n",
            "[CV] END max_depth=30, min_samples_leaf=4, min_samples_split=2, n_estimators=300; total time=   0.8s\n",
            "[CV] END max_depth=30, min_samples_leaf=4, min_samples_split=2, n_estimators=300; total time=   0.8s\n",
            "[CV] END max_depth=30, min_samples_leaf=4, min_samples_split=2, n_estimators=300; total time=   0.8s\n"
          ]
        },
        {
          "name": "stdout",
          "output_type": "stream",
          "text": [
            "[CV] END max_depth=30, min_samples_leaf=4, min_samples_split=2, n_estimators=300; total time=   0.8s\n",
            "[CV] END max_depth=30, min_samples_leaf=4, min_samples_split=5, n_estimators=100; total time=   0.2s\n",
            "[CV] END max_depth=30, min_samples_leaf=4, min_samples_split=5, n_estimators=100; total time=   0.2s\n",
            "[CV] END max_depth=30, min_samples_leaf=4, min_samples_split=5, n_estimators=100; total time=   0.2s\n",
            "[CV] END max_depth=30, min_samples_leaf=4, min_samples_split=5, n_estimators=100; total time=   0.2s\n",
            "[CV] END max_depth=30, min_samples_leaf=4, min_samples_split=5, n_estimators=100; total time=   0.2s\n",
            "[CV] END max_depth=30, min_samples_leaf=4, min_samples_split=5, n_estimators=200; total time=   0.5s\n",
            "[CV] END max_depth=30, min_samples_leaf=4, min_samples_split=5, n_estimators=200; total time=   0.5s\n",
            "[CV] END max_depth=30, min_samples_leaf=4, min_samples_split=5, n_estimators=200; total time=   0.5s\n",
            "[CV] END max_depth=30, min_samples_leaf=4, min_samples_split=5, n_estimators=200; total time=   0.5s\n",
            "[CV] END max_depth=30, min_samples_leaf=4, min_samples_split=5, n_estimators=200; total time=   0.5s\n",
            "[CV] END max_depth=30, min_samples_leaf=4, min_samples_split=5, n_estimators=300; total time=   0.8s\n",
            "[CV] END max_depth=30, min_samples_leaf=4, min_samples_split=5, n_estimators=300; total time=   0.8s\n",
            "[CV] END max_depth=30, min_samples_leaf=4, min_samples_split=5, n_estimators=300; total time=   0.8s\n",
            "[CV] END max_depth=30, min_samples_leaf=4, min_samples_split=5, n_estimators=300; total time=   0.8s\n",
            "[CV] END max_depth=30, min_samples_leaf=4, min_samples_split=5, n_estimators=300; total time=   0.8s\n",
            "[CV] END max_depth=30, min_samples_leaf=4, min_samples_split=10, n_estimators=100; total time=   0.2s\n",
            "[CV] END max_depth=30, min_samples_leaf=4, min_samples_split=10, n_estimators=100; total time=   0.2s\n",
            "[CV] END max_depth=30, min_samples_leaf=4, min_samples_split=10, n_estimators=100; total time=   0.2s\n",
            "[CV] END max_depth=30, min_samples_leaf=4, min_samples_split=10, n_estimators=100; total time=   0.2s\n",
            "[CV] END max_depth=30, min_samples_leaf=4, min_samples_split=10, n_estimators=100; total time=   0.2s\n",
            "[CV] END max_depth=30, min_samples_leaf=4, min_samples_split=10, n_estimators=200; total time=   0.5s\n",
            "[CV] END max_depth=30, min_samples_leaf=4, min_samples_split=10, n_estimators=200; total time=   0.4s\n",
            "[CV] END max_depth=30, min_samples_leaf=4, min_samples_split=10, n_estimators=200; total time=   0.5s\n",
            "[CV] END max_depth=30, min_samples_leaf=4, min_samples_split=10, n_estimators=200; total time=   0.5s\n",
            "[CV] END max_depth=30, min_samples_leaf=4, min_samples_split=10, n_estimators=200; total time=   0.5s\n",
            "[CV] END max_depth=30, min_samples_leaf=4, min_samples_split=10, n_estimators=300; total time=   0.7s\n",
            "[CV] END max_depth=30, min_samples_leaf=4, min_samples_split=10, n_estimators=300; total time=   0.8s\n",
            "[CV] END max_depth=30, min_samples_leaf=4, min_samples_split=10, n_estimators=300; total time=   0.8s\n",
            "[CV] END max_depth=30, min_samples_leaf=4, min_samples_split=10, n_estimators=300; total time=   0.8s\n",
            "[CV] END max_depth=30, min_samples_leaf=4, min_samples_split=10, n_estimators=300; total time=   0.8s\n",
            "[CV] END max_depth=30, min_samples_leaf=8, min_samples_split=2, n_estimators=100; total time=   0.2s\n",
            "[CV] END max_depth=30, min_samples_leaf=8, min_samples_split=2, n_estimators=100; total time=   0.1s\n",
            "[CV] END max_depth=30, min_samples_leaf=8, min_samples_split=2, n_estimators=100; total time=   0.2s\n",
            "[CV] END max_depth=30, min_samples_leaf=8, min_samples_split=2, n_estimators=100; total time=   0.1s\n",
            "[CV] END max_depth=30, min_samples_leaf=8, min_samples_split=2, n_estimators=100; total time=   0.2s\n",
            "[CV] END max_depth=30, min_samples_leaf=8, min_samples_split=2, n_estimators=200; total time=   0.4s\n",
            "[CV] END max_depth=30, min_samples_leaf=8, min_samples_split=2, n_estimators=200; total time=   0.4s\n",
            "[CV] END max_depth=30, min_samples_leaf=8, min_samples_split=2, n_estimators=200; total time=   0.4s\n",
            "[CV] END max_depth=30, min_samples_leaf=8, min_samples_split=2, n_estimators=200; total time=   0.4s\n",
            "[CV] END max_depth=30, min_samples_leaf=8, min_samples_split=2, n_estimators=200; total time=   0.4s\n",
            "[CV] END max_depth=30, min_samples_leaf=8, min_samples_split=2, n_estimators=300; total time=   0.6s\n",
            "[CV] END max_depth=30, min_samples_leaf=8, min_samples_split=2, n_estimators=300; total time=   0.6s\n",
            "[CV] END max_depth=30, min_samples_leaf=8, min_samples_split=2, n_estimators=300; total time=   0.6s\n",
            "[CV] END max_depth=30, min_samples_leaf=8, min_samples_split=2, n_estimators=300; total time=   0.6s\n",
            "[CV] END max_depth=30, min_samples_leaf=8, min_samples_split=2, n_estimators=300; total time=   0.6s\n",
            "[CV] END max_depth=30, min_samples_leaf=8, min_samples_split=5, n_estimators=100; total time=   0.1s\n",
            "[CV] END max_depth=30, min_samples_leaf=8, min_samples_split=5, n_estimators=100; total time=   0.1s\n",
            "[CV] END max_depth=30, min_samples_leaf=8, min_samples_split=5, n_estimators=100; total time=   0.1s\n",
            "[CV] END max_depth=30, min_samples_leaf=8, min_samples_split=5, n_estimators=100; total time=   0.2s\n",
            "[CV] END max_depth=30, min_samples_leaf=8, min_samples_split=5, n_estimators=100; total time=   0.1s\n",
            "[CV] END max_depth=30, min_samples_leaf=8, min_samples_split=5, n_estimators=200; total time=   0.4s\n",
            "[CV] END max_depth=30, min_samples_leaf=8, min_samples_split=5, n_estimators=200; total time=   0.4s\n",
            "[CV] END max_depth=30, min_samples_leaf=8, min_samples_split=5, n_estimators=200; total time=   0.4s\n",
            "[CV] END max_depth=30, min_samples_leaf=8, min_samples_split=5, n_estimators=200; total time=   0.4s\n",
            "[CV] END max_depth=30, min_samples_leaf=8, min_samples_split=5, n_estimators=200; total time=   0.4s\n",
            "[CV] END max_depth=30, min_samples_leaf=8, min_samples_split=5, n_estimators=300; total time=   0.6s\n",
            "[CV] END max_depth=30, min_samples_leaf=8, min_samples_split=5, n_estimators=300; total time=   0.6s\n",
            "[CV] END max_depth=30, min_samples_leaf=8, min_samples_split=5, n_estimators=300; total time=   0.6s\n",
            "[CV] END max_depth=30, min_samples_leaf=8, min_samples_split=5, n_estimators=300; total time=   0.6s\n",
            "[CV] END max_depth=30, min_samples_leaf=8, min_samples_split=5, n_estimators=300; total time=   0.6s\n",
            "[CV] END max_depth=30, min_samples_leaf=8, min_samples_split=10, n_estimators=100; total time=   0.1s\n",
            "[CV] END max_depth=30, min_samples_leaf=8, min_samples_split=10, n_estimators=100; total time=   0.1s\n",
            "[CV] END max_depth=30, min_samples_leaf=8, min_samples_split=10, n_estimators=100; total time=   0.1s\n",
            "[CV] END max_depth=30, min_samples_leaf=8, min_samples_split=10, n_estimators=100; total time=   0.2s\n",
            "[CV] END max_depth=30, min_samples_leaf=8, min_samples_split=10, n_estimators=100; total time=   0.2s\n",
            "[CV] END max_depth=30, min_samples_leaf=8, min_samples_split=10, n_estimators=200; total time=   0.4s\n",
            "[CV] END max_depth=30, min_samples_leaf=8, min_samples_split=10, n_estimators=200; total time=   0.4s\n",
            "[CV] END max_depth=30, min_samples_leaf=8, min_samples_split=10, n_estimators=200; total time=   0.4s\n",
            "[CV] END max_depth=30, min_samples_leaf=8, min_samples_split=10, n_estimators=200; total time=   0.4s\n",
            "[CV] END max_depth=30, min_samples_leaf=8, min_samples_split=10, n_estimators=200; total time=   0.4s\n",
            "[CV] END max_depth=30, min_samples_leaf=8, min_samples_split=10, n_estimators=300; total time=   0.6s\n",
            "[CV] END max_depth=30, min_samples_leaf=8, min_samples_split=10, n_estimators=300; total time=   0.6s\n",
            "[CV] END max_depth=30, min_samples_leaf=8, min_samples_split=10, n_estimators=300; total time=   0.6s\n",
            "[CV] END max_depth=30, min_samples_leaf=8, min_samples_split=10, n_estimators=300; total time=   0.6s\n",
            "[CV] END max_depth=30, min_samples_leaf=8, min_samples_split=10, n_estimators=300; total time=   0.6s\n",
            "[CV] END max_depth=30, min_samples_leaf=10, min_samples_split=2, n_estimators=100; total time=   0.1s\n",
            "[CV] END max_depth=30, min_samples_leaf=10, min_samples_split=2, n_estimators=100; total time=   0.1s\n",
            "[CV] END max_depth=30, min_samples_leaf=10, min_samples_split=2, n_estimators=100; total time=   0.1s\n",
            "[CV] END max_depth=30, min_samples_leaf=10, min_samples_split=2, n_estimators=100; total time=   0.1s\n",
            "[CV] END max_depth=30, min_samples_leaf=10, min_samples_split=2, n_estimators=100; total time=   0.1s\n"
          ]
        },
        {
          "name": "stdout",
          "output_type": "stream",
          "text": [
            "[CV] END max_depth=30, min_samples_leaf=10, min_samples_split=2, n_estimators=200; total time=   0.3s\n",
            "[CV] END max_depth=30, min_samples_leaf=10, min_samples_split=2, n_estimators=200; total time=   0.3s\n",
            "[CV] END max_depth=30, min_samples_leaf=10, min_samples_split=2, n_estimators=200; total time=   0.4s\n",
            "[CV] END max_depth=30, min_samples_leaf=10, min_samples_split=2, n_estimators=200; total time=   0.4s\n",
            "[CV] END max_depth=30, min_samples_leaf=10, min_samples_split=2, n_estimators=200; total time=   0.4s\n",
            "[CV] END max_depth=30, min_samples_leaf=10, min_samples_split=2, n_estimators=300; total time=   0.6s\n",
            "[CV] END max_depth=30, min_samples_leaf=10, min_samples_split=2, n_estimators=300; total time=   0.6s\n",
            "[CV] END max_depth=30, min_samples_leaf=10, min_samples_split=2, n_estimators=300; total time=   0.5s\n",
            "[CV] END max_depth=30, min_samples_leaf=10, min_samples_split=2, n_estimators=300; total time=   0.6s\n",
            "[CV] END max_depth=30, min_samples_leaf=10, min_samples_split=2, n_estimators=300; total time=   0.5s\n",
            "[CV] END max_depth=30, min_samples_leaf=10, min_samples_split=5, n_estimators=100; total time=   0.1s\n",
            "[CV] END max_depth=30, min_samples_leaf=10, min_samples_split=5, n_estimators=100; total time=   0.1s\n",
            "[CV] END max_depth=30, min_samples_leaf=10, min_samples_split=5, n_estimators=100; total time=   0.1s\n",
            "[CV] END max_depth=30, min_samples_leaf=10, min_samples_split=5, n_estimators=100; total time=   0.1s\n",
            "[CV] END max_depth=30, min_samples_leaf=10, min_samples_split=5, n_estimators=100; total time=   0.1s\n",
            "[CV] END max_depth=30, min_samples_leaf=10, min_samples_split=5, n_estimators=200; total time=   0.3s\n",
            "[CV] END max_depth=30, min_samples_leaf=10, min_samples_split=5, n_estimators=200; total time=   0.3s\n",
            "[CV] END max_depth=30, min_samples_leaf=10, min_samples_split=5, n_estimators=200; total time=   0.3s\n",
            "[CV] END max_depth=30, min_samples_leaf=10, min_samples_split=5, n_estimators=200; total time=   0.4s\n",
            "[CV] END max_depth=30, min_samples_leaf=10, min_samples_split=5, n_estimators=200; total time=   0.4s\n",
            "[CV] END max_depth=30, min_samples_leaf=10, min_samples_split=5, n_estimators=300; total time=   0.6s\n",
            "[CV] END max_depth=30, min_samples_leaf=10, min_samples_split=5, n_estimators=300; total time=   0.5s\n",
            "[CV] END max_depth=30, min_samples_leaf=10, min_samples_split=5, n_estimators=300; total time=   0.6s\n",
            "[CV] END max_depth=30, min_samples_leaf=10, min_samples_split=5, n_estimators=300; total time=   0.6s\n",
            "[CV] END max_depth=30, min_samples_leaf=10, min_samples_split=5, n_estimators=300; total time=   0.6s\n",
            "[CV] END max_depth=30, min_samples_leaf=10, min_samples_split=10, n_estimators=100; total time=   0.1s\n",
            "[CV] END max_depth=30, min_samples_leaf=10, min_samples_split=10, n_estimators=100; total time=   0.1s\n",
            "[CV] END max_depth=30, min_samples_leaf=10, min_samples_split=10, n_estimators=100; total time=   0.1s\n",
            "[CV] END max_depth=30, min_samples_leaf=10, min_samples_split=10, n_estimators=100; total time=   0.1s\n",
            "[CV] END max_depth=30, min_samples_leaf=10, min_samples_split=10, n_estimators=100; total time=   0.1s\n",
            "[CV] END max_depth=30, min_samples_leaf=10, min_samples_split=10, n_estimators=200; total time=   0.3s\n",
            "[CV] END max_depth=30, min_samples_leaf=10, min_samples_split=10, n_estimators=200; total time=   0.3s\n",
            "[CV] END max_depth=30, min_samples_leaf=10, min_samples_split=10, n_estimators=200; total time=   0.3s\n",
            "[CV] END max_depth=30, min_samples_leaf=10, min_samples_split=10, n_estimators=200; total time=   0.3s\n",
            "[CV] END max_depth=30, min_samples_leaf=10, min_samples_split=10, n_estimators=200; total time=   0.3s\n",
            "[CV] END max_depth=30, min_samples_leaf=10, min_samples_split=10, n_estimators=300; total time=   0.6s\n",
            "[CV] END max_depth=30, min_samples_leaf=10, min_samples_split=10, n_estimators=300; total time=   0.6s\n",
            "[CV] END max_depth=30, min_samples_leaf=10, min_samples_split=10, n_estimators=300; total time=   0.6s\n",
            "[CV] END max_depth=30, min_samples_leaf=10, min_samples_split=10, n_estimators=300; total time=   0.6s\n",
            "[CV] END max_depth=30, min_samples_leaf=10, min_samples_split=10, n_estimators=300; total time=   0.6s\n",
            "[CV] END max_depth=30, min_samples_leaf=12, min_samples_split=2, n_estimators=100; total time=   0.1s\n",
            "[CV] END max_depth=30, min_samples_leaf=12, min_samples_split=2, n_estimators=100; total time=   0.1s\n",
            "[CV] END max_depth=30, min_samples_leaf=12, min_samples_split=2, n_estimators=100; total time=   0.1s\n",
            "[CV] END max_depth=30, min_samples_leaf=12, min_samples_split=2, n_estimators=100; total time=   0.1s\n",
            "[CV] END max_depth=30, min_samples_leaf=12, min_samples_split=2, n_estimators=100; total time=   0.1s\n",
            "[CV] END max_depth=30, min_samples_leaf=12, min_samples_split=2, n_estimators=200; total time=   0.3s\n",
            "[CV] END max_depth=30, min_samples_leaf=12, min_samples_split=2, n_estimators=200; total time=   0.3s\n",
            "[CV] END max_depth=30, min_samples_leaf=12, min_samples_split=2, n_estimators=200; total time=   0.3s\n",
            "[CV] END max_depth=30, min_samples_leaf=12, min_samples_split=2, n_estimators=200; total time=   0.3s\n",
            "[CV] END max_depth=30, min_samples_leaf=12, min_samples_split=2, n_estimators=200; total time=   0.3s\n",
            "[CV] END max_depth=30, min_samples_leaf=12, min_samples_split=2, n_estimators=300; total time=   0.5s\n",
            "[CV] END max_depth=30, min_samples_leaf=12, min_samples_split=2, n_estimators=300; total time=   0.5s\n",
            "[CV] END max_depth=30, min_samples_leaf=12, min_samples_split=2, n_estimators=300; total time=   0.5s\n",
            "[CV] END max_depth=30, min_samples_leaf=12, min_samples_split=2, n_estimators=300; total time=   0.6s\n",
            "[CV] END max_depth=30, min_samples_leaf=12, min_samples_split=2, n_estimators=300; total time=   0.6s\n",
            "[CV] END max_depth=30, min_samples_leaf=12, min_samples_split=5, n_estimators=100; total time=   0.1s\n",
            "[CV] END max_depth=30, min_samples_leaf=12, min_samples_split=5, n_estimators=100; total time=   0.1s\n",
            "[CV] END max_depth=30, min_samples_leaf=12, min_samples_split=5, n_estimators=100; total time=   0.1s\n",
            "[CV] END max_depth=30, min_samples_leaf=12, min_samples_split=5, n_estimators=100; total time=   0.1s\n",
            "[CV] END max_depth=30, min_samples_leaf=12, min_samples_split=5, n_estimators=100; total time=   0.1s\n",
            "[CV] END max_depth=30, min_samples_leaf=12, min_samples_split=5, n_estimators=200; total time=   0.3s\n",
            "[CV] END max_depth=30, min_samples_leaf=12, min_samples_split=5, n_estimators=200; total time=   0.3s\n",
            "[CV] END max_depth=30, min_samples_leaf=12, min_samples_split=5, n_estimators=200; total time=   0.3s\n",
            "[CV] END max_depth=30, min_samples_leaf=12, min_samples_split=5, n_estimators=200; total time=   0.3s\n",
            "[CV] END max_depth=30, min_samples_leaf=12, min_samples_split=5, n_estimators=200; total time=   0.3s\n",
            "[CV] END max_depth=30, min_samples_leaf=12, min_samples_split=5, n_estimators=300; total time=   0.5s\n",
            "[CV] END max_depth=30, min_samples_leaf=12, min_samples_split=5, n_estimators=300; total time=   0.5s\n",
            "[CV] END max_depth=30, min_samples_leaf=12, min_samples_split=5, n_estimators=300; total time=   0.5s\n",
            "[CV] END max_depth=30, min_samples_leaf=12, min_samples_split=5, n_estimators=300; total time=   0.5s\n",
            "[CV] END max_depth=30, min_samples_leaf=12, min_samples_split=5, n_estimators=300; total time=   0.5s\n",
            "[CV] END max_depth=30, min_samples_leaf=12, min_samples_split=10, n_estimators=100; total time=   0.1s\n",
            "[CV] END max_depth=30, min_samples_leaf=12, min_samples_split=10, n_estimators=100; total time=   0.1s\n",
            "[CV] END max_depth=30, min_samples_leaf=12, min_samples_split=10, n_estimators=100; total time=   0.1s\n",
            "[CV] END max_depth=30, min_samples_leaf=12, min_samples_split=10, n_estimators=100; total time=   0.1s\n",
            "[CV] END max_depth=30, min_samples_leaf=12, min_samples_split=10, n_estimators=100; total time=   0.1s\n",
            "[CV] END max_depth=30, min_samples_leaf=12, min_samples_split=10, n_estimators=200; total time=   0.3s\n",
            "[CV] END max_depth=30, min_samples_leaf=12, min_samples_split=10, n_estimators=200; total time=   0.3s\n",
            "[CV] END max_depth=30, min_samples_leaf=12, min_samples_split=10, n_estimators=200; total time=   0.3s\n",
            "[CV] END max_depth=30, min_samples_leaf=12, min_samples_split=10, n_estimators=200; total time=   0.3s\n",
            "[CV] END max_depth=30, min_samples_leaf=12, min_samples_split=10, n_estimators=200; total time=   0.3s\n",
            "[CV] END max_depth=30, min_samples_leaf=12, min_samples_split=10, n_estimators=300; total time=   0.5s\n"
          ]
        },
        {
          "name": "stdout",
          "output_type": "stream",
          "text": [
            "[CV] END max_depth=30, min_samples_leaf=12, min_samples_split=10, n_estimators=300; total time=   0.5s\n",
            "[CV] END max_depth=30, min_samples_leaf=12, min_samples_split=10, n_estimators=300; total time=   0.5s\n",
            "[CV] END max_depth=30, min_samples_leaf=12, min_samples_split=10, n_estimators=300; total time=   0.5s\n",
            "[CV] END max_depth=30, min_samples_leaf=12, min_samples_split=10, n_estimators=300; total time=   0.5s\n",
            "Best parameters for random forest regressor:  {'max_depth': 20, 'min_samples_leaf': 4, 'min_samples_split': 2, 'n_estimators': 200} \n",
            "\n"
          ]
        }
      ],
      "source": [
        "# create a dictionary with hyperparameters and its values\n",
        "# pass the criteria 'entropy' and 'gini' to the parameter, 'criterion'\n",
        "# pass a list of values to 'n_estimators' to build the different number of trees in the random forest\n",
        "# pass a list of values to 'max_depth' that assigns maximum depth of the tree\n",
        "# 'max_features' assigns maximum number of features to consider for the best split. We pass the string 'sqrt' and 'log2'\n",
        "# 'sqrt' considers maximum number of features equal to the square root of total features\n",
        "# 'log2' considers maximum number of features equal to the log of total features with base 2\n",
        "# pass a list of values to 'min_samples_split' that assigns minimum number of samples to split an internal node\n",
        "# pass a list of values to 'min_samples_leaf' that assigns minimum number of samples required at the terminal/leaf node\n",
        "# pass a list of values to 'max_leaf_nodes' that assigns maximum number of leaf nodes in the tree\n",
        "tuned_parameters = {\n",
        "    'n_estimators': [100, 200, 300],\n",
        "    'max_depth': [10, 20, 30],\n",
        "    'min_samples_split': [2, 5, 10],\n",
        "    'min_samples_leaf': [1, 2, 4,8,10,12]\n",
        "}\n",
        "\n",
        "\n",
        "# instantiate the 'RandomForestClassifier'\n",
        "# pass the 'random_state' to obtain the same samples for each time you run the code\n",
        "random_forest_regressor = RandomForestRegressor(random_state = 42)\n",
        "\n",
        "print(random_forest_regressor.get_params())\n",
        "\n",
        "# use GridSearchCV() to find the optimal value of the hyperparameters\n",
        "# estimator: pass the random forest classifier model\n",
        "# param_grid: pass the list 'tuned_parameters'\n",
        "# cv: number of folds in k-fold i.e. here cv = 5\n",
        "rf_grid = GridSearchCV(estimator = random_forest_regressor,\n",
        "                       param_grid = tuned_parameters,\n",
        "                       cv = 5,verbose=2)\n",
        "\n",
        "# use fit() to fit the model on the train set\n",
        "rf_grid_model = rf_grid.fit(X_train, y_train)\n",
        "\n",
        "# get the best parameters\n",
        "print('Best parameters for random forest regressor: ', rf_grid_model.best_params_, '\\n')\n"
      ]
    },
    {
      "cell_type": "code",
      "execution_count": null,
      "id": "0d93ba73",
      "metadata": {
        "id": "0d93ba73",
        "outputId": "893dbb02-e04a-4e58-c284-34df8948b29f"
      },
      "outputs": [
        {
          "name": "stdout",
          "output_type": "stream",
          "text": [
            "RMSE on train set:  0.031278776295926104\n",
            "RMSE on test set:  0.04551421453739501\n",
            "Difference between RMSE on train and test set:  0.0233\n"
          ]
        }
      ],
      "source": [
        "# print training RMSE\n",
        "print('RMSE on train set: ', get_train_rmse(rf_grid_model))\n",
        "\n",
        "# print training RMSE\n",
        "print('RMSE on test set: ', get_test_rmse(rf_grid_model))\n",
        "\n",
        "# print the difference between train and test set RMSE\n",
        "print('Difference between RMSE on train and test set: ', difference)"
      ]
    },
    {
      "cell_type": "markdown",
      "id": "8096f057",
      "metadata": {
        "id": "8096f057"
      },
      "source": [
        "#### Build the model using the tuned hyperparameters."
      ]
    },
    {
      "cell_type": "code",
      "execution_count": null,
      "id": "0d895e9b",
      "metadata": {
        "id": "0d895e9b",
        "outputId": "c2984e63-5fac-4f8d-aa3c-763e401646f3"
      },
      "outputs": [
        {
          "name": "stdout",
          "output_type": "stream",
          "text": [
            "Classification Report for test set:\n",
            " 0.04551421453739501\n"
          ]
        }
      ],
      "source": [
        "# instantiate the 'RandomForestClassifier'\n",
        "# 'best_params_' returns the dictionary containing best parameter values and parameter name\n",
        "# 'get()' returns the value of specified parameter\n",
        "# pass the 'random_state' to obtain the same samples for each time you run the code\n",
        "rf_model = RandomForestRegressor(n_estimators = rf_grid_model.best_params_.get('n_estimators'),\n",
        "                                  max_depth = rf_grid_model.best_params_.get('max_depth'),\n",
        "                                  max_features = rf_grid_model.best_params_.get('max_features'),\n",
        "                                  max_leaf_nodes = rf_grid_model.best_params_.get('max_leaf_nodes'),\n",
        "                                  min_samples_leaf = rf_grid_model.best_params_.get('min_samples_leaf'),\n",
        "                                  min_samples_split = rf_grid_model.best_params_.get('min_samples_split'),\n",
        "                                  random_state = 42)\n",
        "\n",
        "# use fit() to fit the model on the train set\n",
        "rf_model = rf_model.fit(X_train, y_train)\n",
        "\n",
        "# print the performance measures for test set for the model with best parameters\n",
        "print('Classification Report for test set:\\n', get_test_rmse(rf_model))"
      ]
    },
    {
      "cell_type": "markdown",
      "id": "dfb09c72",
      "metadata": {
        "id": "dfb09c72"
      },
      "source": [
        "<a id=\"features\"></a>\n",
        "## 5.2 Identify the Important Features"
      ]
    },
    {
      "cell_type": "code",
      "execution_count": null,
      "id": "10722a05",
      "metadata": {
        "id": "10722a05",
        "outputId": "bdc1f6d3-1381-4e46-f0c9-1b2d76f6c8de"
      },
      "outputs": [
        {
          "data": {
            "image/png": "[encoded data removed]",
            "text/plain": [
              "<Figure size 640x480 with 1 Axes>"
            ]
          },
          "metadata": {},
          "output_type": "display_data"
        }
      ],
      "source": [
        "# create a dataframe that stores the feature names and their importance\n",
        "# 'feature_importances_' returns the features based on the gini importance\n",
        "important_features = pd.DataFrame({'Features': X_train.columns,\n",
        "                                   'Importance': rf_model.feature_importances_})\n",
        "\n",
        "# sort the dataframe in the descending order according to the feature importance\n",
        "important_features = important_features.sort_values('Importance', ascending = False)\n",
        "\n",
        "# create a barplot to visualize the features based on their importance\n",
        "sns.barplot(x = 'Importance', y = 'Features', data = important_features)\n",
        "\n",
        "# add plot and axes labels\n",
        "# set text size using 'fontsize'\n",
        "plt.title('Feature Importance', fontsize = 15)\n",
        "plt.xlabel('Importance', fontsize = 15)\n",
        "plt.ylabel('Features', fontsize = 15)\n",
        "\n",
        "# display the plot\n",
        "plt.show()"
      ]
    },
    {
      "cell_type": "markdown",
      "id": "80d80074",
      "metadata": {
        "id": "80d80074"
      },
      "source": [
        "**Interpretation:**\n",
        "- The  campaign_fee and hour_resources are the primary drivers in the random forest model's predictions.\n",
        "- price has minimal importance compared to the top two features.\n",
        "- The remaining features (email_rate, discount_rate, campaign_type, resource_amount, product_level, campaign_level, limit_infor)   have negligible importance in the model."
      ]
    }
  ],
  "metadata": {
    "kernelspec": {
      "display_name": "Python 3 (ipykernel)",
      "language": "python",
      "name": "python3"
    },
    "language_info": {
      "codemirror_mode": {
        "name": "ipython",
        "version": 3
      },
      "file_extension": ".py",
      "mimetype": "text/x-python",
      "name": "python",
      "nbconvert_exporter": "python",
      "pygments_lexer": "ipython3",
      "version": "3.11.5"
    },
    "colab": {
      "provenance": []
    }
  },
  "nbformat": 4,
  "nbformat_minor": 5
}